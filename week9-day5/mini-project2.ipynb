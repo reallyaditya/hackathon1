{
 "cells": [
  {
   "cell_type": "code",
   "execution_count": 2,
   "metadata": {},
   "outputs": [
    {
     "name": "stdout",
     "output_type": "stream",
     "text": [
      "Dataset URL: https://www.kaggle.com/datasets/unsdsn/world-happiness\n"
     ]
    }
   ],
   "source": [
    "import kaggle\n",
    "\n",
    "kaggle.api.dataset_download_files('unsdsn/world-happiness', path='data', unzip=True)"
   ]
  },
  {
   "cell_type": "code",
   "execution_count": 4,
   "metadata": {},
   "outputs": [
    {
     "data": {
      "text/html": [
       "<div>\n",
       "<style scoped>\n",
       "    .dataframe tbody tr th:only-of-type {\n",
       "        vertical-align: middle;\n",
       "    }\n",
       "\n",
       "    .dataframe tbody tr th {\n",
       "        vertical-align: top;\n",
       "    }\n",
       "\n",
       "    .dataframe thead th {\n",
       "        text-align: right;\n",
       "    }\n",
       "</style>\n",
       "<table border=\"1\" class=\"dataframe\">\n",
       "  <thead>\n",
       "    <tr style=\"text-align: right;\">\n",
       "      <th></th>\n",
       "      <th>Country</th>\n",
       "      <th>Region</th>\n",
       "      <th>Happiness Rank</th>\n",
       "      <th>Happiness Score</th>\n",
       "      <th>Lower Confidence Interval</th>\n",
       "      <th>Upper Confidence Interval</th>\n",
       "      <th>Economy (GDP per Capita)</th>\n",
       "      <th>Family</th>\n",
       "      <th>Health (Life Expectancy)</th>\n",
       "      <th>Freedom</th>\n",
       "      <th>Trust (Government Corruption)</th>\n",
       "      <th>Generosity</th>\n",
       "      <th>Dystopia Residual</th>\n",
       "    </tr>\n",
       "  </thead>\n",
       "  <tbody>\n",
       "    <tr>\n",
       "      <th>0</th>\n",
       "      <td>Denmark</td>\n",
       "      <td>Western Europe</td>\n",
       "      <td>1</td>\n",
       "      <td>7.526</td>\n",
       "      <td>7.460</td>\n",
       "      <td>7.592</td>\n",
       "      <td>1.44178</td>\n",
       "      <td>1.16374</td>\n",
       "      <td>0.79504</td>\n",
       "      <td>0.57941</td>\n",
       "      <td>0.44453</td>\n",
       "      <td>0.36171</td>\n",
       "      <td>2.73939</td>\n",
       "    </tr>\n",
       "    <tr>\n",
       "      <th>1</th>\n",
       "      <td>Switzerland</td>\n",
       "      <td>Western Europe</td>\n",
       "      <td>2</td>\n",
       "      <td>7.509</td>\n",
       "      <td>7.428</td>\n",
       "      <td>7.590</td>\n",
       "      <td>1.52733</td>\n",
       "      <td>1.14524</td>\n",
       "      <td>0.86303</td>\n",
       "      <td>0.58557</td>\n",
       "      <td>0.41203</td>\n",
       "      <td>0.28083</td>\n",
       "      <td>2.69463</td>\n",
       "    </tr>\n",
       "    <tr>\n",
       "      <th>2</th>\n",
       "      <td>Iceland</td>\n",
       "      <td>Western Europe</td>\n",
       "      <td>3</td>\n",
       "      <td>7.501</td>\n",
       "      <td>7.333</td>\n",
       "      <td>7.669</td>\n",
       "      <td>1.42666</td>\n",
       "      <td>1.18326</td>\n",
       "      <td>0.86733</td>\n",
       "      <td>0.56624</td>\n",
       "      <td>0.14975</td>\n",
       "      <td>0.47678</td>\n",
       "      <td>2.83137</td>\n",
       "    </tr>\n",
       "    <tr>\n",
       "      <th>3</th>\n",
       "      <td>Norway</td>\n",
       "      <td>Western Europe</td>\n",
       "      <td>4</td>\n",
       "      <td>7.498</td>\n",
       "      <td>7.421</td>\n",
       "      <td>7.575</td>\n",
       "      <td>1.57744</td>\n",
       "      <td>1.12690</td>\n",
       "      <td>0.79579</td>\n",
       "      <td>0.59609</td>\n",
       "      <td>0.35776</td>\n",
       "      <td>0.37895</td>\n",
       "      <td>2.66465</td>\n",
       "    </tr>\n",
       "    <tr>\n",
       "      <th>4</th>\n",
       "      <td>Finland</td>\n",
       "      <td>Western Europe</td>\n",
       "      <td>5</td>\n",
       "      <td>7.413</td>\n",
       "      <td>7.351</td>\n",
       "      <td>7.475</td>\n",
       "      <td>1.40598</td>\n",
       "      <td>1.13464</td>\n",
       "      <td>0.81091</td>\n",
       "      <td>0.57104</td>\n",
       "      <td>0.41004</td>\n",
       "      <td>0.25492</td>\n",
       "      <td>2.82596</td>\n",
       "    </tr>\n",
       "    <tr>\n",
       "      <th>...</th>\n",
       "      <td>...</td>\n",
       "      <td>...</td>\n",
       "      <td>...</td>\n",
       "      <td>...</td>\n",
       "      <td>...</td>\n",
       "      <td>...</td>\n",
       "      <td>...</td>\n",
       "      <td>...</td>\n",
       "      <td>...</td>\n",
       "      <td>...</td>\n",
       "      <td>...</td>\n",
       "      <td>...</td>\n",
       "      <td>...</td>\n",
       "    </tr>\n",
       "    <tr>\n",
       "      <th>152</th>\n",
       "      <td>Benin</td>\n",
       "      <td>Sub-Saharan Africa</td>\n",
       "      <td>153</td>\n",
       "      <td>3.484</td>\n",
       "      <td>3.404</td>\n",
       "      <td>3.564</td>\n",
       "      <td>0.39499</td>\n",
       "      <td>0.10419</td>\n",
       "      <td>0.21028</td>\n",
       "      <td>0.39747</td>\n",
       "      <td>0.06681</td>\n",
       "      <td>0.20180</td>\n",
       "      <td>2.10812</td>\n",
       "    </tr>\n",
       "    <tr>\n",
       "      <th>153</th>\n",
       "      <td>Afghanistan</td>\n",
       "      <td>Southern Asia</td>\n",
       "      <td>154</td>\n",
       "      <td>3.360</td>\n",
       "      <td>3.288</td>\n",
       "      <td>3.432</td>\n",
       "      <td>0.38227</td>\n",
       "      <td>0.11037</td>\n",
       "      <td>0.17344</td>\n",
       "      <td>0.16430</td>\n",
       "      <td>0.07112</td>\n",
       "      <td>0.31268</td>\n",
       "      <td>2.14558</td>\n",
       "    </tr>\n",
       "    <tr>\n",
       "      <th>154</th>\n",
       "      <td>Togo</td>\n",
       "      <td>Sub-Saharan Africa</td>\n",
       "      <td>155</td>\n",
       "      <td>3.303</td>\n",
       "      <td>3.192</td>\n",
       "      <td>3.414</td>\n",
       "      <td>0.28123</td>\n",
       "      <td>0.00000</td>\n",
       "      <td>0.24811</td>\n",
       "      <td>0.34678</td>\n",
       "      <td>0.11587</td>\n",
       "      <td>0.17517</td>\n",
       "      <td>2.13540</td>\n",
       "    </tr>\n",
       "    <tr>\n",
       "      <th>155</th>\n",
       "      <td>Syria</td>\n",
       "      <td>Middle East and Northern Africa</td>\n",
       "      <td>156</td>\n",
       "      <td>3.069</td>\n",
       "      <td>2.936</td>\n",
       "      <td>3.202</td>\n",
       "      <td>0.74719</td>\n",
       "      <td>0.14866</td>\n",
       "      <td>0.62994</td>\n",
       "      <td>0.06912</td>\n",
       "      <td>0.17233</td>\n",
       "      <td>0.48397</td>\n",
       "      <td>0.81789</td>\n",
       "    </tr>\n",
       "    <tr>\n",
       "      <th>156</th>\n",
       "      <td>Burundi</td>\n",
       "      <td>Sub-Saharan Africa</td>\n",
       "      <td>157</td>\n",
       "      <td>2.905</td>\n",
       "      <td>2.732</td>\n",
       "      <td>3.078</td>\n",
       "      <td>0.06831</td>\n",
       "      <td>0.23442</td>\n",
       "      <td>0.15747</td>\n",
       "      <td>0.04320</td>\n",
       "      <td>0.09419</td>\n",
       "      <td>0.20290</td>\n",
       "      <td>2.10404</td>\n",
       "    </tr>\n",
       "  </tbody>\n",
       "</table>\n",
       "<p>157 rows × 13 columns</p>\n",
       "</div>"
      ],
      "text/plain": [
       "         Country                           Region  Happiness Rank  \\\n",
       "0        Denmark                   Western Europe               1   \n",
       "1    Switzerland                   Western Europe               2   \n",
       "2        Iceland                   Western Europe               3   \n",
       "3         Norway                   Western Europe               4   \n",
       "4        Finland                   Western Europe               5   \n",
       "..           ...                              ...             ...   \n",
       "152        Benin               Sub-Saharan Africa             153   \n",
       "153  Afghanistan                    Southern Asia             154   \n",
       "154         Togo               Sub-Saharan Africa             155   \n",
       "155        Syria  Middle East and Northern Africa             156   \n",
       "156      Burundi               Sub-Saharan Africa             157   \n",
       "\n",
       "     Happiness Score  Lower Confidence Interval  Upper Confidence Interval  \\\n",
       "0              7.526                      7.460                      7.592   \n",
       "1              7.509                      7.428                      7.590   \n",
       "2              7.501                      7.333                      7.669   \n",
       "3              7.498                      7.421                      7.575   \n",
       "4              7.413                      7.351                      7.475   \n",
       "..               ...                        ...                        ...   \n",
       "152            3.484                      3.404                      3.564   \n",
       "153            3.360                      3.288                      3.432   \n",
       "154            3.303                      3.192                      3.414   \n",
       "155            3.069                      2.936                      3.202   \n",
       "156            2.905                      2.732                      3.078   \n",
       "\n",
       "     Economy (GDP per Capita)   Family  Health (Life Expectancy)  Freedom  \\\n",
       "0                     1.44178  1.16374                   0.79504  0.57941   \n",
       "1                     1.52733  1.14524                   0.86303  0.58557   \n",
       "2                     1.42666  1.18326                   0.86733  0.56624   \n",
       "3                     1.57744  1.12690                   0.79579  0.59609   \n",
       "4                     1.40598  1.13464                   0.81091  0.57104   \n",
       "..                        ...      ...                       ...      ...   \n",
       "152                   0.39499  0.10419                   0.21028  0.39747   \n",
       "153                   0.38227  0.11037                   0.17344  0.16430   \n",
       "154                   0.28123  0.00000                   0.24811  0.34678   \n",
       "155                   0.74719  0.14866                   0.62994  0.06912   \n",
       "156                   0.06831  0.23442                   0.15747  0.04320   \n",
       "\n",
       "     Trust (Government Corruption)  Generosity  Dystopia Residual  \n",
       "0                          0.44453     0.36171            2.73939  \n",
       "1                          0.41203     0.28083            2.69463  \n",
       "2                          0.14975     0.47678            2.83137  \n",
       "3                          0.35776     0.37895            2.66465  \n",
       "4                          0.41004     0.25492            2.82596  \n",
       "..                             ...         ...                ...  \n",
       "152                        0.06681     0.20180            2.10812  \n",
       "153                        0.07112     0.31268            2.14558  \n",
       "154                        0.11587     0.17517            2.13540  \n",
       "155                        0.17233     0.48397            0.81789  \n",
       "156                        0.09419     0.20290            2.10404  \n",
       "\n",
       "[157 rows x 13 columns]"
      ]
     },
     "execution_count": 4,
     "metadata": {},
     "output_type": "execute_result"
    }
   ],
   "source": [
    "import pandas as pd\n",
    "from plotnine import ggplot, aes, geom_bar, geom_point, labs, theme, scale_fill_manual\n",
    "import plotly.express as px\n",
    "\n",
    "# Load the World Happiness Report dataset\n",
    "happiness_report = pd.read_csv('data/2016.csv')\n",
    "happiness_report"
   ]
  },
  {
   "cell_type": "code",
   "execution_count": 2,
   "metadata": {},
   "outputs": [
    {
     "data": {
      "text/html": [
       "<div>\n",
       "<style scoped>\n",
       "    .dataframe tbody tr th:only-of-type {\n",
       "        vertical-align: middle;\n",
       "    }\n",
       "\n",
       "    .dataframe tbody tr th {\n",
       "        vertical-align: top;\n",
       "    }\n",
       "\n",
       "    .dataframe thead th {\n",
       "        text-align: right;\n",
       "    }\n",
       "</style>\n",
       "<table border=\"1\" class=\"dataframe\">\n",
       "  <thead>\n",
       "    <tr style=\"text-align: right;\">\n",
       "      <th></th>\n",
       "      <th>Happiness Rank</th>\n",
       "      <th>Happiness Score</th>\n",
       "      <th>Lower Confidence Interval</th>\n",
       "      <th>Upper Confidence Interval</th>\n",
       "      <th>Economy (GDP per Capita)</th>\n",
       "      <th>Family</th>\n",
       "      <th>Health (Life Expectancy)</th>\n",
       "      <th>Freedom</th>\n",
       "      <th>Trust (Government Corruption)</th>\n",
       "      <th>Generosity</th>\n",
       "      <th>Dystopia Residual</th>\n",
       "    </tr>\n",
       "  </thead>\n",
       "  <tbody>\n",
       "    <tr>\n",
       "      <th>count</th>\n",
       "      <td>157.000000</td>\n",
       "      <td>157.000000</td>\n",
       "      <td>157.000000</td>\n",
       "      <td>157.000000</td>\n",
       "      <td>157.000000</td>\n",
       "      <td>157.000000</td>\n",
       "      <td>157.000000</td>\n",
       "      <td>157.000000</td>\n",
       "      <td>157.000000</td>\n",
       "      <td>157.000000</td>\n",
       "      <td>157.000000</td>\n",
       "    </tr>\n",
       "    <tr>\n",
       "      <th>mean</th>\n",
       "      <td>78.980892</td>\n",
       "      <td>5.382185</td>\n",
       "      <td>5.282395</td>\n",
       "      <td>5.481975</td>\n",
       "      <td>0.953880</td>\n",
       "      <td>0.793621</td>\n",
       "      <td>0.557619</td>\n",
       "      <td>0.370994</td>\n",
       "      <td>0.137624</td>\n",
       "      <td>0.242635</td>\n",
       "      <td>2.325807</td>\n",
       "    </tr>\n",
       "    <tr>\n",
       "      <th>std</th>\n",
       "      <td>45.466030</td>\n",
       "      <td>1.141674</td>\n",
       "      <td>1.148043</td>\n",
       "      <td>1.136493</td>\n",
       "      <td>0.412595</td>\n",
       "      <td>0.266706</td>\n",
       "      <td>0.229349</td>\n",
       "      <td>0.145507</td>\n",
       "      <td>0.111038</td>\n",
       "      <td>0.133756</td>\n",
       "      <td>0.542220</td>\n",
       "    </tr>\n",
       "    <tr>\n",
       "      <th>min</th>\n",
       "      <td>1.000000</td>\n",
       "      <td>2.905000</td>\n",
       "      <td>2.732000</td>\n",
       "      <td>3.078000</td>\n",
       "      <td>0.000000</td>\n",
       "      <td>0.000000</td>\n",
       "      <td>0.000000</td>\n",
       "      <td>0.000000</td>\n",
       "      <td>0.000000</td>\n",
       "      <td>0.000000</td>\n",
       "      <td>0.817890</td>\n",
       "    </tr>\n",
       "    <tr>\n",
       "      <th>25%</th>\n",
       "      <td>40.000000</td>\n",
       "      <td>4.404000</td>\n",
       "      <td>4.327000</td>\n",
       "      <td>4.465000</td>\n",
       "      <td>0.670240</td>\n",
       "      <td>0.641840</td>\n",
       "      <td>0.382910</td>\n",
       "      <td>0.257480</td>\n",
       "      <td>0.061260</td>\n",
       "      <td>0.154570</td>\n",
       "      <td>2.031710</td>\n",
       "    </tr>\n",
       "    <tr>\n",
       "      <th>50%</th>\n",
       "      <td>79.000000</td>\n",
       "      <td>5.314000</td>\n",
       "      <td>5.237000</td>\n",
       "      <td>5.419000</td>\n",
       "      <td>1.027800</td>\n",
       "      <td>0.841420</td>\n",
       "      <td>0.596590</td>\n",
       "      <td>0.397470</td>\n",
       "      <td>0.105470</td>\n",
       "      <td>0.222450</td>\n",
       "      <td>2.290740</td>\n",
       "    </tr>\n",
       "    <tr>\n",
       "      <th>75%</th>\n",
       "      <td>118.000000</td>\n",
       "      <td>6.269000</td>\n",
       "      <td>6.154000</td>\n",
       "      <td>6.434000</td>\n",
       "      <td>1.279640</td>\n",
       "      <td>1.021520</td>\n",
       "      <td>0.729930</td>\n",
       "      <td>0.484530</td>\n",
       "      <td>0.175540</td>\n",
       "      <td>0.311850</td>\n",
       "      <td>2.664650</td>\n",
       "    </tr>\n",
       "    <tr>\n",
       "      <th>max</th>\n",
       "      <td>157.000000</td>\n",
       "      <td>7.526000</td>\n",
       "      <td>7.460000</td>\n",
       "      <td>7.669000</td>\n",
       "      <td>1.824270</td>\n",
       "      <td>1.183260</td>\n",
       "      <td>0.952770</td>\n",
       "      <td>0.608480</td>\n",
       "      <td>0.505210</td>\n",
       "      <td>0.819710</td>\n",
       "      <td>3.837720</td>\n",
       "    </tr>\n",
       "  </tbody>\n",
       "</table>\n",
       "</div>"
      ],
      "text/plain": [
       "       Happiness Rank  Happiness Score  Lower Confidence Interval  \\\n",
       "count      157.000000       157.000000                 157.000000   \n",
       "mean        78.980892         5.382185                   5.282395   \n",
       "std         45.466030         1.141674                   1.148043   \n",
       "min          1.000000         2.905000                   2.732000   \n",
       "25%         40.000000         4.404000                   4.327000   \n",
       "50%         79.000000         5.314000                   5.237000   \n",
       "75%        118.000000         6.269000                   6.154000   \n",
       "max        157.000000         7.526000                   7.460000   \n",
       "\n",
       "       Upper Confidence Interval  Economy (GDP per Capita)      Family  \\\n",
       "count                 157.000000                157.000000  157.000000   \n",
       "mean                    5.481975                  0.953880    0.793621   \n",
       "std                     1.136493                  0.412595    0.266706   \n",
       "min                     3.078000                  0.000000    0.000000   \n",
       "25%                     4.465000                  0.670240    0.641840   \n",
       "50%                     5.419000                  1.027800    0.841420   \n",
       "75%                     6.434000                  1.279640    1.021520   \n",
       "max                     7.669000                  1.824270    1.183260   \n",
       "\n",
       "       Health (Life Expectancy)     Freedom  Trust (Government Corruption)  \\\n",
       "count                157.000000  157.000000                     157.000000   \n",
       "mean                   0.557619    0.370994                       0.137624   \n",
       "std                    0.229349    0.145507                       0.111038   \n",
       "min                    0.000000    0.000000                       0.000000   \n",
       "25%                    0.382910    0.257480                       0.061260   \n",
       "50%                    0.596590    0.397470                       0.105470   \n",
       "75%                    0.729930    0.484530                       0.175540   \n",
       "max                    0.952770    0.608480                       0.505210   \n",
       "\n",
       "       Generosity  Dystopia Residual  \n",
       "count  157.000000         157.000000  \n",
       "mean     0.242635           2.325807  \n",
       "std      0.133756           0.542220  \n",
       "min      0.000000           0.817890  \n",
       "25%      0.154570           2.031710  \n",
       "50%      0.222450           2.290740  \n",
       "75%      0.311850           2.664650  \n",
       "max      0.819710           3.837720  "
      ]
     },
     "execution_count": 2,
     "metadata": {},
     "output_type": "execute_result"
    }
   ],
   "source": [
    "# Data Preprocessing and EDA\n",
    "(happiness_report.describe())"
   ]
  },
  {
   "cell_type": "code",
   "execution_count": 3,
   "metadata": {},
   "outputs": [
    {
     "data": {
      "text/plain": [
       "Country                          0\n",
       "Region                           0\n",
       "Happiness Rank                   0\n",
       "Happiness Score                  0\n",
       "Lower Confidence Interval        0\n",
       "Upper Confidence Interval        0\n",
       "Economy (GDP per Capita)         0\n",
       "Family                           0\n",
       "Health (Life Expectancy)         0\n",
       "Freedom                          0\n",
       "Trust (Government Corruption)    0\n",
       "Generosity                       0\n",
       "Dystopia Residual                0\n",
       "dtype: int64"
      ]
     },
     "execution_count": 3,
     "metadata": {},
     "output_type": "execute_result"
    }
   ],
   "source": [
    "(happiness_report.isnull().sum())"
   ]
  },
  {
   "cell_type": "code",
   "execution_count": 7,
   "metadata": {},
   "outputs": [
    {
     "data": {
      "image/png": "[encoded data removed]",
      "text/plain": [
       "<Figure size 640x480 with 1 Axes>"
      ]
     },
     "execution_count": 7,
     "metadata": {},
     "output_type": "execute_result"
    }
   ],
   "source": [
    "# Global Happiness Scores Bar Chart using Plotnine\n",
    "import plotnine as p9\n",
    "(ggplot(happiness_report, aes('Country', 'Happiness Score'))\n",
    " + geom_bar(stat='identity')\n",
    " + theme(axis_text_x=p9.element_text(rotation=90, hjust=1))\n",
    " + labs(title='Global Happiness Scores', x='Country', y='Happiness Score')\n",
    ").draw()"
   ]
  },
  {
   "cell_type": "code",
   "execution_count": 11,
   "metadata": {},
   "outputs": [
    {
     "data": {
      "image/png": "[encoded data removed]"
     },
     "metadata": {
      "image/png": {
       "height": 480,
       "width": 640
      }
     },
     "output_type": "display_data"
    }
   ],
   "source": [
    "from plotnine import ggplot, aes, geom_point, labs, theme\n",
    "\n",
    "(ggplot(happiness_report, aes(x='Economy (GDP per Capita)', y='Happiness Score')) +\n",
    " geom_point() +\n",
    " labs(title='Relationship between GDP per Capita and Happiness Scores', x='GDP per Capita', y='Happiness Score')\n",
    ")\n"
   ]
  },
  {
   "cell_type": "code",
   "execution_count": 12,
   "metadata": {},
   "outputs": [
    {
     "data": {
      "image/png": "[encoded data removed]"
     },
     "metadata": {
      "image/png": {
       "height": 480,
       "width": 640
      }
     },
     "output_type": "display_data"
    }
   ],
   "source": [
    "from plotnine import ggplot, aes, geom_boxplot, labs, theme\n",
    "import plotnine as p9\n",
    "\n",
    "(ggplot(happiness_report, aes(x='Region', y='Happiness Score')) +\n",
    " geom_boxplot() +\n",
    " labs(title='Comparison of Happiness Scores across Regions', x='Region', y='Happiness Score') +\n",
    " theme(axis_text_x=p9.element_text(rotation=90, hjust=1))\n",
    ")\n"
   ]
  },
  {
   "cell_type": "code",
   "execution_count": 28,
   "metadata": {},
   "outputs": [
    {
     "data": {
      "text/html": [
       "<div>\n",
       "<style scoped>\n",
       "    .dataframe tbody tr th:only-of-type {\n",
       "        vertical-align: middle;\n",
       "    }\n",
       "\n",
       "    .dataframe tbody tr th {\n",
       "        vertical-align: top;\n",
       "    }\n",
       "\n",
       "    .dataframe thead th {\n",
       "        text-align: right;\n",
       "    }\n",
       "</style>\n",
       "<table border=\"1\" class=\"dataframe\">\n",
       "  <thead>\n",
       "    <tr style=\"text-align: right;\">\n",
       "      <th></th>\n",
       "      <th>Happiness Rank</th>\n",
       "      <th>Happiness Score</th>\n",
       "      <th>Lower Confidence Interval</th>\n",
       "      <th>Upper Confidence Interval</th>\n",
       "      <th>Economy (GDP per Capita)</th>\n",
       "      <th>Family</th>\n",
       "      <th>Health (Life Expectancy)</th>\n",
       "      <th>Freedom</th>\n",
       "      <th>Trust (Government Corruption)</th>\n",
       "      <th>Generosity</th>\n",
       "      <th>Dystopia Residual</th>\n",
       "    </tr>\n",
       "  </thead>\n",
       "  <tbody>\n",
       "    <tr>\n",
       "      <th>Happiness Rank</th>\n",
       "      <td>1.000000</td>\n",
       "      <td>-0.995743</td>\n",
       "      <td>-0.994928</td>\n",
       "      <td>-0.995525</td>\n",
       "      <td>-0.793577</td>\n",
       "      <td>-0.733276</td>\n",
       "      <td>-0.767991</td>\n",
       "      <td>-0.557169</td>\n",
       "      <td>-0.387102</td>\n",
       "      <td>-0.145369</td>\n",
       "      <td>-0.542616</td>\n",
       "    </tr>\n",
       "    <tr>\n",
       "      <th>Happiness Score</th>\n",
       "      <td>-0.995743</td>\n",
       "      <td>1.000000</td>\n",
       "      <td>0.999485</td>\n",
       "      <td>0.999474</td>\n",
       "      <td>0.790322</td>\n",
       "      <td>0.739252</td>\n",
       "      <td>0.765384</td>\n",
       "      <td>0.566827</td>\n",
       "      <td>0.402032</td>\n",
       "      <td>0.156848</td>\n",
       "      <td>0.543738</td>\n",
       "    </tr>\n",
       "    <tr>\n",
       "      <th>Lower Confidence Interval</th>\n",
       "      <td>-0.994928</td>\n",
       "      <td>0.999485</td>\n",
       "      <td>1.000000</td>\n",
       "      <td>0.997919</td>\n",
       "      <td>0.790673</td>\n",
       "      <td>0.741523</td>\n",
       "      <td>0.769177</td>\n",
       "      <td>0.566857</td>\n",
       "      <td>0.404840</td>\n",
       "      <td>0.158025</td>\n",
       "      <td>0.538793</td>\n",
       "    </tr>\n",
       "    <tr>\n",
       "      <th>Upper Confidence Interval</th>\n",
       "      <td>-0.995525</td>\n",
       "      <td>0.999474</td>\n",
       "      <td>0.997919</td>\n",
       "      <td>1.000000</td>\n",
       "      <td>0.789140</td>\n",
       "      <td>0.736184</td>\n",
       "      <td>0.760752</td>\n",
       "      <td>0.566203</td>\n",
       "      <td>0.398775</td>\n",
       "      <td>0.155495</td>\n",
       "      <td>0.548164</td>\n",
       "    </tr>\n",
       "    <tr>\n",
       "      <th>Economy (GDP per Capita)</th>\n",
       "      <td>-0.793577</td>\n",
       "      <td>0.790322</td>\n",
       "      <td>0.790673</td>\n",
       "      <td>0.789140</td>\n",
       "      <td>1.000000</td>\n",
       "      <td>0.669540</td>\n",
       "      <td>0.837067</td>\n",
       "      <td>0.362283</td>\n",
       "      <td>0.294185</td>\n",
       "      <td>-0.025531</td>\n",
       "      <td>0.068624</td>\n",
       "    </tr>\n",
       "    <tr>\n",
       "      <th>Family</th>\n",
       "      <td>-0.733276</td>\n",
       "      <td>0.739252</td>\n",
       "      <td>0.741523</td>\n",
       "      <td>0.736184</td>\n",
       "      <td>0.669540</td>\n",
       "      <td>1.000000</td>\n",
       "      <td>0.588377</td>\n",
       "      <td>0.450208</td>\n",
       "      <td>0.213561</td>\n",
       "      <td>0.089629</td>\n",
       "      <td>0.119672</td>\n",
       "    </tr>\n",
       "    <tr>\n",
       "      <th>Health (Life Expectancy)</th>\n",
       "      <td>-0.767991</td>\n",
       "      <td>0.765384</td>\n",
       "      <td>0.769177</td>\n",
       "      <td>0.760752</td>\n",
       "      <td>0.837067</td>\n",
       "      <td>0.588377</td>\n",
       "      <td>1.000000</td>\n",
       "      <td>0.341199</td>\n",
       "      <td>0.249583</td>\n",
       "      <td>0.075987</td>\n",
       "      <td>0.100857</td>\n",
       "    </tr>\n",
       "    <tr>\n",
       "      <th>Freedom</th>\n",
       "      <td>-0.557169</td>\n",
       "      <td>0.566827</td>\n",
       "      <td>0.566857</td>\n",
       "      <td>0.566203</td>\n",
       "      <td>0.362283</td>\n",
       "      <td>0.450208</td>\n",
       "      <td>0.341199</td>\n",
       "      <td>1.000000</td>\n",
       "      <td>0.502054</td>\n",
       "      <td>0.361751</td>\n",
       "      <td>0.091631</td>\n",
       "    </tr>\n",
       "    <tr>\n",
       "      <th>Trust (Government Corruption)</th>\n",
       "      <td>-0.387102</td>\n",
       "      <td>0.402032</td>\n",
       "      <td>0.404840</td>\n",
       "      <td>0.398775</td>\n",
       "      <td>0.294185</td>\n",
       "      <td>0.213561</td>\n",
       "      <td>0.249583</td>\n",
       "      <td>0.502054</td>\n",
       "      <td>1.000000</td>\n",
       "      <td>0.305930</td>\n",
       "      <td>-0.002909</td>\n",
       "    </tr>\n",
       "    <tr>\n",
       "      <th>Generosity</th>\n",
       "      <td>-0.145369</td>\n",
       "      <td>0.156848</td>\n",
       "      <td>0.158025</td>\n",
       "      <td>0.155495</td>\n",
       "      <td>-0.025531</td>\n",
       "      <td>0.089629</td>\n",
       "      <td>0.075987</td>\n",
       "      <td>0.361751</td>\n",
       "      <td>0.305930</td>\n",
       "      <td>1.000000</td>\n",
       "      <td>-0.133001</td>\n",
       "    </tr>\n",
       "    <tr>\n",
       "      <th>Dystopia Residual</th>\n",
       "      <td>-0.542616</td>\n",
       "      <td>0.543738</td>\n",
       "      <td>0.538793</td>\n",
       "      <td>0.548164</td>\n",
       "      <td>0.068624</td>\n",
       "      <td>0.119672</td>\n",
       "      <td>0.100857</td>\n",
       "      <td>0.091631</td>\n",
       "      <td>-0.002909</td>\n",
       "      <td>-0.133001</td>\n",
       "      <td>1.000000</td>\n",
       "    </tr>\n",
       "  </tbody>\n",
       "</table>\n",
       "</div>"
      ],
      "text/plain": [
       "                               Happiness Rank  Happiness Score  \\\n",
       "Happiness Rank                       1.000000        -0.995743   \n",
       "Happiness Score                     -0.995743         1.000000   \n",
       "Lower Confidence Interval           -0.994928         0.999485   \n",
       "Upper Confidence Interval           -0.995525         0.999474   \n",
       "Economy (GDP per Capita)            -0.793577         0.790322   \n",
       "Family                              -0.733276         0.739252   \n",
       "Health (Life Expectancy)            -0.767991         0.765384   \n",
       "Freedom                             -0.557169         0.566827   \n",
       "Trust (Government Corruption)       -0.387102         0.402032   \n",
       "Generosity                          -0.145369         0.156848   \n",
       "Dystopia Residual                   -0.542616         0.543738   \n",
       "\n",
       "                               Lower Confidence Interval  \\\n",
       "Happiness Rank                                 -0.994928   \n",
       "Happiness Score                                 0.999485   \n",
       "Lower Confidence Interval                       1.000000   \n",
       "Upper Confidence Interval                       0.997919   \n",
       "Economy (GDP per Capita)                        0.790673   \n",
       "Family                                          0.741523   \n",
       "Health (Life Expectancy)                        0.769177   \n",
       "Freedom                                         0.566857   \n",
       "Trust (Government Corruption)                   0.404840   \n",
       "Generosity                                      0.158025   \n",
       "Dystopia Residual                               0.538793   \n",
       "\n",
       "                               Upper Confidence Interval  \\\n",
       "Happiness Rank                                 -0.995525   \n",
       "Happiness Score                                 0.999474   \n",
       "Lower Confidence Interval                       0.997919   \n",
       "Upper Confidence Interval                       1.000000   \n",
       "Economy (GDP per Capita)                        0.789140   \n",
       "Family                                          0.736184   \n",
       "Health (Life Expectancy)                        0.760752   \n",
       "Freedom                                         0.566203   \n",
       "Trust (Government Corruption)                   0.398775   \n",
       "Generosity                                      0.155495   \n",
       "Dystopia Residual                               0.548164   \n",
       "\n",
       "                               Economy (GDP per Capita)    Family  \\\n",
       "Happiness Rank                                -0.793577 -0.733276   \n",
       "Happiness Score                                0.790322  0.739252   \n",
       "Lower Confidence Interval                      0.790673  0.741523   \n",
       "Upper Confidence Interval                      0.789140  0.736184   \n",
       "Economy (GDP per Capita)                       1.000000  0.669540   \n",
       "Family                                         0.669540  1.000000   \n",
       "Health (Life Expectancy)                       0.837067  0.588377   \n",
       "Freedom                                        0.362283  0.450208   \n",
       "Trust (Government Corruption)                  0.294185  0.213561   \n",
       "Generosity                                    -0.025531  0.089629   \n",
       "Dystopia Residual                              0.068624  0.119672   \n",
       "\n",
       "                               Health (Life Expectancy)   Freedom  \\\n",
       "Happiness Rank                                -0.767991 -0.557169   \n",
       "Happiness Score                                0.765384  0.566827   \n",
       "Lower Confidence Interval                      0.769177  0.566857   \n",
       "Upper Confidence Interval                      0.760752  0.566203   \n",
       "Economy (GDP per Capita)                       0.837067  0.362283   \n",
       "Family                                         0.588377  0.450208   \n",
       "Health (Life Expectancy)                       1.000000  0.341199   \n",
       "Freedom                                        0.341199  1.000000   \n",
       "Trust (Government Corruption)                  0.249583  0.502054   \n",
       "Generosity                                     0.075987  0.361751   \n",
       "Dystopia Residual                              0.100857  0.091631   \n",
       "\n",
       "                               Trust (Government Corruption)  Generosity  \\\n",
       "Happiness Rank                                     -0.387102   -0.145369   \n",
       "Happiness Score                                     0.402032    0.156848   \n",
       "Lower Confidence Interval                           0.404840    0.158025   \n",
       "Upper Confidence Interval                           0.398775    0.155495   \n",
       "Economy (GDP per Capita)                            0.294185   -0.025531   \n",
       "Family                                              0.213561    0.089629   \n",
       "Health (Life Expectancy)                            0.249583    0.075987   \n",
       "Freedom                                             0.502054    0.361751   \n",
       "Trust (Government Corruption)                       1.000000    0.305930   \n",
       "Generosity                                          0.305930    1.000000   \n",
       "Dystopia Residual                                  -0.002909   -0.133001   \n",
       "\n",
       "                               Dystopia Residual  \n",
       "Happiness Rank                         -0.542616  \n",
       "Happiness Score                         0.543738  \n",
       "Lower Confidence Interval               0.538793  \n",
       "Upper Confidence Interval               0.548164  \n",
       "Economy (GDP per Capita)                0.068624  \n",
       "Family                                  0.119672  \n",
       "Health (Life Expectancy)                0.100857  \n",
       "Freedom                                 0.091631  \n",
       "Trust (Government Corruption)          -0.002909  \n",
       "Generosity                             -0.133001  \n",
       "Dystopia Residual                       1.000000  "
      ]
     },
     "execution_count": 28,
     "metadata": {},
     "output_type": "execute_result"
    }
   ],
   "source": [
    "correlation_matrix = happiness_report.drop(columns=['Country', 'Region']).corr()\n",
    "correlation_matrix"
   ]
  },
  {
   "cell_type": "code",
   "execution_count": 29,
   "metadata": {},
   "outputs": [
    {
     "data": {
      "text/html": [
       "<div>\n",
       "<style scoped>\n",
       "    .dataframe tbody tr th:only-of-type {\n",
       "        vertical-align: middle;\n",
       "    }\n",
       "\n",
       "    .dataframe tbody tr th {\n",
       "        vertical-align: top;\n",
       "    }\n",
       "\n",
       "    .dataframe thead th {\n",
       "        text-align: right;\n",
       "    }\n",
       "</style>\n",
       "<table border=\"1\" class=\"dataframe\">\n",
       "  <thead>\n",
       "    <tr style=\"text-align: right;\">\n",
       "      <th></th>\n",
       "      <th>Feature 1</th>\n",
       "      <th>Feature 2</th>\n",
       "      <th>Correlation Coefficient</th>\n",
       "    </tr>\n",
       "  </thead>\n",
       "  <tbody>\n",
       "    <tr>\n",
       "      <th>0</th>\n",
       "      <td>Happiness Rank</td>\n",
       "      <td>Happiness Rank</td>\n",
       "      <td>1.00</td>\n",
       "    </tr>\n",
       "    <tr>\n",
       "      <th>1</th>\n",
       "      <td>Happiness Score</td>\n",
       "      <td>Happiness Rank</td>\n",
       "      <td>-1.00</td>\n",
       "    </tr>\n",
       "    <tr>\n",
       "      <th>2</th>\n",
       "      <td>Lower Confidence Interval</td>\n",
       "      <td>Happiness Rank</td>\n",
       "      <td>-0.99</td>\n",
       "    </tr>\n",
       "    <tr>\n",
       "      <th>3</th>\n",
       "      <td>Upper Confidence Interval</td>\n",
       "      <td>Happiness Rank</td>\n",
       "      <td>-1.00</td>\n",
       "    </tr>\n",
       "    <tr>\n",
       "      <th>4</th>\n",
       "      <td>Economy (GDP per Capita)</td>\n",
       "      <td>Happiness Rank</td>\n",
       "      <td>-0.79</td>\n",
       "    </tr>\n",
       "    <tr>\n",
       "      <th>...</th>\n",
       "      <td>...</td>\n",
       "      <td>...</td>\n",
       "      <td>...</td>\n",
       "    </tr>\n",
       "    <tr>\n",
       "      <th>116</th>\n",
       "      <td>Health (Life Expectancy)</td>\n",
       "      <td>Dystopia Residual</td>\n",
       "      <td>0.10</td>\n",
       "    </tr>\n",
       "    <tr>\n",
       "      <th>117</th>\n",
       "      <td>Freedom</td>\n",
       "      <td>Dystopia Residual</td>\n",
       "      <td>0.09</td>\n",
       "    </tr>\n",
       "    <tr>\n",
       "      <th>118</th>\n",
       "      <td>Trust (Government Corruption)</td>\n",
       "      <td>Dystopia Residual</td>\n",
       "      <td>-0.00</td>\n",
       "    </tr>\n",
       "    <tr>\n",
       "      <th>119</th>\n",
       "      <td>Generosity</td>\n",
       "      <td>Dystopia Residual</td>\n",
       "      <td>-0.13</td>\n",
       "    </tr>\n",
       "    <tr>\n",
       "      <th>120</th>\n",
       "      <td>Dystopia Residual</td>\n",
       "      <td>Dystopia Residual</td>\n",
       "      <td>1.00</td>\n",
       "    </tr>\n",
       "  </tbody>\n",
       "</table>\n",
       "<p>121 rows × 3 columns</p>\n",
       "</div>"
      ],
      "text/plain": [
       "                         Feature 1          Feature 2  Correlation Coefficient\n",
       "0                   Happiness Rank     Happiness Rank                     1.00\n",
       "1                  Happiness Score     Happiness Rank                    -1.00\n",
       "2        Lower Confidence Interval     Happiness Rank                    -0.99\n",
       "3        Upper Confidence Interval     Happiness Rank                    -1.00\n",
       "4         Economy (GDP per Capita)     Happiness Rank                    -0.79\n",
       "..                             ...                ...                      ...\n",
       "116       Health (Life Expectancy)  Dystopia Residual                     0.10\n",
       "117                        Freedom  Dystopia Residual                     0.09\n",
       "118  Trust (Government Corruption)  Dystopia Residual                    -0.00\n",
       "119                     Generosity  Dystopia Residual                    -0.13\n",
       "120              Dystopia Residual  Dystopia Residual                     1.00\n",
       "\n",
       "[121 rows x 3 columns]"
      ]
     },
     "execution_count": 29,
     "metadata": {},
     "output_type": "execute_result"
    }
   ],
   "source": [
    "correlation_matrix = correlation_matrix.reset_index().melt(id_vars='index').rename(columns={'index': 'Feature 1', 'variable': 'Feature 2', 'value': 'Correlation Coefficient'})\n",
    "correlation_matrix['Correlation Coefficient'] = correlation_matrix['Correlation Coefficient'].round(2)\n",
    "correlation_matrix"
   ]
  },
  {
   "cell_type": "code",
   "execution_count": 30,
   "metadata": {},
   "outputs": [
    {
     "data": {
      "image/png": "[encoded data removed]"
     },
     "metadata": {
      "image/png": {
       "height": 1000,
       "width": 1000
      }
     },
     "output_type": "display_data"
    }
   ],
   "source": [
    "from plotnine import ggplot, aes, geom_tile, scale_fill_gradient, theme, geom_text\n",
    "import plotnine as p9\n",
    "\n",
    "# Create the heatmap\n",
    "heatmap = (ggplot(correlation_matrix, aes(x='Feature 1', y='Feature 2', fill='Correlation Coefficient')) +\n",
    "         geom_tile(aes(width=0.95, height=0.95)) +\n",
    "         geom_text(aes(label=\"Correlation Coefficient\"), size=9) +\n",
    "         scale_fill_gradient(low='white', high='blue') +\n",
    "         theme(axis_text_x=p9.element_text(rotation=90, hjust=1),\n",
    "             axis_text_y=p9.element_text(rotation=0, hjust=1),\n",
    "             figure_size=(10, 10))\n",
    "        )\n",
    "\n",
    "# Display the heatmap\n",
    "heatmap\n"
   ]
  },
  {
   "cell_type": "code",
   "execution_count": 10,
   "metadata": {},
   "outputs": [
    {
     "data": {
      "application/vnd.plotly.v1+json": {
       "config": {
        "plotlyServerURL": "https://plot.ly"
       },
       "data": [
        {
         "coloraxis": "coloraxis",
         "geo": "geo",
         "hovertemplate": "Country=%{location}<br>Happiness Score=%{z}<extra></extra>",
         "locationmode": "country names",
         "locations": [
          "Denmark",
          "Switzerland",
          "Iceland",
          "Norway",
          "Finland",
          "Canada",
          "Netherlands",
          "New Zealand",
          "Australia",
          "Sweden",
          "Israel",
          "Austria",
          "United States",
          "Costa Rica",
          "Puerto Rico",
          "Germany",
          "Brazil",
          "Belgium",
          "Ireland",
          "Luxembourg",
          "Mexico",
          "Singapore",
          "United Kingdom",
          "Chile",
          "Panama",
          "Argentina",
          "Czech Republic",
          "United Arab Emirates",
          "Uruguay",
          "Malta",
          "Colombia",
          "France",
          "Thailand",
          "Saudi Arabia",
          "Taiwan",
          "Qatar",
          "Spain",
          "Algeria",
          "Guatemala",
          "Suriname",
          "Kuwait",
          "Bahrain",
          "Trinidad and Tobago",
          "Venezuela",
          "Slovakia",
          "El Salvador",
          "Malaysia",
          "Nicaragua",
          "Uzbekistan",
          "Italy",
          "Ecuador",
          "Belize",
          "Japan",
          "Kazakhstan",
          "Moldova",
          "Russia",
          "Poland",
          "South Korea",
          "Bolivia",
          "Lithuania",
          "Belarus",
          "North Cyprus",
          "Slovenia",
          "Peru",
          "Turkmenistan",
          "Mauritius",
          "Libya",
          "Latvia",
          "Cyprus",
          "Paraguay",
          "Romania",
          "Estonia",
          "Jamaica",
          "Croatia",
          "Hong Kong",
          "Somalia",
          "Kosovo",
          "Turkey",
          "Indonesia",
          "Jordan",
          "Azerbaijan",
          "Philippines",
          "China",
          "Bhutan",
          "Kyrgyzstan",
          "Serbia",
          "Bosnia and Herzegovina",
          "Montenegro",
          "Dominican Republic",
          "Morocco",
          "Hungary",
          "Pakistan",
          "Lebanon",
          "Portugal",
          "Macedonia",
          "Vietnam",
          "Somaliland Region",
          "Tunisia",
          "Greece",
          "Tajikistan",
          "Mongolia",
          "Laos",
          "Nigeria",
          "Honduras",
          "Iran",
          "Zambia",
          "Nepal",
          "Palestinian Territories",
          "Albania",
          "Bangladesh",
          "Sierra Leone",
          "Iraq",
          "Namibia",
          "Cameroon",
          "Ethiopia",
          "South Africa",
          "Sri Lanka",
          "India",
          "Myanmar",
          "Egypt",
          "Armenia",
          "Kenya",
          "Ukraine",
          "Ghana",
          "Congo (Kinshasa)",
          "Georgia",
          "Congo (Brazzaville)",
          "Senegal",
          "Bulgaria",
          "Mauritania",
          "Zimbabwe",
          "Malawi",
          "Sudan",
          "Gabon",
          "Mali",
          "Haiti",
          "Botswana",
          "Comoros",
          "Ivory Coast",
          "Cambodia",
          "Angola",
          "Niger",
          "South Sudan",
          "Chad",
          "Burkina Faso",
          "Uganda",
          "Yemen",
          "Madagascar",
          "Tanzania",
          "Liberia",
          "Guinea",
          "Rwanda",
          "Benin",
          "Afghanistan",
          "Togo",
          "Syria",
          "Burundi"
         ],
         "name": "",
         "type": "choropleth",
         "z": [
          7.526,
          7.509,
          7.501,
          7.498,
          7.413,
          7.404,
          7.339,
          7.334,
          7.313,
          7.291,
          7.267,
          7.119,
          7.104,
          7.087,
          7.039,
          6.994,
          6.952,
          6.929,
          6.907,
          6.871,
          6.778,
          6.739,
          6.725,
          6.705,
          6.701,
          6.65,
          6.596,
          6.573,
          6.545,
          6.488,
          6.481,
          6.478,
          6.474,
          6.379,
          6.379,
          6.375,
          6.361,
          6.355,
          6.324,
          6.269,
          6.239,
          6.218,
          6.168,
          6.084,
          6.078,
          6.068,
          6.005,
          5.992,
          5.987,
          5.977,
          5.976,
          5.956,
          5.921,
          5.919,
          5.897,
          5.856,
          5.835,
          5.835,
          5.822,
          5.813,
          5.802,
          5.771,
          5.768,
          5.743,
          5.658,
          5.648,
          5.615,
          5.56,
          5.546,
          5.538,
          5.528,
          5.517,
          5.51,
          5.488,
          5.458,
          5.44,
          5.401,
          5.389,
          5.314,
          5.303,
          5.291,
          5.279,
          5.245,
          5.196,
          5.185,
          5.177,
          5.163,
          5.161,
          5.155,
          5.151,
          5.145,
          5.132,
          5.129,
          5.123,
          5.121,
          5.061,
          5.057,
          5.045,
          5.033,
          4.996,
          4.907,
          4.876,
          4.875,
          4.871,
          4.813,
          4.795,
          4.793,
          4.754,
          4.655,
          4.643,
          4.635,
          4.575,
          4.574,
          4.513,
          4.508,
          4.459,
          4.415,
          4.404,
          4.395,
          4.362,
          4.36,
          4.356,
          4.324,
          4.276,
          4.272,
          4.252,
          4.236,
          4.219,
          4.217,
          4.201,
          4.193,
          4.156,
          4.139,
          4.121,
          4.073,
          4.028,
          3.974,
          3.956,
          3.916,
          3.907,
          3.866,
          3.856,
          3.832,
          3.763,
          3.739,
          3.739,
          3.724,
          3.695,
          3.666,
          3.622,
          3.607,
          3.515,
          3.484,
          3.36,
          3.303,
          3.069,
          2.905
         ]
        }
       ],
       "layout": {
        "coloraxis": {
         "colorbar": {
          "title": {
           "text": "Happiness Score"
          }
         },
         "colorscale": [
          [
           0,
           "#0d0887"
          ],
          [
           0.1111111111111111,
           "#46039f"
          ],
          [
           0.2222222222222222,
           "#7201a8"
          ],
          [
           0.3333333333333333,
           "#9c179e"
          ],
          [
           0.4444444444444444,
           "#bd3786"
          ],
          [
           0.5555555555555556,
           "#d8576b"
          ],
          [
           0.6666666666666666,
           "#ed7953"
          ],
          [
           0.7777777777777778,
           "#fb9f3a"
          ],
          [
           0.8888888888888888,
           "#fdca26"
          ],
          [
           1,
           "#f0f921"
          ]
         ]
        },
        "geo": {
         "center": {},
         "domain": {
          "x": [
           0,
           1
          ],
          "y": [
           0,
           1
          ]
         }
        },
        "legend": {
         "tracegroupgap": 0
        },
        "template": {
         "data": {
          "bar": [
           {
            "error_x": {
             "color": "#2a3f5f"
            },
            "error_y": {
             "color": "#2a3f5f"
            },
            "marker": {
             "line": {
              "color": "#E5ECF6",
              "width": 0.5
             },
             "pattern": {
              "fillmode": "overlay",
              "size": 10,
              "solidity": 0.2
             }
            },
            "type": "bar"
           }
          ],
          "barpolar": [
           {
            "marker": {
             "line": {
              "color": "#E5ECF6",
              "width": 0.5
             },
             "pattern": {
              "fillmode": "overlay",
              "size": 10,
              "solidity": 0.2
             }
            },
            "type": "barpolar"
           }
          ],
          "carpet": [
           {
            "aaxis": {
             "endlinecolor": "#2a3f5f",
             "gridcolor": "white",
             "linecolor": "white",
             "minorgridcolor": "white",
             "startlinecolor": "#2a3f5f"
            },
            "baxis": {
             "endlinecolor": "#2a3f5f",
             "gridcolor": "white",
             "linecolor": "white",
             "minorgridcolor": "white",
             "startlinecolor": "#2a3f5f"
            },
            "type": "carpet"
           }
          ],
          "choropleth": [
           {
            "colorbar": {
             "outlinewidth": 0,
             "ticks": ""
            },
            "type": "choropleth"
           }
          ],
          "contour": [
           {
            "colorbar": {
             "outlinewidth": 0,
             "ticks": ""
            },
            "colorscale": [
             [
              0,
              "#0d0887"
             ],
             [
              0.1111111111111111,
              "#46039f"
             ],
             [
              0.2222222222222222,
              "#7201a8"
             ],
             [
              0.3333333333333333,
              "#9c179e"
             ],
             [
              0.4444444444444444,
              "#bd3786"
             ],
             [
              0.5555555555555556,
              "#d8576b"
             ],
             [
              0.6666666666666666,
              "#ed7953"
             ],
             [
              0.7777777777777778,
              "#fb9f3a"
             ],
             [
              0.8888888888888888,
              "#fdca26"
             ],
             [
              1,
              "#f0f921"
             ]
            ],
            "type": "contour"
           }
          ],
          "contourcarpet": [
           {
            "colorbar": {
             "outlinewidth": 0,
             "ticks": ""
            },
            "type": "contourcarpet"
           }
          ],
          "heatmap": [
           {
            "colorbar": {
             "outlinewidth": 0,
             "ticks": ""
            },
            "colorscale": [
             [
              0,
              "#0d0887"
             ],
             [
              0.1111111111111111,
              "#46039f"
             ],
             [
              0.2222222222222222,
              "#7201a8"
             ],
             [
              0.3333333333333333,
              "#9c179e"
             ],
             [
              0.4444444444444444,
              "#bd3786"
             ],
             [
              0.5555555555555556,
              "#d8576b"
             ],
             [
              0.6666666666666666,
              "#ed7953"
             ],
             [
              0.7777777777777778,
              "#fb9f3a"
             ],
             [
              0.8888888888888888,
              "#fdca26"
             ],
             [
              1,
              "#f0f921"
             ]
            ],
            "type": "heatmap"
           }
          ],
          "heatmapgl": [
           {
            "colorbar": {
             "outlinewidth": 0,
             "ticks": ""
            },
            "colorscale": [
             [
              0,
              "#0d0887"
             ],
             [
              0.1111111111111111,
              "#46039f"
             ],
             [
              0.2222222222222222,
              "#7201a8"
             ],
             [
              0.3333333333333333,
              "#9c179e"
             ],
             [
              0.4444444444444444,
              "#bd3786"
             ],
             [
              0.5555555555555556,
              "#d8576b"
             ],
             [
              0.6666666666666666,
              "#ed7953"
             ],
             [
              0.7777777777777778,
              "#fb9f3a"
             ],
             [
              0.8888888888888888,
              "#fdca26"
             ],
             [
              1,
              "#f0f921"
             ]
            ],
            "type": "heatmapgl"
           }
          ],
          "histogram": [
           {
            "marker": {
             "pattern": {
              "fillmode": "overlay",
              "size": 10,
              "solidity": 0.2
             }
            },
            "type": "histogram"
           }
          ],
          "histogram2d": [
           {
            "colorbar": {
             "outlinewidth": 0,
             "ticks": ""
            },
            "colorscale": [
             [
              0,
              "#0d0887"
             ],
             [
              0.1111111111111111,
              "#46039f"
             ],
             [
              0.2222222222222222,
              "#7201a8"
             ],
             [
              0.3333333333333333,
              "#9c179e"
             ],
             [
              0.4444444444444444,
              "#bd3786"
             ],
             [
              0.5555555555555556,
              "#d8576b"
             ],
             [
              0.6666666666666666,
              "#ed7953"
             ],
             [
              0.7777777777777778,
              "#fb9f3a"
             ],
             [
              0.8888888888888888,
              "#fdca26"
             ],
             [
              1,
              "#f0f921"
             ]
            ],
            "type": "histogram2d"
           }
          ],
          "histogram2dcontour": [
           {
            "colorbar": {
             "outlinewidth": 0,
             "ticks": ""
            },
            "colorscale": [
             [
              0,
              "#0d0887"
             ],
             [
              0.1111111111111111,
              "#46039f"
             ],
             [
              0.2222222222222222,
              "#7201a8"
             ],
             [
              0.3333333333333333,
              "#9c179e"
             ],
             [
              0.4444444444444444,
              "#bd3786"
             ],
             [
              0.5555555555555556,
              "#d8576b"
             ],
             [
              0.6666666666666666,
              "#ed7953"
             ],
             [
              0.7777777777777778,
              "#fb9f3a"
             ],
             [
              0.8888888888888888,
              "#fdca26"
             ],
             [
              1,
              "#f0f921"
             ]
            ],
            "type": "histogram2dcontour"
           }
          ],
          "mesh3d": [
           {
            "colorbar": {
             "outlinewidth": 0,
             "ticks": ""
            },
            "type": "mesh3d"
           }
          ],
          "parcoords": [
           {
            "line": {
             "colorbar": {
              "outlinewidth": 0,
              "ticks": ""
             }
            },
            "type": "parcoords"
           }
          ],
          "pie": [
           {
            "automargin": true,
            "type": "pie"
           }
          ],
          "scatter": [
           {
            "fillpattern": {
             "fillmode": "overlay",
             "size": 10,
             "solidity": 0.2
            },
            "type": "scatter"
           }
          ],
          "scatter3d": [
           {
            "line": {
             "colorbar": {
              "outlinewidth": 0,
              "ticks": ""
             }
            },
            "marker": {
             "colorbar": {
              "outlinewidth": 0,
              "ticks": ""
             }
            },
            "type": "scatter3d"
           }
          ],
          "scattercarpet": [
           {
            "marker": {
             "colorbar": {
              "outlinewidth": 0,
              "ticks": ""
             }
            },
            "type": "scattercarpet"
           }
          ],
          "scattergeo": [
           {
            "marker": {
             "colorbar": {
              "outlinewidth": 0,
              "ticks": ""
             }
            },
            "type": "scattergeo"
           }
          ],
          "scattergl": [
           {
            "marker": {
             "colorbar": {
              "outlinewidth": 0,
              "ticks": ""
             }
            },
            "type": "scattergl"
           }
          ],
          "scattermapbox": [
           {
            "marker": {
             "colorbar": {
              "outlinewidth": 0,
              "ticks": ""
             }
            },
            "type": "scattermapbox"
           }
          ],
          "scatterpolar": [
           {
            "marker": {
             "colorbar": {
              "outlinewidth": 0,
              "ticks": ""
             }
            },
            "type": "scatterpolar"
           }
          ],
          "scatterpolargl": [
           {
            "marker": {
             "colorbar": {
              "outlinewidth": 0,
              "ticks": ""
             }
            },
            "type": "scatterpolargl"
           }
          ],
          "scatterternary": [
           {
            "marker": {
             "colorbar": {
              "outlinewidth": 0,
              "ticks": ""
             }
            },
            "type": "scatterternary"
           }
          ],
          "surface": [
           {
            "colorbar": {
             "outlinewidth": 0,
             "ticks": ""
            },
            "colorscale": [
             [
              0,
              "#0d0887"
             ],
             [
              0.1111111111111111,
              "#46039f"
             ],
             [
              0.2222222222222222,
              "#7201a8"
             ],
             [
              0.3333333333333333,
              "#9c179e"
             ],
             [
              0.4444444444444444,
              "#bd3786"
             ],
             [
              0.5555555555555556,
              "#d8576b"
             ],
             [
              0.6666666666666666,
              "#ed7953"
             ],
             [
              0.7777777777777778,
              "#fb9f3a"
             ],
             [
              0.8888888888888888,
              "#fdca26"
             ],
             [
              1,
              "#f0f921"
             ]
            ],
            "type": "surface"
           }
          ],
          "table": [
           {
            "cells": {
             "fill": {
              "color": "#EBF0F8"
             },
             "line": {
              "color": "white"
             }
            },
            "header": {
             "fill": {
              "color": "#C8D4E3"
             },
             "line": {
              "color": "white"
             }
            },
            "type": "table"
           }
          ]
         },
         "layout": {
          "annotationdefaults": {
           "arrowcolor": "#2a3f5f",
           "arrowhead": 0,
           "arrowwidth": 1
          },
          "autotypenumbers": "strict",
          "coloraxis": {
           "colorbar": {
            "outlinewidth": 0,
            "ticks": ""
           }
          },
          "colorscale": {
           "diverging": [
            [
             0,
             "#8e0152"
            ],
            [
             0.1,
             "#c51b7d"
            ],
            [
             0.2,
             "#de77ae"
            ],
            [
             0.3,
             "#f1b6da"
            ],
            [
             0.4,
             "#fde0ef"
            ],
            [
             0.5,
             "#f7f7f7"
            ],
            [
             0.6,
             "#e6f5d0"
            ],
            [
             0.7,
             "#b8e186"
            ],
            [
             0.8,
             "#7fbc41"
            ],
            [
             0.9,
             "#4d9221"
            ],
            [
             1,
             "#276419"
            ]
           ],
           "sequential": [
            [
             0,
             "#0d0887"
            ],
            [
             0.1111111111111111,
             "#46039f"
            ],
            [
             0.2222222222222222,
             "#7201a8"
            ],
            [
             0.3333333333333333,
             "#9c179e"
            ],
            [
             0.4444444444444444,
             "#bd3786"
            ],
            [
             0.5555555555555556,
             "#d8576b"
            ],
            [
             0.6666666666666666,
             "#ed7953"
            ],
            [
             0.7777777777777778,
             "#fb9f3a"
            ],
            [
             0.8888888888888888,
             "#fdca26"
            ],
            [
             1,
             "#f0f921"
            ]
           ],
           "sequentialminus": [
            [
             0,
             "#0d0887"
            ],
            [
             0.1111111111111111,
             "#46039f"
            ],
            [
             0.2222222222222222,
             "#7201a8"
            ],
            [
             0.3333333333333333,
             "#9c179e"
            ],
            [
             0.4444444444444444,
             "#bd3786"
            ],
            [
             0.5555555555555556,
             "#d8576b"
            ],
            [
             0.6666666666666666,
             "#ed7953"
            ],
            [
             0.7777777777777778,
             "#fb9f3a"
            ],
            [
             0.8888888888888888,
             "#fdca26"
            ],
            [
             1,
             "#f0f921"
            ]
           ]
          },
          "colorway": [
           "#636efa",
           "#EF553B",
           "#00cc96",
           "#ab63fa",
           "#FFA15A",
           "#19d3f3",
           "#FF6692",
           "#B6E880",
           "#FF97FF",
           "#FECB52"
          ],
          "font": {
           "color": "#2a3f5f"
          },
          "geo": {
           "bgcolor": "white",
           "lakecolor": "white",
           "landcolor": "#E5ECF6",
           "showlakes": true,
           "showland": true,
           "subunitcolor": "white"
          },
          "hoverlabel": {
           "align": "left"
          },
          "hovermode": "closest",
          "mapbox": {
           "style": "light"
          },
          "paper_bgcolor": "white",
          "plot_bgcolor": "#E5ECF6",
          "polar": {
           "angularaxis": {
            "gridcolor": "white",
            "linecolor": "white",
            "ticks": ""
           },
           "bgcolor": "#E5ECF6",
           "radialaxis": {
            "gridcolor": "white",
            "linecolor": "white",
            "ticks": ""
           }
          },
          "scene": {
           "xaxis": {
            "backgroundcolor": "#E5ECF6",
            "gridcolor": "white",
            "gridwidth": 2,
            "linecolor": "white",
            "showbackground": true,
            "ticks": "",
            "zerolinecolor": "white"
           },
           "yaxis": {
            "backgroundcolor": "#E5ECF6",
            "gridcolor": "white",
            "gridwidth": 2,
            "linecolor": "white",
            "showbackground": true,
            "ticks": "",
            "zerolinecolor": "white"
           },
           "zaxis": {
            "backgroundcolor": "#E5ECF6",
            "gridcolor": "white",
            "gridwidth": 2,
            "linecolor": "white",
            "showbackground": true,
            "ticks": "",
            "zerolinecolor": "white"
           }
          },
          "shapedefaults": {
           "line": {
            "color": "#2a3f5f"
           }
          },
          "ternary": {
           "aaxis": {
            "gridcolor": "white",
            "linecolor": "white",
            "ticks": ""
           },
           "baxis": {
            "gridcolor": "white",
            "linecolor": "white",
            "ticks": ""
           },
           "bgcolor": "#E5ECF6",
           "caxis": {
            "gridcolor": "white",
            "linecolor": "white",
            "ticks": ""
           }
          },
          "title": {
           "x": 0.05
          },
          "xaxis": {
           "automargin": true,
           "gridcolor": "white",
           "linecolor": "white",
           "ticks": "",
           "title": {
            "standoff": 15
           },
           "zerolinecolor": "white",
           "zerolinewidth": 2
          },
          "yaxis": {
           "automargin": true,
           "gridcolor": "white",
           "linecolor": "white",
           "ticks": "",
           "title": {
            "standoff": 15
           },
           "zerolinecolor": "white",
           "zerolinewidth": 2
          }
         }
        },
        "title": {
         "text": "Global Happiness Scores"
        }
       }
      }
     },
     "metadata": {},
     "output_type": "display_data"
    }
   ],
   "source": [
    "# Interactive World Map using Plotly\n",
    "px.choropleth(happiness_report, locations=\"Country\", locationmode=\"country names\",\n",
    "              color=\"Happiness Score\", title=\"Global Happiness Scores\").show()"
   ]
  },
  {
   "cell_type": "code",
   "execution_count": 33,
   "metadata": {},
   "outputs": [
    {
     "data": {
      "text/html": [
       "<div>\n",
       "<style scoped>\n",
       "    .dataframe tbody tr th:only-of-type {\n",
       "        vertical-align: middle;\n",
       "    }\n",
       "\n",
       "    .dataframe tbody tr th {\n",
       "        vertical-align: top;\n",
       "    }\n",
       "\n",
       "    .dataframe thead th {\n",
       "        text-align: right;\n",
       "    }\n",
       "</style>\n",
       "<table border=\"1\" class=\"dataframe\">\n",
       "  <thead>\n",
       "    <tr style=\"text-align: right;\">\n",
       "      <th></th>\n",
       "      <th>Country</th>\n",
       "      <th>Region</th>\n",
       "      <th>Happiness Rank</th>\n",
       "      <th>Happiness Score</th>\n",
       "      <th>Lower Confidence Interval</th>\n",
       "      <th>Upper Confidence Interval</th>\n",
       "      <th>Economy (GDP per Capita)</th>\n",
       "      <th>Family</th>\n",
       "      <th>Health (Life Expectancy)</th>\n",
       "      <th>Freedom</th>\n",
       "      <th>Trust (Government Corruption)</th>\n",
       "      <th>Generosity</th>\n",
       "      <th>Dystopia Residual</th>\n",
       "    </tr>\n",
       "  </thead>\n",
       "  <tbody>\n",
       "    <tr>\n",
       "      <th>0</th>\n",
       "      <td>Denmark</td>\n",
       "      <td>Western Europe</td>\n",
       "      <td>1</td>\n",
       "      <td>7.526</td>\n",
       "      <td>7.460</td>\n",
       "      <td>7.592</td>\n",
       "      <td>1.44178</td>\n",
       "      <td>1.16374</td>\n",
       "      <td>0.79504</td>\n",
       "      <td>0.57941</td>\n",
       "      <td>0.44453</td>\n",
       "      <td>0.36171</td>\n",
       "      <td>2.73939</td>\n",
       "    </tr>\n",
       "    <tr>\n",
       "      <th>1</th>\n",
       "      <td>Switzerland</td>\n",
       "      <td>Western Europe</td>\n",
       "      <td>2</td>\n",
       "      <td>7.509</td>\n",
       "      <td>7.428</td>\n",
       "      <td>7.590</td>\n",
       "      <td>1.52733</td>\n",
       "      <td>1.14524</td>\n",
       "      <td>0.86303</td>\n",
       "      <td>0.58557</td>\n",
       "      <td>0.41203</td>\n",
       "      <td>0.28083</td>\n",
       "      <td>2.69463</td>\n",
       "    </tr>\n",
       "    <tr>\n",
       "      <th>2</th>\n",
       "      <td>Iceland</td>\n",
       "      <td>Western Europe</td>\n",
       "      <td>3</td>\n",
       "      <td>7.501</td>\n",
       "      <td>7.333</td>\n",
       "      <td>7.669</td>\n",
       "      <td>1.42666</td>\n",
       "      <td>1.18326</td>\n",
       "      <td>0.86733</td>\n",
       "      <td>0.56624</td>\n",
       "      <td>0.14975</td>\n",
       "      <td>0.47678</td>\n",
       "      <td>2.83137</td>\n",
       "    </tr>\n",
       "    <tr>\n",
       "      <th>3</th>\n",
       "      <td>Norway</td>\n",
       "      <td>Western Europe</td>\n",
       "      <td>4</td>\n",
       "      <td>7.498</td>\n",
       "      <td>7.421</td>\n",
       "      <td>7.575</td>\n",
       "      <td>1.57744</td>\n",
       "      <td>1.12690</td>\n",
       "      <td>0.79579</td>\n",
       "      <td>0.59609</td>\n",
       "      <td>0.35776</td>\n",
       "      <td>0.37895</td>\n",
       "      <td>2.66465</td>\n",
       "    </tr>\n",
       "    <tr>\n",
       "      <th>4</th>\n",
       "      <td>Finland</td>\n",
       "      <td>Western Europe</td>\n",
       "      <td>5</td>\n",
       "      <td>7.413</td>\n",
       "      <td>7.351</td>\n",
       "      <td>7.475</td>\n",
       "      <td>1.40598</td>\n",
       "      <td>1.13464</td>\n",
       "      <td>0.81091</td>\n",
       "      <td>0.57104</td>\n",
       "      <td>0.41004</td>\n",
       "      <td>0.25492</td>\n",
       "      <td>2.82596</td>\n",
       "    </tr>\n",
       "    <tr>\n",
       "      <th>...</th>\n",
       "      <td>...</td>\n",
       "      <td>...</td>\n",
       "      <td>...</td>\n",
       "      <td>...</td>\n",
       "      <td>...</td>\n",
       "      <td>...</td>\n",
       "      <td>...</td>\n",
       "      <td>...</td>\n",
       "      <td>...</td>\n",
       "      <td>...</td>\n",
       "      <td>...</td>\n",
       "      <td>...</td>\n",
       "      <td>...</td>\n",
       "    </tr>\n",
       "    <tr>\n",
       "      <th>152</th>\n",
       "      <td>Benin</td>\n",
       "      <td>Sub-Saharan Africa</td>\n",
       "      <td>153</td>\n",
       "      <td>3.484</td>\n",
       "      <td>3.404</td>\n",
       "      <td>3.564</td>\n",
       "      <td>0.39499</td>\n",
       "      <td>0.10419</td>\n",
       "      <td>0.21028</td>\n",
       "      <td>0.39747</td>\n",
       "      <td>0.06681</td>\n",
       "      <td>0.20180</td>\n",
       "      <td>2.10812</td>\n",
       "    </tr>\n",
       "    <tr>\n",
       "      <th>153</th>\n",
       "      <td>Afghanistan</td>\n",
       "      <td>Southern Asia</td>\n",
       "      <td>154</td>\n",
       "      <td>3.360</td>\n",
       "      <td>3.288</td>\n",
       "      <td>3.432</td>\n",
       "      <td>0.38227</td>\n",
       "      <td>0.11037</td>\n",
       "      <td>0.17344</td>\n",
       "      <td>0.16430</td>\n",
       "      <td>0.07112</td>\n",
       "      <td>0.31268</td>\n",
       "      <td>2.14558</td>\n",
       "    </tr>\n",
       "    <tr>\n",
       "      <th>154</th>\n",
       "      <td>Togo</td>\n",
       "      <td>Sub-Saharan Africa</td>\n",
       "      <td>155</td>\n",
       "      <td>3.303</td>\n",
       "      <td>3.192</td>\n",
       "      <td>3.414</td>\n",
       "      <td>0.28123</td>\n",
       "      <td>0.00000</td>\n",
       "      <td>0.24811</td>\n",
       "      <td>0.34678</td>\n",
       "      <td>0.11587</td>\n",
       "      <td>0.17517</td>\n",
       "      <td>2.13540</td>\n",
       "    </tr>\n",
       "    <tr>\n",
       "      <th>155</th>\n",
       "      <td>Syria</td>\n",
       "      <td>Middle East and Northern Africa</td>\n",
       "      <td>156</td>\n",
       "      <td>3.069</td>\n",
       "      <td>2.936</td>\n",
       "      <td>3.202</td>\n",
       "      <td>0.74719</td>\n",
       "      <td>0.14866</td>\n",
       "      <td>0.62994</td>\n",
       "      <td>0.06912</td>\n",
       "      <td>0.17233</td>\n",
       "      <td>0.48397</td>\n",
       "      <td>0.81789</td>\n",
       "    </tr>\n",
       "    <tr>\n",
       "      <th>156</th>\n",
       "      <td>Burundi</td>\n",
       "      <td>Sub-Saharan Africa</td>\n",
       "      <td>157</td>\n",
       "      <td>2.905</td>\n",
       "      <td>2.732</td>\n",
       "      <td>3.078</td>\n",
       "      <td>0.06831</td>\n",
       "      <td>0.23442</td>\n",
       "      <td>0.15747</td>\n",
       "      <td>0.04320</td>\n",
       "      <td>0.09419</td>\n",
       "      <td>0.20290</td>\n",
       "      <td>2.10404</td>\n",
       "    </tr>\n",
       "  </tbody>\n",
       "</table>\n",
       "<p>157 rows × 13 columns</p>\n",
       "</div>"
      ],
      "text/plain": [
       "         Country                           Region  Happiness Rank  \\\n",
       "0        Denmark                   Western Europe               1   \n",
       "1    Switzerland                   Western Europe               2   \n",
       "2        Iceland                   Western Europe               3   \n",
       "3         Norway                   Western Europe               4   \n",
       "4        Finland                   Western Europe               5   \n",
       "..           ...                              ...             ...   \n",
       "152        Benin               Sub-Saharan Africa             153   \n",
       "153  Afghanistan                    Southern Asia             154   \n",
       "154         Togo               Sub-Saharan Africa             155   \n",
       "155        Syria  Middle East and Northern Africa             156   \n",
       "156      Burundi               Sub-Saharan Africa             157   \n",
       "\n",
       "     Happiness Score  Lower Confidence Interval  Upper Confidence Interval  \\\n",
       "0              7.526                      7.460                      7.592   \n",
       "1              7.509                      7.428                      7.590   \n",
       "2              7.501                      7.333                      7.669   \n",
       "3              7.498                      7.421                      7.575   \n",
       "4              7.413                      7.351                      7.475   \n",
       "..               ...                        ...                        ...   \n",
       "152            3.484                      3.404                      3.564   \n",
       "153            3.360                      3.288                      3.432   \n",
       "154            3.303                      3.192                      3.414   \n",
       "155            3.069                      2.936                      3.202   \n",
       "156            2.905                      2.732                      3.078   \n",
       "\n",
       "     Economy (GDP per Capita)   Family  Health (Life Expectancy)  Freedom  \\\n",
       "0                     1.44178  1.16374                   0.79504  0.57941   \n",
       "1                     1.52733  1.14524                   0.86303  0.58557   \n",
       "2                     1.42666  1.18326                   0.86733  0.56624   \n",
       "3                     1.57744  1.12690                   0.79579  0.59609   \n",
       "4                     1.40598  1.13464                   0.81091  0.57104   \n",
       "..                        ...      ...                       ...      ...   \n",
       "152                   0.39499  0.10419                   0.21028  0.39747   \n",
       "153                   0.38227  0.11037                   0.17344  0.16430   \n",
       "154                   0.28123  0.00000                   0.24811  0.34678   \n",
       "155                   0.74719  0.14866                   0.62994  0.06912   \n",
       "156                   0.06831  0.23442                   0.15747  0.04320   \n",
       "\n",
       "     Trust (Government Corruption)  Generosity  Dystopia Residual  \n",
       "0                          0.44453     0.36171            2.73939  \n",
       "1                          0.41203     0.28083            2.69463  \n",
       "2                          0.14975     0.47678            2.83137  \n",
       "3                          0.35776     0.37895            2.66465  \n",
       "4                          0.41004     0.25492            2.82596  \n",
       "..                             ...         ...                ...  \n",
       "152                        0.06681     0.20180            2.10812  \n",
       "153                        0.07112     0.31268            2.14558  \n",
       "154                        0.11587     0.17517            2.13540  \n",
       "155                        0.17233     0.48397            0.81789  \n",
       "156                        0.09419     0.20290            2.10404  \n",
       "\n",
       "[157 rows x 13 columns]"
      ]
     },
     "execution_count": 33,
     "metadata": {},
     "output_type": "execute_result"
    }
   ],
   "source": [
    "happiness_report"
   ]
  },
  {
   "cell_type": "code",
   "execution_count": 6,
   "metadata": {},
   "outputs": [
    {
     "data": {
      "application/vnd.plotly.v1+json": {
       "config": {
        "plotlyServerURL": "https://plot.ly"
       },
       "data": [
        {
         "hovertemplate": "<b>%{hovertext}</b><br><br>Health (Life Expectancy)=%{x}<br>Freedom=%{y}<br>Happiness Score=%{marker.color}<extra></extra>",
         "hovertext": [
          "Denmark",
          "Switzerland",
          "Iceland",
          "Norway",
          "Finland",
          "Canada",
          "Netherlands",
          "New Zealand",
          "Australia",
          "Sweden",
          "Israel",
          "Austria",
          "United States",
          "Costa Rica",
          "Puerto Rico",
          "Germany",
          "Brazil",
          "Belgium",
          "Ireland",
          "Luxembourg",
          "Mexico",
          "Singapore",
          "United Kingdom",
          "Chile",
          "Panama",
          "Argentina",
          "Czech Republic",
          "United Arab Emirates",
          "Uruguay",
          "Malta",
          "Colombia",
          "France",
          "Thailand",
          "Saudi Arabia",
          "Taiwan",
          "Qatar",
          "Spain",
          "Algeria",
          "Guatemala",
          "Suriname",
          "Kuwait",
          "Bahrain",
          "Trinidad and Tobago",
          "Venezuela",
          "Slovakia",
          "El Salvador",
          "Malaysia",
          "Nicaragua",
          "Uzbekistan",
          "Italy",
          "Ecuador",
          "Belize",
          "Japan",
          "Kazakhstan",
          "Moldova",
          "Russia",
          "Poland",
          "South Korea",
          "Bolivia",
          "Lithuania",
          "Belarus",
          "North Cyprus",
          "Slovenia",
          "Peru",
          "Turkmenistan",
          "Mauritius",
          "Libya",
          "Latvia",
          "Cyprus",
          "Paraguay",
          "Romania",
          "Estonia",
          "Jamaica",
          "Croatia",
          "Hong Kong",
          "Somalia",
          "Kosovo",
          "Turkey",
          "Indonesia",
          "Jordan",
          "Azerbaijan",
          "Philippines",
          "China",
          "Bhutan",
          "Kyrgyzstan",
          "Serbia",
          "Bosnia and Herzegovina",
          "Montenegro",
          "Dominican Republic",
          "Morocco",
          "Hungary",
          "Pakistan",
          "Lebanon",
          "Portugal",
          "Macedonia",
          "Vietnam",
          "Somaliland Region",
          "Tunisia",
          "Greece",
          "Tajikistan",
          "Mongolia",
          "Laos",
          "Nigeria",
          "Honduras",
          "Iran",
          "Zambia",
          "Nepal",
          "Palestinian Territories",
          "Albania",
          "Bangladesh",
          "Sierra Leone",
          "Iraq",
          "Namibia",
          "Cameroon",
          "Ethiopia",
          "South Africa",
          "Sri Lanka",
          "India",
          "Myanmar",
          "Egypt",
          "Armenia",
          "Kenya",
          "Ukraine",
          "Ghana",
          "Congo (Kinshasa)",
          "Georgia",
          "Congo (Brazzaville)",
          "Senegal",
          "Bulgaria",
          "Mauritania",
          "Zimbabwe",
          "Malawi",
          "Sudan",
          "Gabon",
          "Mali",
          "Haiti",
          "Botswana",
          "Comoros",
          "Ivory Coast",
          "Cambodia",
          "Angola",
          "Niger",
          "South Sudan",
          "Chad",
          "Burkina Faso",
          "Uganda",
          "Yemen",
          "Madagascar",
          "Tanzania",
          "Liberia",
          "Guinea",
          "Rwanda",
          "Benin",
          "Afghanistan",
          "Togo",
          "Syria",
          "Burundi"
         ],
         "legendgroup": "",
         "marker": {
          "color": [
           7.526,
           7.509,
           7.501,
           7.498,
           7.413,
           7.404,
           7.339,
           7.334,
           7.313,
           7.291,
           7.267,
           7.119,
           7.104,
           7.087,
           7.039,
           6.994,
           6.952,
           6.929,
           6.907,
           6.871,
           6.778,
           6.739,
           6.725,
           6.705,
           6.701,
           6.65,
           6.596,
           6.573,
           6.545,
           6.488,
           6.481,
           6.478,
           6.474,
           6.379,
           6.379,
           6.375,
           6.361,
           6.355,
           6.324,
           6.269,
           6.239,
           6.218,
           6.168,
           6.084,
           6.078,
           6.068,
           6.005,
           5.992,
           5.987,
           5.977,
           5.976,
           5.956,
           5.921,
           5.919,
           5.897,
           5.856,
           5.835,
           5.835,
           5.822,
           5.813,
           5.802,
           5.771,
           5.768,
           5.743,
           5.658,
           5.648,
           5.615,
           5.56,
           5.546,
           5.538,
           5.528,
           5.517,
           5.51,
           5.488,
           5.458,
           5.44,
           5.401,
           5.389,
           5.314,
           5.303,
           5.291,
           5.279,
           5.245,
           5.196,
           5.185,
           5.177,
           5.163,
           5.161,
           5.155,
           5.151,
           5.145,
           5.132,
           5.129,
           5.123,
           5.121,
           5.061,
           5.057,
           5.045,
           5.033,
           4.996,
           4.907,
           4.876,
           4.875,
           4.871,
           4.813,
           4.795,
           4.793,
           4.754,
           4.655,
           4.643,
           4.635,
           4.575,
           4.574,
           4.513,
           4.508,
           4.459,
           4.415,
           4.404,
           4.395,
           4.362,
           4.36,
           4.356,
           4.324,
           4.276,
           4.272,
           4.252,
           4.236,
           4.219,
           4.217,
           4.201,
           4.193,
           4.156,
           4.139,
           4.121,
           4.073,
           4.028,
           3.974,
           3.956,
           3.916,
           3.907,
           3.866,
           3.856,
           3.832,
           3.763,
           3.739,
           3.739,
           3.724,
           3.695,
           3.666,
           3.622,
           3.607,
           3.515,
           3.484,
           3.36,
           3.303,
           3.069,
           2.905
          ],
          "coloraxis": "coloraxis",
          "size": [
           7.526,
           7.509,
           7.501,
           7.498,
           7.413,
           7.404,
           7.339,
           7.334,
           7.313,
           7.291,
           7.267,
           7.119,
           7.104,
           7.087,
           7.039,
           6.994,
           6.952,
           6.929,
           6.907,
           6.871,
           6.778,
           6.739,
           6.725,
           6.705,
           6.701,
           6.65,
           6.596,
           6.573,
           6.545,
           6.488,
           6.481,
           6.478,
           6.474,
           6.379,
           6.379,
           6.375,
           6.361,
           6.355,
           6.324,
           6.269,
           6.239,
           6.218,
           6.168,
           6.084,
           6.078,
           6.068,
           6.005,
           5.992,
           5.987,
           5.977,
           5.976,
           5.956,
           5.921,
           5.919,
           5.897,
           5.856,
           5.835,
           5.835,
           5.822,
           5.813,
           5.802,
           5.771,
           5.768,
           5.743,
           5.658,
           5.648,
           5.615,
           5.56,
           5.546,
           5.538,
           5.528,
           5.517,
           5.51,
           5.488,
           5.458,
           5.44,
           5.401,
           5.389,
           5.314,
           5.303,
           5.291,
           5.279,
           5.245,
           5.196,
           5.185,
           5.177,
           5.163,
           5.161,
           5.155,
           5.151,
           5.145,
           5.132,
           5.129,
           5.123,
           5.121,
           5.061,
           5.057,
           5.045,
           5.033,
           4.996,
           4.907,
           4.876,
           4.875,
           4.871,
           4.813,
           4.795,
           4.793,
           4.754,
           4.655,
           4.643,
           4.635,
           4.575,
           4.574,
           4.513,
           4.508,
           4.459,
           4.415,
           4.404,
           4.395,
           4.362,
           4.36,
           4.356,
           4.324,
           4.276,
           4.272,
           4.252,
           4.236,
           4.219,
           4.217,
           4.201,
           4.193,
           4.156,
           4.139,
           4.121,
           4.073,
           4.028,
           3.974,
           3.956,
           3.916,
           3.907,
           3.866,
           3.856,
           3.832,
           3.763,
           3.739,
           3.739,
           3.724,
           3.695,
           3.666,
           3.622,
           3.607,
           3.515,
           3.484,
           3.36,
           3.303,
           3.069,
           2.905
          ],
          "sizemode": "area",
          "sizeref": 0.018815,
          "symbol": "circle"
         },
         "mode": "markers",
         "name": "",
         "orientation": "v",
         "showlegend": false,
         "type": "scatter",
         "x": [
          0.79504,
          0.86303,
          0.86733,
          0.79579,
          0.81091,
          0.8276,
          0.81231,
          0.83096,
          0.8512,
          0.83121,
          0.84917,
          0.80565,
          0.779,
          0.76146,
          0.77758,
          0.81487,
          0.61415,
          0.81959,
          0.81455,
          0.84542,
          0.71143,
          0.94719,
          0.80991,
          0.81883,
          0.70835,
          0.69711,
          0.76376,
          0.72993,
          0.72183,
          0.80315,
          0.59659,
          0.83795,
          0.64915,
          0.59267,
          0.79565,
          0.71723,
          0.87896,
          0.61804,
          0.54039,
          0.50933,
          0.63569,
          0.65696,
          0.52608,
          0.61904,
          0.70367,
          0.596,
          0.62366,
          0.65213,
          0.50163,
          0.85102,
          0.68613,
          0.45569,
          0.91491,
          0.57386,
          0.52309,
          0.58991,
          0.69058,
          0.88645,
          0.4697,
          0.64674,
          0.63104,
          0.84142,
          0.79151,
          0.62994,
          0.44006,
          0.66189,
          0.52304,
          0.63952,
          0.8488,
          0.58295,
          0.67602,
          0.68098,
          0.59469,
          0.70524,
          0.95277,
          0.11466,
          0.54,
          0.64718,
          0.49374,
          0.60712,
          0.54504,
          0.47036,
          0.73561,
          0.49759,
          0.55449,
          0.6458,
          0.70766,
          0.63533,
          0.57669,
          0.59471,
          0.67608,
          0.40306,
          0.76171,
          0.79363,
          0.64738,
          0.66157,
          0.33108,
          0.59577,
          0.80029,
          0.53119,
          0.55469,
          0.38291,
          0.05108,
          0.58383,
          0.64232,
          0.23573,
          0.50073,
          0.56844,
          0.73007,
          0.52989,
          0,
          0.51076,
          0.34745,
          0.12698,
          0.34578,
          0.18611,
          0.62007,
          0.45091,
          0.3988,
          0.52116,
          0.64083,
          0.30147,
          0.58628,
          0.29681,
          0.188,
          0.64035,
          0.28212,
          0.40457,
          0.67806,
          0.28639,
          0.1595,
          0.29364,
          0.29759,
          0.3494,
          0.16347,
          0.27494,
          0.34752,
          0.29981,
          0.04476,
          0.42494,
          0.04991,
          0.26162,
          0.15781,
          0.03824,
          0.21297,
          0.19625,
          0.31048,
          0.37109,
          0.357,
          0.23165,
          0.18829,
          0.31865,
          0.21028,
          0.17344,
          0.24811,
          0.62994,
          0.15747
         ],
         "xaxis": "x",
         "y": [
          0.57941,
          0.58557,
          0.56624,
          0.59609,
          0.57104,
          0.5737,
          0.55211,
          0.58147,
          0.56837,
          0.58218,
          0.36432,
          0.54355,
          0.48163,
          0.55225,
          0.46823,
          0.53466,
          0.40425,
          0.51354,
          0.54008,
          0.5487,
          0.37709,
          0.4877,
          0.50036,
          0.37789,
          0.48927,
          0.42284,
          0.41418,
          0.56215,
          0.54388,
          0.54994,
          0.44735,
          0.46562,
          0.49553,
          0.37904,
          0.32377,
          0.56679,
          0.37545,
          0.21006,
          0.50379,
          0.52234,
          0.43166,
          0.47375,
          0.48453,
          0.19847,
          0.23391,
          0.37269,
          0.39031,
          0.46582,
          0.60848,
          0.18827,
          0.4027,
          0.51231,
          0.46761,
          0.4052,
          0.25202,
          0.32682,
          0.4519,
          0.25168,
          0.50961,
          0.18929,
          0.29091,
          0.43596,
          0.53164,
          0.37502,
          0.37408,
          0.46145,
          0.40672,
          0.27996,
          0.29507,
          0.46235,
          0.36712,
          0.41511,
          0.43597,
          0.23907,
          0.48079,
          0.56778,
          0.14396,
          0.23889,
          0.39237,
          0.36023,
          0.35327,
          0.54854,
          0.44012,
          0.46074,
          0.40212,
          0.15718,
          0.09511,
          0.15111,
          0.52259,
          0.25646,
          0.1977,
          0.14622,
          0.26228,
          0.44727,
          0.27668,
          0.55954,
          0.3913,
          0.23553,
          0.05822,
          0.43408,
          0.35972,
          0.52168,
          0.27854,
          0.26755,
          0.22544,
          0.42662,
          0.37012,
          0.17744,
          0.31866,
          0.39778,
          0.30685,
          0.24856,
          0.48614,
          0.42736,
          0.36703,
          0.42483,
          0.50817,
          0.40285,
          0.42692,
          0.18847,
          0.14037,
          0.40576,
          0.12859,
          0.40973,
          0.15602,
          0.32461,
          0.37938,
          0.31056,
          0.21219,
          0.1268,
          0.25429,
          0.4143,
          0,
          0.28098,
          0.27544,
          0.12072,
          0.44089,
          0.15412,
          0.40663,
          0.58852,
          0.00589,
          0.38041,
          0.19662,
          0.12807,
          0.3337,
          0.43653,
          0.2287,
          0.13684,
          0.3176,
          0.25748,
          0.30953,
          0.5432,
          0.39747,
          0.1643,
          0.34678,
          0.06912,
          0.0432
         ],
         "yaxis": "y"
        }
       ],
       "layout": {
        "coloraxis": {
         "colorbar": {
          "title": {
           "text": "Happiness Score"
          }
         },
         "colorscale": [
          [
           0,
           "#440154"
          ],
          [
           0.1111111111111111,
           "#482878"
          ],
          [
           0.2222222222222222,
           "#3e4989"
          ],
          [
           0.3333333333333333,
           "#31688e"
          ],
          [
           0.4444444444444444,
           "#26828e"
          ],
          [
           0.5555555555555556,
           "#1f9e89"
          ],
          [
           0.6666666666666666,
           "#35b779"
          ],
          [
           0.7777777777777778,
           "#6ece58"
          ],
          [
           0.8888888888888888,
           "#b5de2b"
          ],
          [
           1,
           "#fde725"
          ]
         ]
        },
        "legend": {
         "itemsizing": "constant",
         "tracegroupgap": 0
        },
        "template": {
         "data": {
          "bar": [
           {
            "error_x": {
             "color": "#2a3f5f"
            },
            "error_y": {
             "color": "#2a3f5f"
            },
            "marker": {
             "line": {
              "color": "#E5ECF6",
              "width": 0.5
             },
             "pattern": {
              "fillmode": "overlay",
              "size": 10,
              "solidity": 0.2
             }
            },
            "type": "bar"
           }
          ],
          "barpolar": [
           {
            "marker": {
             "line": {
              "color": "#E5ECF6",
              "width": 0.5
             },
             "pattern": {
              "fillmode": "overlay",
              "size": 10,
              "solidity": 0.2
             }
            },
            "type": "barpolar"
           }
          ],
          "carpet": [
           {
            "aaxis": {
             "endlinecolor": "#2a3f5f",
             "gridcolor": "white",
             "linecolor": "white",
             "minorgridcolor": "white",
             "startlinecolor": "#2a3f5f"
            },
            "baxis": {
             "endlinecolor": "#2a3f5f",
             "gridcolor": "white",
             "linecolor": "white",
             "minorgridcolor": "white",
             "startlinecolor": "#2a3f5f"
            },
            "type": "carpet"
           }
          ],
          "choropleth": [
           {
            "colorbar": {
             "outlinewidth": 0,
             "ticks": ""
            },
            "type": "choropleth"
           }
          ],
          "contour": [
           {
            "colorbar": {
             "outlinewidth": 0,
             "ticks": ""
            },
            "colorscale": [
             [
              0,
              "#0d0887"
             ],
             [
              0.1111111111111111,
              "#46039f"
             ],
             [
              0.2222222222222222,
              "#7201a8"
             ],
             [
              0.3333333333333333,
              "#9c179e"
             ],
             [
              0.4444444444444444,
              "#bd3786"
             ],
             [
              0.5555555555555556,
              "#d8576b"
             ],
             [
              0.6666666666666666,
              "#ed7953"
             ],
             [
              0.7777777777777778,
              "#fb9f3a"
             ],
             [
              0.8888888888888888,
              "#fdca26"
             ],
             [
              1,
              "#f0f921"
             ]
            ],
            "type": "contour"
           }
          ],
          "contourcarpet": [
           {
            "colorbar": {
             "outlinewidth": 0,
             "ticks": ""
            },
            "type": "contourcarpet"
           }
          ],
          "heatmap": [
           {
            "colorbar": {
             "outlinewidth": 0,
             "ticks": ""
            },
            "colorscale": [
             [
              0,
              "#0d0887"
             ],
             [
              0.1111111111111111,
              "#46039f"
             ],
             [
              0.2222222222222222,
              "#7201a8"
             ],
             [
              0.3333333333333333,
              "#9c179e"
             ],
             [
              0.4444444444444444,
              "#bd3786"
             ],
             [
              0.5555555555555556,
              "#d8576b"
             ],
             [
              0.6666666666666666,
              "#ed7953"
             ],
             [
              0.7777777777777778,
              "#fb9f3a"
             ],
             [
              0.8888888888888888,
              "#fdca26"
             ],
             [
              1,
              "#f0f921"
             ]
            ],
            "type": "heatmap"
           }
          ],
          "heatmapgl": [
           {
            "colorbar": {
             "outlinewidth": 0,
             "ticks": ""
            },
            "colorscale": [
             [
              0,
              "#0d0887"
             ],
             [
              0.1111111111111111,
              "#46039f"
             ],
             [
              0.2222222222222222,
              "#7201a8"
             ],
             [
              0.3333333333333333,
              "#9c179e"
             ],
             [
              0.4444444444444444,
              "#bd3786"
             ],
             [
              0.5555555555555556,
              "#d8576b"
             ],
             [
              0.6666666666666666,
              "#ed7953"
             ],
             [
              0.7777777777777778,
              "#fb9f3a"
             ],
             [
              0.8888888888888888,
              "#fdca26"
             ],
             [
              1,
              "#f0f921"
             ]
            ],
            "type": "heatmapgl"
           }
          ],
          "histogram": [
           {
            "marker": {
             "pattern": {
              "fillmode": "overlay",
              "size": 10,
              "solidity": 0.2
             }
            },
            "type": "histogram"
           }
          ],
          "histogram2d": [
           {
            "colorbar": {
             "outlinewidth": 0,
             "ticks": ""
            },
            "colorscale": [
             [
              0,
              "#0d0887"
             ],
             [
              0.1111111111111111,
              "#46039f"
             ],
             [
              0.2222222222222222,
              "#7201a8"
             ],
             [
              0.3333333333333333,
              "#9c179e"
             ],
             [
              0.4444444444444444,
              "#bd3786"
             ],
             [
              0.5555555555555556,
              "#d8576b"
             ],
             [
              0.6666666666666666,
              "#ed7953"
             ],
             [
              0.7777777777777778,
              "#fb9f3a"
             ],
             [
              0.8888888888888888,
              "#fdca26"
             ],
             [
              1,
              "#f0f921"
             ]
            ],
            "type": "histogram2d"
           }
          ],
          "histogram2dcontour": [
           {
            "colorbar": {
             "outlinewidth": 0,
             "ticks": ""
            },
            "colorscale": [
             [
              0,
              "#0d0887"
             ],
             [
              0.1111111111111111,
              "#46039f"
             ],
             [
              0.2222222222222222,
              "#7201a8"
             ],
             [
              0.3333333333333333,
              "#9c179e"
             ],
             [
              0.4444444444444444,
              "#bd3786"
             ],
             [
              0.5555555555555556,
              "#d8576b"
             ],
             [
              0.6666666666666666,
              "#ed7953"
             ],
             [
              0.7777777777777778,
              "#fb9f3a"
             ],
             [
              0.8888888888888888,
              "#fdca26"
             ],
             [
              1,
              "#f0f921"
             ]
            ],
            "type": "histogram2dcontour"
           }
          ],
          "mesh3d": [
           {
            "colorbar": {
             "outlinewidth": 0,
             "ticks": ""
            },
            "type": "mesh3d"
           }
          ],
          "parcoords": [
           {
            "line": {
             "colorbar": {
              "outlinewidth": 0,
              "ticks": ""
             }
            },
            "type": "parcoords"
           }
          ],
          "pie": [
           {
            "automargin": true,
            "type": "pie"
           }
          ],
          "scatter": [
           {
            "fillpattern": {
             "fillmode": "overlay",
             "size": 10,
             "solidity": 0.2
            },
            "type": "scatter"
           }
          ],
          "scatter3d": [
           {
            "line": {
             "colorbar": {
              "outlinewidth": 0,
              "ticks": ""
             }
            },
            "marker": {
             "colorbar": {
              "outlinewidth": 0,
              "ticks": ""
             }
            },
            "type": "scatter3d"
           }
          ],
          "scattercarpet": [
           {
            "marker": {
             "colorbar": {
              "outlinewidth": 0,
              "ticks": ""
             }
            },
            "type": "scattercarpet"
           }
          ],
          "scattergeo": [
           {
            "marker": {
             "colorbar": {
              "outlinewidth": 0,
              "ticks": ""
             }
            },
            "type": "scattergeo"
           }
          ],
          "scattergl": [
           {
            "marker": {
             "colorbar": {
              "outlinewidth": 0,
              "ticks": ""
             }
            },
            "type": "scattergl"
           }
          ],
          "scattermapbox": [
           {
            "marker": {
             "colorbar": {
              "outlinewidth": 0,
              "ticks": ""
             }
            },
            "type": "scattermapbox"
           }
          ],
          "scatterpolar": [
           {
            "marker": {
             "colorbar": {
              "outlinewidth": 0,
              "ticks": ""
             }
            },
            "type": "scatterpolar"
           }
          ],
          "scatterpolargl": [
           {
            "marker": {
             "colorbar": {
              "outlinewidth": 0,
              "ticks": ""
             }
            },
            "type": "scatterpolargl"
           }
          ],
          "scatterternary": [
           {
            "marker": {
             "colorbar": {
              "outlinewidth": 0,
              "ticks": ""
             }
            },
            "type": "scatterternary"
           }
          ],
          "surface": [
           {
            "colorbar": {
             "outlinewidth": 0,
             "ticks": ""
            },
            "colorscale": [
             [
              0,
              "#0d0887"
             ],
             [
              0.1111111111111111,
              "#46039f"
             ],
             [
              0.2222222222222222,
              "#7201a8"
             ],
             [
              0.3333333333333333,
              "#9c179e"
             ],
             [
              0.4444444444444444,
              "#bd3786"
             ],
             [
              0.5555555555555556,
              "#d8576b"
             ],
             [
              0.6666666666666666,
              "#ed7953"
             ],
             [
              0.7777777777777778,
              "#fb9f3a"
             ],
             [
              0.8888888888888888,
              "#fdca26"
             ],
             [
              1,
              "#f0f921"
             ]
            ],
            "type": "surface"
           }
          ],
          "table": [
           {
            "cells": {
             "fill": {
              "color": "#EBF0F8"
             },
             "line": {
              "color": "white"
             }
            },
            "header": {
             "fill": {
              "color": "#C8D4E3"
             },
             "line": {
              "color": "white"
             }
            },
            "type": "table"
           }
          ]
         },
         "layout": {
          "annotationdefaults": {
           "arrowcolor": "#2a3f5f",
           "arrowhead": 0,
           "arrowwidth": 1
          },
          "autotypenumbers": "strict",
          "coloraxis": {
           "colorbar": {
            "outlinewidth": 0,
            "ticks": ""
           }
          },
          "colorscale": {
           "diverging": [
            [
             0,
             "#8e0152"
            ],
            [
             0.1,
             "#c51b7d"
            ],
            [
             0.2,
             "#de77ae"
            ],
            [
             0.3,
             "#f1b6da"
            ],
            [
             0.4,
             "#fde0ef"
            ],
            [
             0.5,
             "#f7f7f7"
            ],
            [
             0.6,
             "#e6f5d0"
            ],
            [
             0.7,
             "#b8e186"
            ],
            [
             0.8,
             "#7fbc41"
            ],
            [
             0.9,
             "#4d9221"
            ],
            [
             1,
             "#276419"
            ]
           ],
           "sequential": [
            [
             0,
             "#0d0887"
            ],
            [
             0.1111111111111111,
             "#46039f"
            ],
            [
             0.2222222222222222,
             "#7201a8"
            ],
            [
             0.3333333333333333,
             "#9c179e"
            ],
            [
             0.4444444444444444,
             "#bd3786"
            ],
            [
             0.5555555555555556,
             "#d8576b"
            ],
            [
             0.6666666666666666,
             "#ed7953"
            ],
            [
             0.7777777777777778,
             "#fb9f3a"
            ],
            [
             0.8888888888888888,
             "#fdca26"
            ],
            [
             1,
             "#f0f921"
            ]
           ],
           "sequentialminus": [
            [
             0,
             "#0d0887"
            ],
            [
             0.1111111111111111,
             "#46039f"
            ],
            [
             0.2222222222222222,
             "#7201a8"
            ],
            [
             0.3333333333333333,
             "#9c179e"
            ],
            [
             0.4444444444444444,
             "#bd3786"
            ],
            [
             0.5555555555555556,
             "#d8576b"
            ],
            [
             0.6666666666666666,
             "#ed7953"
            ],
            [
             0.7777777777777778,
             "#fb9f3a"
            ],
            [
             0.8888888888888888,
             "#fdca26"
            ],
            [
             1,
             "#f0f921"
            ]
           ]
          },
          "colorway": [
           "#636efa",
           "#EF553B",
           "#00cc96",
           "#ab63fa",
           "#FFA15A",
           "#19d3f3",
           "#FF6692",
           "#B6E880",
           "#FF97FF",
           "#FECB52"
          ],
          "font": {
           "color": "#2a3f5f"
          },
          "geo": {
           "bgcolor": "white",
           "lakecolor": "white",
           "landcolor": "#E5ECF6",
           "showlakes": true,
           "showland": true,
           "subunitcolor": "white"
          },
          "hoverlabel": {
           "align": "left"
          },
          "hovermode": "closest",
          "mapbox": {
           "style": "light"
          },
          "paper_bgcolor": "white",
          "plot_bgcolor": "#E5ECF6",
          "polar": {
           "angularaxis": {
            "gridcolor": "white",
            "linecolor": "white",
            "ticks": ""
           },
           "bgcolor": "#E5ECF6",
           "radialaxis": {
            "gridcolor": "white",
            "linecolor": "white",
            "ticks": ""
           }
          },
          "scene": {
           "xaxis": {
            "backgroundcolor": "#E5ECF6",
            "gridcolor": "white",
            "gridwidth": 2,
            "linecolor": "white",
            "showbackground": true,
            "ticks": "",
            "zerolinecolor": "white"
           },
           "yaxis": {
            "backgroundcolor": "#E5ECF6",
            "gridcolor": "white",
            "gridwidth": 2,
            "linecolor": "white",
            "showbackground": true,
            "ticks": "",
            "zerolinecolor": "white"
           },
           "zaxis": {
            "backgroundcolor": "#E5ECF6",
            "gridcolor": "white",
            "gridwidth": 2,
            "linecolor": "white",
            "showbackground": true,
            "ticks": "",
            "zerolinecolor": "white"
           }
          },
          "shapedefaults": {
           "line": {
            "color": "#2a3f5f"
           }
          },
          "ternary": {
           "aaxis": {
            "gridcolor": "white",
            "linecolor": "white",
            "ticks": ""
           },
           "baxis": {
            "gridcolor": "white",
            "linecolor": "white",
            "ticks": ""
           },
           "bgcolor": "#E5ECF6",
           "caxis": {
            "gridcolor": "white",
            "linecolor": "white",
            "ticks": ""
           }
          },
          "title": {
           "x": 0.05
          },
          "xaxis": {
           "automargin": true,
           "gridcolor": "white",
           "linecolor": "white",
           "ticks": "",
           "title": {
            "standoff": 15
           },
           "zerolinecolor": "white",
           "zerolinewidth": 2
          },
          "yaxis": {
           "automargin": true,
           "gridcolor": "white",
           "linecolor": "white",
           "ticks": "",
           "title": {
            "standoff": 15
           },
           "zerolinecolor": "white",
           "zerolinewidth": 2
          }
         }
        },
        "title": {
         "text": "Relationships between health, freedom, and happiness"
        },
        "xaxis": {
         "anchor": "y",
         "domain": [
          0,
          1
         ],
         "title": {
          "text": "Health (Life Expectancy)"
         }
        },
        "yaxis": {
         "anchor": "x",
         "domain": [
          0,
          1
         ],
         "title": {
          "text": "Freedom"
         }
        }
       }
      }
     },
     "metadata": {},
     "output_type": "display_data"
    }
   ],
   "source": [
    "px.scatter(\n",
    "    happiness_report,\n",
    "    x='Health (Life Expectancy)',\n",
    "    y='Freedom',\n",
    "    color='Happiness Score',\n",
    "    size='Happiness Score',\n",
    "    hover_name='Country',\n",
    "    color_continuous_scale='Viridis',\n",
    "    title='Relationships between health, freedom, and happiness'\n",
    ")\n"
   ]
  },
  {
   "cell_type": "code",
   "execution_count": 65,
   "metadata": {},
   "outputs": [
    {
     "data": {
      "text/html": [
       "<div>\n",
       "<style scoped>\n",
       "    .dataframe tbody tr th:only-of-type {\n",
       "        vertical-align: middle;\n",
       "    }\n",
       "\n",
       "    .dataframe tbody tr th {\n",
       "        vertical-align: top;\n",
       "    }\n",
       "\n",
       "    .dataframe thead th {\n",
       "        text-align: right;\n",
       "    }\n",
       "</style>\n",
       "<table border=\"1\" class=\"dataframe\">\n",
       "  <thead>\n",
       "    <tr style=\"text-align: right;\">\n",
       "      <th></th>\n",
       "      <th>Country</th>\n",
       "      <th>Population</th>\n",
       "      <th>log_pop</th>\n",
       "    </tr>\n",
       "  </thead>\n",
       "  <tbody>\n",
       "    <tr>\n",
       "      <th>0</th>\n",
       "      <td>Afghanistan</td>\n",
       "      <td>34636207</td>\n",
       "      <td>17.360410</td>\n",
       "    </tr>\n",
       "    <tr>\n",
       "      <th>1</th>\n",
       "      <td>Albania</td>\n",
       "      <td>2876101</td>\n",
       "      <td>14.871946</td>\n",
       "    </tr>\n",
       "    <tr>\n",
       "      <th>2</th>\n",
       "      <td>Algeria</td>\n",
       "      <td>40339329</td>\n",
       "      <td>17.512837</td>\n",
       "    </tr>\n",
       "    <tr>\n",
       "      <th>3</th>\n",
       "      <td>American Samoa</td>\n",
       "      <td>50448</td>\n",
       "      <td>10.828698</td>\n",
       "    </tr>\n",
       "    <tr>\n",
       "      <th>4</th>\n",
       "      <td>Andorra</td>\n",
       "      <td>72540</td>\n",
       "      <td>11.191893</td>\n",
       "    </tr>\n",
       "    <tr>\n",
       "      <th>...</th>\n",
       "      <td>...</td>\n",
       "      <td>...</td>\n",
       "      <td>...</td>\n",
       "    </tr>\n",
       "    <tr>\n",
       "      <th>261</th>\n",
       "      <td>Sub-Saharan Africa</td>\n",
       "      <td>1036155989</td>\n",
       "      <td>20.758784</td>\n",
       "    </tr>\n",
       "    <tr>\n",
       "      <th>262</th>\n",
       "      <td>Sub-Saharan Africa (excluding high income)</td>\n",
       "      <td>1036061312</td>\n",
       "      <td>20.758692</td>\n",
       "    </tr>\n",
       "    <tr>\n",
       "      <th>263</th>\n",
       "      <td>Sub-Saharan Africa (IDA &amp; IBRD countries)</td>\n",
       "      <td>1036155989</td>\n",
       "      <td>20.758784</td>\n",
       "    </tr>\n",
       "    <tr>\n",
       "      <th>264</th>\n",
       "      <td>Upper middle income</td>\n",
       "      <td>2711688425</td>\n",
       "      <td>21.720837</td>\n",
       "    </tr>\n",
       "    <tr>\n",
       "      <th>265</th>\n",
       "      <td>World</td>\n",
       "      <td>7490956237</td>\n",
       "      <td>22.736962</td>\n",
       "    </tr>\n",
       "  </tbody>\n",
       "</table>\n",
       "<p>265 rows × 3 columns</p>\n",
       "</div>"
      ],
      "text/plain": [
       "                                        Country  Population    log_pop\n",
       "0                                   Afghanistan    34636207  17.360410\n",
       "1                                       Albania     2876101  14.871946\n",
       "2                                       Algeria    40339329  17.512837\n",
       "3                                American Samoa       50448  10.828698\n",
       "4                                       Andorra       72540  11.191893\n",
       "..                                          ...         ...        ...\n",
       "261                          Sub-Saharan Africa  1036155989  20.758784\n",
       "262  Sub-Saharan Africa (excluding high income)  1036061312  20.758692\n",
       "263   Sub-Saharan Africa (IDA & IBRD countries)  1036155989  20.758784\n",
       "264                         Upper middle income  2711688425  21.720837\n",
       "265                                       World  7490956237  22.736962\n",
       "\n",
       "[265 rows x 3 columns]"
      ]
     },
     "execution_count": 65,
     "metadata": {},
     "output_type": "execute_result"
    }
   ],
   "source": [
    "import numpy as np\n",
    "\n",
    "data = pd.read_csv('data/pop-2016.csv', usecols=['Country Name', '2016 [YR2016]'])\n",
    "data.rename(columns={'Country Name': 'Country', '2016 [YR2016]': 'Population'}, inplace=True)\n",
    "data.dropna(inplace=True)\n",
    "data.drop(data[data['Population'] == '..'].index, inplace=True)\n",
    "data['Population'] = data['Population'].astype(int)\n",
    "# data['log_pop'] = data['Population'].apply(lambda x: np.log(x))\n",
    "data"
   ]
  },
  {
   "cell_type": "code",
   "execution_count": 66,
   "metadata": {},
   "outputs": [
    {
     "data": {
      "text/html": [
       "<div>\n",
       "<style scoped>\n",
       "    .dataframe tbody tr th:only-of-type {\n",
       "        vertical-align: middle;\n",
       "    }\n",
       "\n",
       "    .dataframe tbody tr th {\n",
       "        vertical-align: top;\n",
       "    }\n",
       "\n",
       "    .dataframe thead th {\n",
       "        text-align: right;\n",
       "    }\n",
       "</style>\n",
       "<table border=\"1\" class=\"dataframe\">\n",
       "  <thead>\n",
       "    <tr style=\"text-align: right;\">\n",
       "      <th></th>\n",
       "      <th>Country</th>\n",
       "      <th>Region</th>\n",
       "      <th>Happiness Rank</th>\n",
       "      <th>Happiness Score</th>\n",
       "      <th>Lower Confidence Interval</th>\n",
       "      <th>Upper Confidence Interval</th>\n",
       "      <th>Economy (GDP per Capita)</th>\n",
       "      <th>Family</th>\n",
       "      <th>Health (Life Expectancy)</th>\n",
       "      <th>Freedom</th>\n",
       "      <th>Trust (Government Corruption)</th>\n",
       "      <th>Generosity</th>\n",
       "      <th>Dystopia Residual</th>\n",
       "      <th>Population</th>\n",
       "      <th>log_pop</th>\n",
       "    </tr>\n",
       "  </thead>\n",
       "  <tbody>\n",
       "    <tr>\n",
       "      <th>0</th>\n",
       "      <td>Denmark</td>\n",
       "      <td>Western Europe</td>\n",
       "      <td>1</td>\n",
       "      <td>7.526</td>\n",
       "      <td>7.460</td>\n",
       "      <td>7.592</td>\n",
       "      <td>1.44178</td>\n",
       "      <td>1.16374</td>\n",
       "      <td>0.79504</td>\n",
       "      <td>0.57941</td>\n",
       "      <td>0.44453</td>\n",
       "      <td>0.36171</td>\n",
       "      <td>2.73939</td>\n",
       "      <td>5728010</td>\n",
       "      <td>15.560879</td>\n",
       "    </tr>\n",
       "    <tr>\n",
       "      <th>1</th>\n",
       "      <td>Switzerland</td>\n",
       "      <td>Western Europe</td>\n",
       "      <td>2</td>\n",
       "      <td>7.509</td>\n",
       "      <td>7.428</td>\n",
       "      <td>7.590</td>\n",
       "      <td>1.52733</td>\n",
       "      <td>1.14524</td>\n",
       "      <td>0.86303</td>\n",
       "      <td>0.58557</td>\n",
       "      <td>0.41203</td>\n",
       "      <td>0.28083</td>\n",
       "      <td>2.69463</td>\n",
       "      <td>8373338</td>\n",
       "      <td>15.940563</td>\n",
       "    </tr>\n",
       "    <tr>\n",
       "      <th>2</th>\n",
       "      <td>Iceland</td>\n",
       "      <td>Western Europe</td>\n",
       "      <td>3</td>\n",
       "      <td>7.501</td>\n",
       "      <td>7.333</td>\n",
       "      <td>7.669</td>\n",
       "      <td>1.42666</td>\n",
       "      <td>1.18326</td>\n",
       "      <td>0.86733</td>\n",
       "      <td>0.56624</td>\n",
       "      <td>0.14975</td>\n",
       "      <td>0.47678</td>\n",
       "      <td>2.83137</td>\n",
       "      <td>335439</td>\n",
       "      <td>12.723195</td>\n",
       "    </tr>\n",
       "    <tr>\n",
       "      <th>3</th>\n",
       "      <td>Norway</td>\n",
       "      <td>Western Europe</td>\n",
       "      <td>4</td>\n",
       "      <td>7.498</td>\n",
       "      <td>7.421</td>\n",
       "      <td>7.575</td>\n",
       "      <td>1.57744</td>\n",
       "      <td>1.12690</td>\n",
       "      <td>0.79579</td>\n",
       "      <td>0.59609</td>\n",
       "      <td>0.35776</td>\n",
       "      <td>0.37895</td>\n",
       "      <td>2.66465</td>\n",
       "      <td>5234519</td>\n",
       "      <td>15.470786</td>\n",
       "    </tr>\n",
       "    <tr>\n",
       "      <th>4</th>\n",
       "      <td>Finland</td>\n",
       "      <td>Western Europe</td>\n",
       "      <td>5</td>\n",
       "      <td>7.413</td>\n",
       "      <td>7.351</td>\n",
       "      <td>7.475</td>\n",
       "      <td>1.40598</td>\n",
       "      <td>1.13464</td>\n",
       "      <td>0.81091</td>\n",
       "      <td>0.57104</td>\n",
       "      <td>0.41004</td>\n",
       "      <td>0.25492</td>\n",
       "      <td>2.82596</td>\n",
       "      <td>5495303</td>\n",
       "      <td>15.519404</td>\n",
       "    </tr>\n",
       "    <tr>\n",
       "      <th>...</th>\n",
       "      <td>...</td>\n",
       "      <td>...</td>\n",
       "      <td>...</td>\n",
       "      <td>...</td>\n",
       "      <td>...</td>\n",
       "      <td>...</td>\n",
       "      <td>...</td>\n",
       "      <td>...</td>\n",
       "      <td>...</td>\n",
       "      <td>...</td>\n",
       "      <td>...</td>\n",
       "      <td>...</td>\n",
       "      <td>...</td>\n",
       "      <td>...</td>\n",
       "      <td>...</td>\n",
       "    </tr>\n",
       "    <tr>\n",
       "      <th>130</th>\n",
       "      <td>Rwanda</td>\n",
       "      <td>Sub-Saharan Africa</td>\n",
       "      <td>152</td>\n",
       "      <td>3.515</td>\n",
       "      <td>3.444</td>\n",
       "      <td>3.586</td>\n",
       "      <td>0.32846</td>\n",
       "      <td>0.61586</td>\n",
       "      <td>0.31865</td>\n",
       "      <td>0.54320</td>\n",
       "      <td>0.50521</td>\n",
       "      <td>0.23552</td>\n",
       "      <td>0.96819</td>\n",
       "      <td>11930899</td>\n",
       "      <td>16.294642</td>\n",
       "    </tr>\n",
       "    <tr>\n",
       "      <th>131</th>\n",
       "      <td>Benin</td>\n",
       "      <td>Sub-Saharan Africa</td>\n",
       "      <td>153</td>\n",
       "      <td>3.484</td>\n",
       "      <td>3.404</td>\n",
       "      <td>3.564</td>\n",
       "      <td>0.39499</td>\n",
       "      <td>0.10419</td>\n",
       "      <td>0.21028</td>\n",
       "      <td>0.39747</td>\n",
       "      <td>0.06681</td>\n",
       "      <td>0.20180</td>\n",
       "      <td>2.10812</td>\n",
       "      <td>11260085</td>\n",
       "      <td>16.236775</td>\n",
       "    </tr>\n",
       "    <tr>\n",
       "      <th>132</th>\n",
       "      <td>Afghanistan</td>\n",
       "      <td>Southern Asia</td>\n",
       "      <td>154</td>\n",
       "      <td>3.360</td>\n",
       "      <td>3.288</td>\n",
       "      <td>3.432</td>\n",
       "      <td>0.38227</td>\n",
       "      <td>0.11037</td>\n",
       "      <td>0.17344</td>\n",
       "      <td>0.16430</td>\n",
       "      <td>0.07112</td>\n",
       "      <td>0.31268</td>\n",
       "      <td>2.14558</td>\n",
       "      <td>34636207</td>\n",
       "      <td>17.360410</td>\n",
       "    </tr>\n",
       "    <tr>\n",
       "      <th>133</th>\n",
       "      <td>Togo</td>\n",
       "      <td>Sub-Saharan Africa</td>\n",
       "      <td>155</td>\n",
       "      <td>3.303</td>\n",
       "      <td>3.192</td>\n",
       "      <td>3.414</td>\n",
       "      <td>0.28123</td>\n",
       "      <td>0.00000</td>\n",
       "      <td>0.24811</td>\n",
       "      <td>0.34678</td>\n",
       "      <td>0.11587</td>\n",
       "      <td>0.17517</td>\n",
       "      <td>2.13540</td>\n",
       "      <td>7661354</td>\n",
       "      <td>15.851699</td>\n",
       "    </tr>\n",
       "    <tr>\n",
       "      <th>134</th>\n",
       "      <td>Burundi</td>\n",
       "      <td>Sub-Saharan Africa</td>\n",
       "      <td>157</td>\n",
       "      <td>2.905</td>\n",
       "      <td>2.732</td>\n",
       "      <td>3.078</td>\n",
       "      <td>0.06831</td>\n",
       "      <td>0.23442</td>\n",
       "      <td>0.15747</td>\n",
       "      <td>0.04320</td>\n",
       "      <td>0.09419</td>\n",
       "      <td>0.20290</td>\n",
       "      <td>2.10404</td>\n",
       "      <td>10903327</td>\n",
       "      <td>16.204579</td>\n",
       "    </tr>\n",
       "  </tbody>\n",
       "</table>\n",
       "<p>135 rows × 15 columns</p>\n",
       "</div>"
      ],
      "text/plain": [
       "         Country              Region  Happiness Rank  Happiness Score  \\\n",
       "0        Denmark      Western Europe               1            7.526   \n",
       "1    Switzerland      Western Europe               2            7.509   \n",
       "2        Iceland      Western Europe               3            7.501   \n",
       "3         Norway      Western Europe               4            7.498   \n",
       "4        Finland      Western Europe               5            7.413   \n",
       "..           ...                 ...             ...              ...   \n",
       "130       Rwanda  Sub-Saharan Africa             152            3.515   \n",
       "131        Benin  Sub-Saharan Africa             153            3.484   \n",
       "132  Afghanistan       Southern Asia             154            3.360   \n",
       "133         Togo  Sub-Saharan Africa             155            3.303   \n",
       "134      Burundi  Sub-Saharan Africa             157            2.905   \n",
       "\n",
       "     Lower Confidence Interval  Upper Confidence Interval  \\\n",
       "0                        7.460                      7.592   \n",
       "1                        7.428                      7.590   \n",
       "2                        7.333                      7.669   \n",
       "3                        7.421                      7.575   \n",
       "4                        7.351                      7.475   \n",
       "..                         ...                        ...   \n",
       "130                      3.444                      3.586   \n",
       "131                      3.404                      3.564   \n",
       "132                      3.288                      3.432   \n",
       "133                      3.192                      3.414   \n",
       "134                      2.732                      3.078   \n",
       "\n",
       "     Economy (GDP per Capita)   Family  Health (Life Expectancy)  Freedom  \\\n",
       "0                     1.44178  1.16374                   0.79504  0.57941   \n",
       "1                     1.52733  1.14524                   0.86303  0.58557   \n",
       "2                     1.42666  1.18326                   0.86733  0.56624   \n",
       "3                     1.57744  1.12690                   0.79579  0.59609   \n",
       "4                     1.40598  1.13464                   0.81091  0.57104   \n",
       "..                        ...      ...                       ...      ...   \n",
       "130                   0.32846  0.61586                   0.31865  0.54320   \n",
       "131                   0.39499  0.10419                   0.21028  0.39747   \n",
       "132                   0.38227  0.11037                   0.17344  0.16430   \n",
       "133                   0.28123  0.00000                   0.24811  0.34678   \n",
       "134                   0.06831  0.23442                   0.15747  0.04320   \n",
       "\n",
       "     Trust (Government Corruption)  Generosity  Dystopia Residual  Population  \\\n",
       "0                          0.44453     0.36171            2.73939     5728010   \n",
       "1                          0.41203     0.28083            2.69463     8373338   \n",
       "2                          0.14975     0.47678            2.83137      335439   \n",
       "3                          0.35776     0.37895            2.66465     5234519   \n",
       "4                          0.41004     0.25492            2.82596     5495303   \n",
       "..                             ...         ...                ...         ...   \n",
       "130                        0.50521     0.23552            0.96819    11930899   \n",
       "131                        0.06681     0.20180            2.10812    11260085   \n",
       "132                        0.07112     0.31268            2.14558    34636207   \n",
       "133                        0.11587     0.17517            2.13540     7661354   \n",
       "134                        0.09419     0.20290            2.10404    10903327   \n",
       "\n",
       "       log_pop  \n",
       "0    15.560879  \n",
       "1    15.940563  \n",
       "2    12.723195  \n",
       "3    15.470786  \n",
       "4    15.519404  \n",
       "..         ...  \n",
       "130  16.294642  \n",
       "131  16.236775  \n",
       "132  17.360410  \n",
       "133  15.851699  \n",
       "134  16.204579  \n",
       "\n",
       "[135 rows x 15 columns]"
      ]
     },
     "execution_count": 66,
     "metadata": {},
     "output_type": "execute_result"
    }
   ],
   "source": [
    "happiness_report_df = happiness_report.merge(data, on='Country')\n",
    "happiness_report_df"
   ]
  },
  {
   "cell_type": "code",
   "execution_count": 70,
   "metadata": {},
   "outputs": [
    {
     "data": {
      "application/vnd.plotly.v1+json": {
       "config": {
        "plotlyServerURL": "https://plot.ly"
       },
       "data": [
        {
         "hovertemplate": "<b>%{hovertext}</b><br><br>Trust (Government Corruption)=%{x}<br>Generosity=%{y}<br>Population=%{marker.size}<br>Happiness Score=%{marker.color}<extra></extra>",
         "hovertext": [
          "Denmark",
          "Switzerland",
          "Iceland",
          "Norway",
          "Finland",
          "Canada",
          "Netherlands",
          "New Zealand",
          "Australia",
          "Sweden",
          "Israel",
          "Austria",
          "United States",
          "Costa Rica",
          "Puerto Rico",
          "Germany",
          "Brazil",
          "Belgium",
          "Ireland",
          "Luxembourg",
          "Mexico",
          "Singapore",
          "United Kingdom",
          "Chile",
          "Panama",
          "Argentina",
          "United Arab Emirates",
          "Uruguay",
          "Malta",
          "Colombia",
          "France",
          "Thailand",
          "Saudi Arabia",
          "Qatar",
          "Spain",
          "Algeria",
          "Guatemala",
          "Suriname",
          "Kuwait",
          "Bahrain",
          "Trinidad and Tobago",
          "El Salvador",
          "Malaysia",
          "Nicaragua",
          "Uzbekistan",
          "Italy",
          "Ecuador",
          "Belize",
          "Japan",
          "Kazakhstan",
          "Moldova",
          "Poland",
          "Bolivia",
          "Lithuania",
          "Belarus",
          "Slovenia",
          "Peru",
          "Turkmenistan",
          "Mauritius",
          "Libya",
          "Latvia",
          "Cyprus",
          "Paraguay",
          "Romania",
          "Estonia",
          "Jamaica",
          "Croatia",
          "Somalia",
          "Kosovo",
          "Indonesia",
          "Jordan",
          "Azerbaijan",
          "Philippines",
          "China",
          "Bhutan",
          "Serbia",
          "Bosnia and Herzegovina",
          "Montenegro",
          "Dominican Republic",
          "Morocco",
          "Hungary",
          "Pakistan",
          "Lebanon",
          "Portugal",
          "Tunisia",
          "Greece",
          "Tajikistan",
          "Mongolia",
          "Nigeria",
          "Honduras",
          "Zambia",
          "Nepal",
          "Albania",
          "Bangladesh",
          "Sierra Leone",
          "Iraq",
          "Namibia",
          "Cameroon",
          "Ethiopia",
          "South Africa",
          "Sri Lanka",
          "India",
          "Myanmar",
          "Armenia",
          "Kenya",
          "Ukraine",
          "Ghana",
          "Georgia",
          "Senegal",
          "Bulgaria",
          "Mauritania",
          "Zimbabwe",
          "Malawi",
          "Sudan",
          "Gabon",
          "Mali",
          "Haiti",
          "Botswana",
          "Comoros",
          "Cambodia",
          "Angola",
          "Niger",
          "South Sudan",
          "Chad",
          "Burkina Faso",
          "Uganda",
          "Madagascar",
          "Tanzania",
          "Liberia",
          "Guinea",
          "Rwanda",
          "Benin",
          "Afghanistan",
          "Togo",
          "Burundi"
         ],
         "legendgroup": "",
         "marker": {
          "color": [
           7.526,
           7.509,
           7.501,
           7.498,
           7.413,
           7.404,
           7.339,
           7.334,
           7.313,
           7.291,
           7.267,
           7.119,
           7.104,
           7.087,
           7.039,
           6.994,
           6.952,
           6.929,
           6.907,
           6.871,
           6.778,
           6.739,
           6.725,
           6.705,
           6.701,
           6.65,
           6.573,
           6.545,
           6.488,
           6.481,
           6.478,
           6.474,
           6.379,
           6.375,
           6.361,
           6.355,
           6.324,
           6.269,
           6.239,
           6.218,
           6.168,
           6.068,
           6.005,
           5.992,
           5.987,
           5.977,
           5.976,
           5.956,
           5.921,
           5.919,
           5.897,
           5.835,
           5.822,
           5.813,
           5.802,
           5.768,
           5.743,
           5.658,
           5.648,
           5.615,
           5.56,
           5.546,
           5.538,
           5.528,
           5.517,
           5.51,
           5.488,
           5.44,
           5.401,
           5.314,
           5.303,
           5.291,
           5.279,
           5.245,
           5.196,
           5.177,
           5.163,
           5.161,
           5.155,
           5.151,
           5.145,
           5.132,
           5.129,
           5.123,
           5.045,
           5.033,
           4.996,
           4.907,
           4.875,
           4.871,
           4.795,
           4.793,
           4.655,
           4.643,
           4.635,
           4.575,
           4.574,
           4.513,
           4.508,
           4.459,
           4.415,
           4.404,
           4.395,
           4.36,
           4.356,
           4.324,
           4.276,
           4.252,
           4.219,
           4.217,
           4.201,
           4.193,
           4.156,
           4.139,
           4.121,
           4.073,
           4.028,
           3.974,
           3.956,
           3.907,
           3.866,
           3.856,
           3.832,
           3.763,
           3.739,
           3.739,
           3.695,
           3.666,
           3.622,
           3.607,
           3.515,
           3.484,
           3.36,
           3.303,
           2.905
          ],
          "coloraxis": "coloraxis",
          "size": [
           5728010,
           8373338,
           335439,
           5234519,
           5495303,
           36110803,
           17030314,
           4714100,
           24190907,
           9923085,
           8546000,
           8736668,
           323071755,
           4945205,
           3406672,
           82348669,
           206859578,
           11331422,
           4755335,
           582014,
           121519221,
           5607283,
           65611593,
           18083879,
           4026336,
           43590368,
           8994263,
           3413766,
           455356,
           47625955,
           66724104,
           70607037,
           33416270,
           2595166,
           46484062,
           40339329,
           15827690,
           581453,
           4048085,
           1409661,
           1469330,
           6250510,
           31526418,
           6389235,
           31847900,
           60627498,
           16439585,
           367313,
           127076000,
           17794055,
           2803186,
           37970087,
           11263015,
           2868231,
           9469379,
           2065042,
           31132779,
           5868561,
           1263747,
           6282196,
           1959537,
           1197881,
           6266615,
           19702267,
           1315790,
           2802695,
           4174349,
           14292847,
           1777557,
           261850182,
           9964656,
           9757812,
           104875266,
           1387790000,
           749761,
           7058322,
           3480986,
           622303,
           10527592,
           35107264,
           9814023,
           213524840,
           6258619,
           10325452,
           11685667,
           10775971,
           8725318,
           3029555,
           188666931,
           9460798,
           16767761,
           27861186,
           2876101,
           159784568,
           7493913,
           38697943,
           2323352,
           23711630,
           105293228,
           56422274,
           21425494,
           1338636340,
           51892349,
           2865835,
           47894670,
           45038236,
           29554303,
           3727505,
           14751356,
           7127822,
           4051890,
           14452704,
           17405624,
           39377169,
           2086206,
           18700106,
           10713849,
           2352416,
           746232,
           15624584,
           29154746,
           20921743,
           11066105,
           14592585,
           19275498,
           38748299,
           25501941,
           54401802,
           4706097,
           11930985,
           11930899,
           11260085,
           34636207,
           7661354,
           10903327
          ],
          "sizemode": "area",
          "sizeref": 3469475,
          "symbol": "circle"
         },
         "mode": "markers",
         "name": "",
         "orientation": "v",
         "showlegend": false,
         "type": "scatter",
         "x": [
          0.44453,
          0.41203,
          0.14975,
          0.35776,
          0.41004,
          0.31329,
          0.29927,
          0.41904,
          0.32331,
          0.40867,
          0.08728,
          0.21348,
          0.14868,
          0.10547,
          0.12275,
          0.28551,
          0.14166,
          0.26248,
          0.29754,
          0.35329,
          0.18355,
          0.46987,
          0.27399,
          0.11451,
          0.08423,
          0.07296,
          0.35561,
          0.21394,
          0.17554,
          0.05399,
          0.17808,
          0.02833,
          0.30008,
          0.48049,
          0.06137,
          0.16157,
          0.08701,
          0.12692,
          0.23669,
          0.25772,
          0.01241,
          0.10613,
          0.09081,
          0.16292,
          0.28333,
          0.02556,
          0.18037,
          0.10771,
          0.18985,
          0.11132,
          0.01903,
          0.055,
          0.07746,
          0.0182,
          0.17457,
          0.03635,
          0.05292,
          0.28467,
          0.05203,
          0.10339,
          0.0889,
          0.05228,
          0.07396,
          0.00679,
          0.18519,
          0.04294,
          0.04002,
          0.3118,
          0.06547,
          0.00322,
          0.13297,
          0.17914,
          0.11757,
          0.02745,
          0.1616,
          0.04339,
          0,
          0.12721,
          0.12372,
          0.08404,
          0.04472,
          0.1388,
          0.03061,
          0.01521,
          0.0817,
          0.04127,
          0.13509,
          0.03285,
          0.0305,
          0.06906,
          0.11479,
          0.07008,
          0.05301,
          0.12583,
          0.08196,
          0.13636,
          0.10398,
          0.06126,
          0.1717,
          0.08415,
          0.07964,
          0.08722,
          0.20243,
          0.03616,
          0.06686,
          0.01829,
          0.0326,
          0.3188,
          0.11681,
          0.00615,
          0.17955,
          0.08582,
          0.07564,
          0.10039,
          0.09314,
          0.13647,
          0.14476,
          0.10769,
          0.18437,
          0.08092,
          0.08434,
          0.17176,
          0.13015,
          0.04952,
          0.12533,
          0.06442,
          0.07506,
          0.05099,
          0.04852,
          0.1192,
          0.50521,
          0.06681,
          0.07112,
          0.11587,
          0.09419
         ],
         "xaxis": "x",
         "y": [
          0.36171,
          0.28083,
          0.47678,
          0.37895,
          0.25492,
          0.44834,
          0.47416,
          0.49401,
          0.47407,
          0.38254,
          0.32288,
          0.32865,
          0.41077,
          0.22553,
          0.22202,
          0.30452,
          0.15776,
          0.2424,
          0.44963,
          0.27571,
          0.11735,
          0.32706,
          0.50156,
          0.31595,
          0.2418,
          0.10989,
          0.26591,
          0.18056,
          0.56237,
          0.15626,
          0.1216,
          0.58696,
          0.15457,
          0.32388,
          0.17665,
          0.07044,
          0.28808,
          0.16665,
          0.15965,
          0.17147,
          0.31935,
          0.08877,
          0.41474,
          0.29773,
          0.34326,
          0.16684,
          0.10074,
          0.23684,
          0.10224,
          0.15011,
          0.19997,
          0.14443,
          0.21698,
          0.02025,
          0.13942,
          0.25738,
          0.14527,
          0.22567,
          0.36951,
          0.17087,
          0.17445,
          0.27906,
          0.25296,
          0.12889,
          0.08423,
          0.22245,
          0.18434,
          0.27225,
          0.27992,
          0.56521,
          0.14262,
          0.0564,
          0.21674,
          0.04959,
          0.48546,
          0.20737,
          0.29889,
          0.17191,
          0.21286,
          0.04053,
          0.099,
          0.31185,
          0.23693,
          0.11691,
          0.03936,
          0,
          0.25998,
          0.34539,
          0.23219,
          0.2044,
          0.17866,
          0.3816,
          0.1684,
          0.19132,
          0.23897,
          0.19589,
          0.07795,
          0.2268,
          0.29522,
          0.13656,
          0.46978,
          0.25028,
          0.81971,
          0.07793,
          0.41328,
          0.20363,
          0.21203,
          0.06786,
          0.19103,
          0.12793,
          0.22686,
          0.18503,
          0.30968,
          0.18077,
          0.06244,
          0.21064,
          0.47958,
          0.12425,
          0.1827,
          0.40339,
          0.12071,
          0.2097,
          0.25899,
          0.18667,
          0.24353,
          0.27102,
          0.2204,
          0.31472,
          0.24063,
          0.29914,
          0.23552,
          0.2018,
          0.31268,
          0.17517,
          0.2029
         ],
         "yaxis": "y"
        }
       ],
       "layout": {
        "coloraxis": {
         "colorbar": {
          "title": {
           "text": "Happiness Score"
          }
         },
         "colorscale": [
          [
           0,
           "#0d0887"
          ],
          [
           0.1111111111111111,
           "#46039f"
          ],
          [
           0.2222222222222222,
           "#7201a8"
          ],
          [
           0.3333333333333333,
           "#9c179e"
          ],
          [
           0.4444444444444444,
           "#bd3786"
          ],
          [
           0.5555555555555556,
           "#d8576b"
          ],
          [
           0.6666666666666666,
           "#ed7953"
          ],
          [
           0.7777777777777778,
           "#fb9f3a"
          ],
          [
           0.8888888888888888,
           "#fdca26"
          ],
          [
           1,
           "#f0f921"
          ]
         ]
        },
        "legend": {
         "itemsizing": "constant",
         "tracegroupgap": 0
        },
        "template": {
         "data": {
          "bar": [
           {
            "error_x": {
             "color": "#2a3f5f"
            },
            "error_y": {
             "color": "#2a3f5f"
            },
            "marker": {
             "line": {
              "color": "#E5ECF6",
              "width": 0.5
             },
             "pattern": {
              "fillmode": "overlay",
              "size": 10,
              "solidity": 0.2
             }
            },
            "type": "bar"
           }
          ],
          "barpolar": [
           {
            "marker": {
             "line": {
              "color": "#E5ECF6",
              "width": 0.5
             },
             "pattern": {
              "fillmode": "overlay",
              "size": 10,
              "solidity": 0.2
             }
            },
            "type": "barpolar"
           }
          ],
          "carpet": [
           {
            "aaxis": {
             "endlinecolor": "#2a3f5f",
             "gridcolor": "white",
             "linecolor": "white",
             "minorgridcolor": "white",
             "startlinecolor": "#2a3f5f"
            },
            "baxis": {
             "endlinecolor": "#2a3f5f",
             "gridcolor": "white",
             "linecolor": "white",
             "minorgridcolor": "white",
             "startlinecolor": "#2a3f5f"
            },
            "type": "carpet"
           }
          ],
          "choropleth": [
           {
            "colorbar": {
             "outlinewidth": 0,
             "ticks": ""
            },
            "type": "choropleth"
           }
          ],
          "contour": [
           {
            "colorbar": {
             "outlinewidth": 0,
             "ticks": ""
            },
            "colorscale": [
             [
              0,
              "#0d0887"
             ],
             [
              0.1111111111111111,
              "#46039f"
             ],
             [
              0.2222222222222222,
              "#7201a8"
             ],
             [
              0.3333333333333333,
              "#9c179e"
             ],
             [
              0.4444444444444444,
              "#bd3786"
             ],
             [
              0.5555555555555556,
              "#d8576b"
             ],
             [
              0.6666666666666666,
              "#ed7953"
             ],
             [
              0.7777777777777778,
              "#fb9f3a"
             ],
             [
              0.8888888888888888,
              "#fdca26"
             ],
             [
              1,
              "#f0f921"
             ]
            ],
            "type": "contour"
           }
          ],
          "contourcarpet": [
           {
            "colorbar": {
             "outlinewidth": 0,
             "ticks": ""
            },
            "type": "contourcarpet"
           }
          ],
          "heatmap": [
           {
            "colorbar": {
             "outlinewidth": 0,
             "ticks": ""
            },
            "colorscale": [
             [
              0,
              "#0d0887"
             ],
             [
              0.1111111111111111,
              "#46039f"
             ],
             [
              0.2222222222222222,
              "#7201a8"
             ],
             [
              0.3333333333333333,
              "#9c179e"
             ],
             [
              0.4444444444444444,
              "#bd3786"
             ],
             [
              0.5555555555555556,
              "#d8576b"
             ],
             [
              0.6666666666666666,
              "#ed7953"
             ],
             [
              0.7777777777777778,
              "#fb9f3a"
             ],
             [
              0.8888888888888888,
              "#fdca26"
             ],
             [
              1,
              "#f0f921"
             ]
            ],
            "type": "heatmap"
           }
          ],
          "heatmapgl": [
           {
            "colorbar": {
             "outlinewidth": 0,
             "ticks": ""
            },
            "colorscale": [
             [
              0,
              "#0d0887"
             ],
             [
              0.1111111111111111,
              "#46039f"
             ],
             [
              0.2222222222222222,
              "#7201a8"
             ],
             [
              0.3333333333333333,
              "#9c179e"
             ],
             [
              0.4444444444444444,
              "#bd3786"
             ],
             [
              0.5555555555555556,
              "#d8576b"
             ],
             [
              0.6666666666666666,
              "#ed7953"
             ],
             [
              0.7777777777777778,
              "#fb9f3a"
             ],
             [
              0.8888888888888888,
              "#fdca26"
             ],
             [
              1,
              "#f0f921"
             ]
            ],
            "type": "heatmapgl"
           }
          ],
          "histogram": [
           {
            "marker": {
             "pattern": {
              "fillmode": "overlay",
              "size": 10,
              "solidity": 0.2
             }
            },
            "type": "histogram"
           }
          ],
          "histogram2d": [
           {
            "colorbar": {
             "outlinewidth": 0,
             "ticks": ""
            },
            "colorscale": [
             [
              0,
              "#0d0887"
             ],
             [
              0.1111111111111111,
              "#46039f"
             ],
             [
              0.2222222222222222,
              "#7201a8"
             ],
             [
              0.3333333333333333,
              "#9c179e"
             ],
             [
              0.4444444444444444,
              "#bd3786"
             ],
             [
              0.5555555555555556,
              "#d8576b"
             ],
             [
              0.6666666666666666,
              "#ed7953"
             ],
             [
              0.7777777777777778,
              "#fb9f3a"
             ],
             [
              0.8888888888888888,
              "#fdca26"
             ],
             [
              1,
              "#f0f921"
             ]
            ],
            "type": "histogram2d"
           }
          ],
          "histogram2dcontour": [
           {
            "colorbar": {
             "outlinewidth": 0,
             "ticks": ""
            },
            "colorscale": [
             [
              0,
              "#0d0887"
             ],
             [
              0.1111111111111111,
              "#46039f"
             ],
             [
              0.2222222222222222,
              "#7201a8"
             ],
             [
              0.3333333333333333,
              "#9c179e"
             ],
             [
              0.4444444444444444,
              "#bd3786"
             ],
             [
              0.5555555555555556,
              "#d8576b"
             ],
             [
              0.6666666666666666,
              "#ed7953"
             ],
             [
              0.7777777777777778,
              "#fb9f3a"
             ],
             [
              0.8888888888888888,
              "#fdca26"
             ],
             [
              1,
              "#f0f921"
             ]
            ],
            "type": "histogram2dcontour"
           }
          ],
          "mesh3d": [
           {
            "colorbar": {
             "outlinewidth": 0,
             "ticks": ""
            },
            "type": "mesh3d"
           }
          ],
          "parcoords": [
           {
            "line": {
             "colorbar": {
              "outlinewidth": 0,
              "ticks": ""
             }
            },
            "type": "parcoords"
           }
          ],
          "pie": [
           {
            "automargin": true,
            "type": "pie"
           }
          ],
          "scatter": [
           {
            "fillpattern": {
             "fillmode": "overlay",
             "size": 10,
             "solidity": 0.2
            },
            "type": "scatter"
           }
          ],
          "scatter3d": [
           {
            "line": {
             "colorbar": {
              "outlinewidth": 0,
              "ticks": ""
             }
            },
            "marker": {
             "colorbar": {
              "outlinewidth": 0,
              "ticks": ""
             }
            },
            "type": "scatter3d"
           }
          ],
          "scattercarpet": [
           {
            "marker": {
             "colorbar": {
              "outlinewidth": 0,
              "ticks": ""
             }
            },
            "type": "scattercarpet"
           }
          ],
          "scattergeo": [
           {
            "marker": {
             "colorbar": {
              "outlinewidth": 0,
              "ticks": ""
             }
            },
            "type": "scattergeo"
           }
          ],
          "scattergl": [
           {
            "marker": {
             "colorbar": {
              "outlinewidth": 0,
              "ticks": ""
             }
            },
            "type": "scattergl"
           }
          ],
          "scattermapbox": [
           {
            "marker": {
             "colorbar": {
              "outlinewidth": 0,
              "ticks": ""
             }
            },
            "type": "scattermapbox"
           }
          ],
          "scatterpolar": [
           {
            "marker": {
             "colorbar": {
              "outlinewidth": 0,
              "ticks": ""
             }
            },
            "type": "scatterpolar"
           }
          ],
          "scatterpolargl": [
           {
            "marker": {
             "colorbar": {
              "outlinewidth": 0,
              "ticks": ""
             }
            },
            "type": "scatterpolargl"
           }
          ],
          "scatterternary": [
           {
            "marker": {
             "colorbar": {
              "outlinewidth": 0,
              "ticks": ""
             }
            },
            "type": "scatterternary"
           }
          ],
          "surface": [
           {
            "colorbar": {
             "outlinewidth": 0,
             "ticks": ""
            },
            "colorscale": [
             [
              0,
              "#0d0887"
             ],
             [
              0.1111111111111111,
              "#46039f"
             ],
             [
              0.2222222222222222,
              "#7201a8"
             ],
             [
              0.3333333333333333,
              "#9c179e"
             ],
             [
              0.4444444444444444,
              "#bd3786"
             ],
             [
              0.5555555555555556,
              "#d8576b"
             ],
             [
              0.6666666666666666,
              "#ed7953"
             ],
             [
              0.7777777777777778,
              "#fb9f3a"
             ],
             [
              0.8888888888888888,
              "#fdca26"
             ],
             [
              1,
              "#f0f921"
             ]
            ],
            "type": "surface"
           }
          ],
          "table": [
           {
            "cells": {
             "fill": {
              "color": "#EBF0F8"
             },
             "line": {
              "color": "white"
             }
            },
            "header": {
             "fill": {
              "color": "#C8D4E3"
             },
             "line": {
              "color": "white"
             }
            },
            "type": "table"
           }
          ]
         },
         "layout": {
          "annotationdefaults": {
           "arrowcolor": "#2a3f5f",
           "arrowhead": 0,
           "arrowwidth": 1
          },
          "autotypenumbers": "strict",
          "coloraxis": {
           "colorbar": {
            "outlinewidth": 0,
            "ticks": ""
           }
          },
          "colorscale": {
           "diverging": [
            [
             0,
             "#8e0152"
            ],
            [
             0.1,
             "#c51b7d"
            ],
            [
             0.2,
             "#de77ae"
            ],
            [
             0.3,
             "#f1b6da"
            ],
            [
             0.4,
             "#fde0ef"
            ],
            [
             0.5,
             "#f7f7f7"
            ],
            [
             0.6,
             "#e6f5d0"
            ],
            [
             0.7,
             "#b8e186"
            ],
            [
             0.8,
             "#7fbc41"
            ],
            [
             0.9,
             "#4d9221"
            ],
            [
             1,
             "#276419"
            ]
           ],
           "sequential": [
            [
             0,
             "#0d0887"
            ],
            [
             0.1111111111111111,
             "#46039f"
            ],
            [
             0.2222222222222222,
             "#7201a8"
            ],
            [
             0.3333333333333333,
             "#9c179e"
            ],
            [
             0.4444444444444444,
             "#bd3786"
            ],
            [
             0.5555555555555556,
             "#d8576b"
            ],
            [
             0.6666666666666666,
             "#ed7953"
            ],
            [
             0.7777777777777778,
             "#fb9f3a"
            ],
            [
             0.8888888888888888,
             "#fdca26"
            ],
            [
             1,
             "#f0f921"
            ]
           ],
           "sequentialminus": [
            [
             0,
             "#0d0887"
            ],
            [
             0.1111111111111111,
             "#46039f"
            ],
            [
             0.2222222222222222,
             "#7201a8"
            ],
            [
             0.3333333333333333,
             "#9c179e"
            ],
            [
             0.4444444444444444,
             "#bd3786"
            ],
            [
             0.5555555555555556,
             "#d8576b"
            ],
            [
             0.6666666666666666,
             "#ed7953"
            ],
            [
             0.7777777777777778,
             "#fb9f3a"
            ],
            [
             0.8888888888888888,
             "#fdca26"
            ],
            [
             1,
             "#f0f921"
            ]
           ]
          },
          "colorway": [
           "#636efa",
           "#EF553B",
           "#00cc96",
           "#ab63fa",
           "#FFA15A",
           "#19d3f3",
           "#FF6692",
           "#B6E880",
           "#FF97FF",
           "#FECB52"
          ],
          "font": {
           "color": "#2a3f5f"
          },
          "geo": {
           "bgcolor": "white",
           "lakecolor": "white",
           "landcolor": "#E5ECF6",
           "showlakes": true,
           "showland": true,
           "subunitcolor": "white"
          },
          "hoverlabel": {
           "align": "left"
          },
          "hovermode": "closest",
          "mapbox": {
           "style": "light"
          },
          "paper_bgcolor": "white",
          "plot_bgcolor": "#E5ECF6",
          "polar": {
           "angularaxis": {
            "gridcolor": "white",
            "linecolor": "white",
            "ticks": ""
           },
           "bgcolor": "#E5ECF6",
           "radialaxis": {
            "gridcolor": "white",
            "linecolor": "white",
            "ticks": ""
           }
          },
          "scene": {
           "xaxis": {
            "backgroundcolor": "#E5ECF6",
            "gridcolor": "white",
            "gridwidth": 2,
            "linecolor": "white",
            "showbackground": true,
            "ticks": "",
            "zerolinecolor": "white"
           },
           "yaxis": {
            "backgroundcolor": "#E5ECF6",
            "gridcolor": "white",
            "gridwidth": 2,
            "linecolor": "white",
            "showbackground": true,
            "ticks": "",
            "zerolinecolor": "white"
           },
           "zaxis": {
            "backgroundcolor": "#E5ECF6",
            "gridcolor": "white",
            "gridwidth": 2,
            "linecolor": "white",
            "showbackground": true,
            "ticks": "",
            "zerolinecolor": "white"
           }
          },
          "shapedefaults": {
           "line": {
            "color": "#2a3f5f"
           }
          },
          "ternary": {
           "aaxis": {
            "gridcolor": "white",
            "linecolor": "white",
            "ticks": ""
           },
           "baxis": {
            "gridcolor": "white",
            "linecolor": "white",
            "ticks": ""
           },
           "bgcolor": "#E5ECF6",
           "caxis": {
            "gridcolor": "white",
            "linecolor": "white",
            "ticks": ""
           }
          },
          "title": {
           "x": 0.05
          },
          "xaxis": {
           "automargin": true,
           "gridcolor": "white",
           "linecolor": "white",
           "ticks": "",
           "title": {
            "standoff": 15
           },
           "zerolinecolor": "white",
           "zerolinewidth": 2
          },
          "yaxis": {
           "automargin": true,
           "gridcolor": "white",
           "linecolor": "white",
           "ticks": "",
           "title": {
            "standoff": 15
           },
           "zerolinecolor": "white",
           "zerolinewidth": 2
          }
         }
        },
        "title": {
         "text": "Impact of Trust (Government Corruption) and Generosity on Happiness Scores"
        },
        "xaxis": {
         "anchor": "y",
         "domain": [
          0,
          1
         ],
         "title": {
          "text": "Social Support"
         }
        },
        "yaxis": {
         "anchor": "x",
         "domain": [
          0,
          1
         ],
         "title": {
          "text": "Generosity"
         }
        }
       }
      }
     },
     "metadata": {},
     "output_type": "display_data"
    }
   ],
   "source": [
    "import plotly.express as px\n",
    "\n",
    "fig = px.scatter(happiness_report_df, x='Trust (Government Corruption)', y='Generosity', size='Population',\n",
    "                 color='Happiness Score', hover_name='Country',\n",
    "                 title='Impact of Trust (Government Corruption) and Generosity on Happiness Scores',\n",
    "                 labels={'Trust (Government Corruption)': 'Trust (Government Corruption)', 'Generosity': 'Generosity', 'Population': 'Population'})\n",
    "\n",
    "fig.update_layout(xaxis=dict(title='Social Support'), yaxis=dict(title='Generosity'))\n",
    "\n",
    "fig.show()\n"
   ]
  }
 ],
 "metadata": {
  "kernelspec": {
   "display_name": ".venv",
   "language": "python",
   "name": "python3"
  },
  "language_info": {
   "codemirror_mode": {
    "name": "ipython",
    "version": 3
   },
   "file_extension": ".py",
   "mimetype": "text/x-python",
   "name": "python",
   "nbconvert_exporter": "python",
   "pygments_lexer": "ipython3",
   "version": "3.11.6"
  }
 },
 "nbformat": 4,
 "nbformat_minor": 2
}
