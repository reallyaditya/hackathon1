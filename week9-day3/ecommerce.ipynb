{
 "cells": [
  {
   "cell_type": "code",
   "execution_count": 3,
   "metadata": {},
   "outputs": [
    {
     "name": "stdout",
     "output_type": "stream",
     "text": [
      "Dataset URL: https://www.kaggle.com/datasets/uom190346a/e-commerce-customer-behavior-dataset\n"
     ]
    }
   ],
   "source": [
    "import kaggle\n",
    "\n",
    "kaggle.api.dataset_download_files('uom190346a/e-commerce-customer-behavior-dataset', path='.', unzip=True)"
   ]
  },
  {
   "cell_type": "code",
   "execution_count": 15,
   "metadata": {},
   "outputs": [
    {
     "data": {
      "application/vnd.plotly.v1+json": {
       "config": {
        "plotlyServerURL": "https://plot.ly"
       },
       "data": [
        {
         "alignmentgroup": "True",
         "hovertemplate": "Age=%{x}<br>Total Spend=%{y}<extra></extra>",
         "legendgroup": "",
         "marker": {
          "color": "#636efa",
          "pattern": {
           "shape": ""
          }
         },
         "name": "",
         "offsetgroup": "",
         "orientation": "v",
         "showlegend": false,
         "textposition": "auto",
         "type": "bar",
         "x": [
          29,
          34,
          43,
          30,
          27,
          37,
          31,
          35,
          41,
          28,
          32,
          36,
          30,
          33,
          42,
          29,
          26,
          38,
          32,
          34,
          43,
          30,
          27,
          37,
          31,
          35,
          41,
          28,
          32,
          36,
          30,
          33,
          42,
          29,
          26,
          38,
          32,
          34,
          43,
          30,
          27,
          37,
          31,
          35,
          41,
          28,
          32,
          36,
          30,
          34,
          43,
          30,
          27,
          37,
          31,
          35,
          41,
          28,
          32,
          36,
          30,
          33,
          42,
          29,
          26,
          38,
          32,
          34,
          43,
          30,
          27,
          37,
          31,
          35,
          41,
          28,
          32,
          36,
          30,
          34,
          43,
          30,
          27,
          37,
          31,
          35,
          41,
          28,
          32,
          36,
          30,
          33,
          42,
          29,
          26,
          38,
          32,
          34,
          43,
          30,
          27,
          37,
          31,
          35,
          41,
          28,
          32,
          36,
          30,
          34,
          43,
          30,
          27,
          37,
          31,
          35,
          41,
          28,
          32,
          36,
          30,
          33,
          42,
          29,
          26,
          38,
          32,
          34,
          43,
          30,
          27,
          37,
          31,
          35,
          41,
          28,
          32,
          36,
          30,
          34,
          43,
          30,
          27,
          37,
          31,
          35,
          41,
          28,
          32,
          36,
          30,
          34,
          43,
          30,
          27,
          37,
          31,
          35,
          41,
          28,
          32,
          36,
          30,
          33,
          42,
          29,
          26,
          38,
          32,
          34,
          43,
          30,
          27,
          37,
          31,
          35,
          41,
          28,
          32,
          36,
          30,
          34,
          43,
          30,
          27,
          37,
          31,
          35,
          41,
          28,
          32,
          36,
          30,
          33,
          42,
          29,
          26,
          38,
          32,
          34,
          36,
          29,
          35,
          31,
          27,
          42,
          29,
          26,
          38,
          32,
          34,
          43,
          30,
          27,
          37,
          31,
          35,
          41,
          28,
          32,
          36,
          30,
          34,
          43,
          30,
          27,
          37,
          31,
          35,
          41,
          28,
          32,
          36,
          30,
          33,
          42,
          29,
          26,
          38,
          32,
          34,
          43,
          30,
          27,
          37,
          31,
          35,
          41,
          28,
          32,
          36,
          30,
          34,
          43,
          30,
          27,
          37,
          31,
          35,
          41,
          28,
          32,
          36,
          30,
          34,
          43,
          30,
          27,
          37,
          31,
          35,
          41,
          28,
          32,
          36,
          30,
          33,
          43,
          30,
          27,
          37,
          31,
          35,
          41,
          28,
          32,
          36,
          30,
          34,
          43,
          30,
          27,
          37,
          31,
          35,
          41,
          28,
          32,
          36,
          30,
          33,
          43,
          30,
          27,
          37,
          31,
          35,
          41,
          28,
          32,
          36,
          30,
          34,
          43,
          30,
          27,
          37,
          31,
          35,
          41,
          28,
          32,
          36,
          30,
          34,
          43,
          30,
          27,
          37,
          31,
          35,
          41,
          28,
          32,
          36,
          30,
          34,
          43,
          30,
          27,
          37,
          31,
          35,
          41,
          28,
          32,
          36,
          30,
          34,
          43
         ],
         "xaxis": "x",
         "y": [
          1120.2,
          780.5,
          510.75,
          1480.3,
          720.4,
          440.8,
          1150.6,
          800.9,
          495.25,
          1520.1,
          690.3,
          470.5,
          1200.8,
          820.75,
          530.4,
          1360.2,
          700.6,
          450.9,
          1170.3,
          790.2,
          505.75,
          1470.5,
          710.4,
          430.8,
          1140.6,
          810.9,
          485.25,
          1500.1,
          670.3,
          460.5,
          1190.8,
          830.75,
          520.4,
          1370.2,
          690.6,
          440.9,
          1160.3,
          800.2,
          500.75,
          1460.5,
          700.4,
          420.8,
          1130.6,
          820.9,
          480.25,
          1490.1,
          680.3,
          470.5,
          1180.8,
          790.2,
          505.75,
          1470.5,
          710.4,
          430.8,
          1140.6,
          810.9,
          485.25,
          1500.1,
          670.3,
          460.5,
          1190.8,
          830.75,
          520.4,
          1370.2,
          690.6,
          440.9,
          1160.3,
          800.2,
          500.75,
          1460.5,
          700.4,
          420.8,
          1130.6,
          820.9,
          480.25,
          1490.1,
          680.3,
          470.5,
          1180.8,
          790.2,
          505.75,
          1470.5,
          710.4,
          430.8,
          1140.6,
          810.9,
          485.25,
          1500.1,
          670.3,
          460.5,
          1190.8,
          830.75,
          520.4,
          1370.2,
          690.6,
          440.9,
          1160.3,
          800.2,
          500.75,
          1460.5,
          700.4,
          420.8,
          1130.6,
          820.9,
          480.25,
          1490.1,
          680.3,
          470.5,
          1180.8,
          790.2,
          505.75,
          1470.5,
          710.4,
          430.8,
          1140.6,
          810.9,
          485.25,
          1500.1,
          670.3,
          460.5,
          1190.8,
          830.75,
          520.4,
          1370.2,
          690.6,
          440.9,
          1160.3,
          800.2,
          500.75,
          1460.5,
          700.4,
          420.8,
          1130.6,
          820.9,
          480.25,
          1490.1,
          680.3,
          470.5,
          1180.8,
          790.2,
          505.75,
          1470.5,
          710.4,
          430.8,
          1130.6,
          820.9,
          480.25,
          1490.1,
          680.3,
          470.5,
          1180.8,
          790.2,
          505.75,
          1470.5,
          710.4,
          430.8,
          1140.6,
          810.9,
          485.25,
          1500.1,
          670.3,
          460.5,
          1190.8,
          830.75,
          520.4,
          1370.2,
          690.6,
          440.9,
          1160.3,
          800.2,
          500.75,
          1460.5,
          700.4,
          430.8,
          1140.6,
          820.9,
          480.25,
          1490.1,
          680.3,
          470.5,
          1180.8,
          790.2,
          505.75,
          1470.5,
          710.4,
          430.8,
          1130.6,
          820.9,
          485.25,
          1500.1,
          670.3,
          460.5,
          1190.8,
          830.75,
          520.4,
          1370.2,
          690.6,
          440.9,
          1160.3,
          800.2,
          1420.8,
          730.4,
          450.6,
          1210.6,
          780.9,
          495.25,
          1390.2,
          670.6,
          460.9,
          1170.3,
          810.2,
          515.75,
          1450.5,
          690.4,
          420.8,
          1130.6,
          820.9,
          480.25,
          1490.1,
          680.3,
          470.5,
          1180.8,
          790.2,
          505.75,
          1470.5,
          710.4,
          430.8,
          1140.6,
          820.9,
          485.25,
          1500.1,
          670.3,
          460.5,
          1190.8,
          830.75,
          520.4,
          1370.2,
          690.6,
          440.9,
          1160.3,
          800.2,
          525.75,
          1460.5,
          720.4,
          440.8,
          1150.6,
          830.9,
          490.25,
          1480.1,
          690.3,
          480.5,
          1170.8,
          790.2,
          510.75,
          1440.5,
          700.4,
          410.8,
          1160.6,
          810.9,
          495.25,
          1490.1,
          660.3,
          430.5,
          1200.8,
          780.2,
          505.75,
          1460.5,
          710.4,
          450.8,
          1140.6,
          800.9,
          475.25,
          1480.1,
          660.3,
          470.5,
          1190.8,
          770.2,
          515.75,
          1450.5,
          710.4,
          430.8,
          1160.6,
          820.9,
          495.25,
          1490.1,
          660.3,
          440.5,
          1200.8,
          780.2,
          505.75,
          1460.5,
          710.4,
          450.8,
          1140.6,
          800.9,
          475.25,
          1480.1,
          660.3,
          470.5,
          1190.8,
          800.2,
          515.75,
          1450.5,
          710.4,
          430.8,
          1160.6,
          820.9,
          495.25,
          1490.1,
          660.3,
          440.5,
          1200.8,
          780.2,
          505.75,
          1460.5,
          710.4,
          450.8,
          1140.6,
          800.9,
          475.25,
          1480.1,
          660.3,
          470.5,
          1190.8,
          780.2,
          515.75,
          1450.5,
          710.4,
          430.8,
          1160.6,
          820.9,
          495.25,
          1490.1,
          660.3,
          440.5,
          1200.8,
          780.2,
          505.75,
          1460.5,
          710.4,
          450.8,
          1140.6,
          800.9,
          475.25,
          1480.1,
          660.3,
          470.5,
          1190.8,
          780.2,
          515.75
         ],
         "yaxis": "y"
        }
       ],
       "layout": {
        "barmode": "relative",
        "legend": {
         "tracegroupgap": 0
        },
        "template": {
         "data": {
          "bar": [
           {
            "error_x": {
             "color": "#2a3f5f"
            },
            "error_y": {
             "color": "#2a3f5f"
            },
            "marker": {
             "line": {
              "color": "#E5ECF6",
              "width": 0.5
             },
             "pattern": {
              "fillmode": "overlay",
              "size": 10,
              "solidity": 0.2
             }
            },
            "type": "bar"
           }
          ],
          "barpolar": [
           {
            "marker": {
             "line": {
              "color": "#E5ECF6",
              "width": 0.5
             },
             "pattern": {
              "fillmode": "overlay",
              "size": 10,
              "solidity": 0.2
             }
            },
            "type": "barpolar"
           }
          ],
          "carpet": [
           {
            "aaxis": {
             "endlinecolor": "#2a3f5f",
             "gridcolor": "white",
             "linecolor": "white",
             "minorgridcolor": "white",
             "startlinecolor": "#2a3f5f"
            },
            "baxis": {
             "endlinecolor": "#2a3f5f",
             "gridcolor": "white",
             "linecolor": "white",
             "minorgridcolor": "white",
             "startlinecolor": "#2a3f5f"
            },
            "type": "carpet"
           }
          ],
          "choropleth": [
           {
            "colorbar": {
             "outlinewidth": 0,
             "ticks": ""
            },
            "type": "choropleth"
           }
          ],
          "contour": [
           {
            "colorbar": {
             "outlinewidth": 0,
             "ticks": ""
            },
            "colorscale": [
             [
              0,
              "#0d0887"
             ],
             [
              0.1111111111111111,
              "#46039f"
             ],
             [
              0.2222222222222222,
              "#7201a8"
             ],
             [
              0.3333333333333333,
              "#9c179e"
             ],
             [
              0.4444444444444444,
              "#bd3786"
             ],
             [
              0.5555555555555556,
              "#d8576b"
             ],
             [
              0.6666666666666666,
              "#ed7953"
             ],
             [
              0.7777777777777778,
              "#fb9f3a"
             ],
             [
              0.8888888888888888,
              "#fdca26"
             ],
             [
              1,
              "#f0f921"
             ]
            ],
            "type": "contour"
           }
          ],
          "contourcarpet": [
           {
            "colorbar": {
             "outlinewidth": 0,
             "ticks": ""
            },
            "type": "contourcarpet"
           }
          ],
          "heatmap": [
           {
            "colorbar": {
             "outlinewidth": 0,
             "ticks": ""
            },
            "colorscale": [
             [
              0,
              "#0d0887"
             ],
             [
              0.1111111111111111,
              "#46039f"
             ],
             [
              0.2222222222222222,
              "#7201a8"
             ],
             [
              0.3333333333333333,
              "#9c179e"
             ],
             [
              0.4444444444444444,
              "#bd3786"
             ],
             [
              0.5555555555555556,
              "#d8576b"
             ],
             [
              0.6666666666666666,
              "#ed7953"
             ],
             [
              0.7777777777777778,
              "#fb9f3a"
             ],
             [
              0.8888888888888888,
              "#fdca26"
             ],
             [
              1,
              "#f0f921"
             ]
            ],
            "type": "heatmap"
           }
          ],
          "heatmapgl": [
           {
            "colorbar": {
             "outlinewidth": 0,
             "ticks": ""
            },
            "colorscale": [
             [
              0,
              "#0d0887"
             ],
             [
              0.1111111111111111,
              "#46039f"
             ],
             [
              0.2222222222222222,
              "#7201a8"
             ],
             [
              0.3333333333333333,
              "#9c179e"
             ],
             [
              0.4444444444444444,
              "#bd3786"
             ],
             [
              0.5555555555555556,
              "#d8576b"
             ],
             [
              0.6666666666666666,
              "#ed7953"
             ],
             [
              0.7777777777777778,
              "#fb9f3a"
             ],
             [
              0.8888888888888888,
              "#fdca26"
             ],
             [
              1,
              "#f0f921"
             ]
            ],
            "type": "heatmapgl"
           }
          ],
          "histogram": [
           {
            "marker": {
             "pattern": {
              "fillmode": "overlay",
              "size": 10,
              "solidity": 0.2
             }
            },
            "type": "histogram"
           }
          ],
          "histogram2d": [
           {
            "colorbar": {
             "outlinewidth": 0,
             "ticks": ""
            },
            "colorscale": [
             [
              0,
              "#0d0887"
             ],
             [
              0.1111111111111111,
              "#46039f"
             ],
             [
              0.2222222222222222,
              "#7201a8"
             ],
             [
              0.3333333333333333,
              "#9c179e"
             ],
             [
              0.4444444444444444,
              "#bd3786"
             ],
             [
              0.5555555555555556,
              "#d8576b"
             ],
             [
              0.6666666666666666,
              "#ed7953"
             ],
             [
              0.7777777777777778,
              "#fb9f3a"
             ],
             [
              0.8888888888888888,
              "#fdca26"
             ],
             [
              1,
              "#f0f921"
             ]
            ],
            "type": "histogram2d"
           }
          ],
          "histogram2dcontour": [
           {
            "colorbar": {
             "outlinewidth": 0,
             "ticks": ""
            },
            "colorscale": [
             [
              0,
              "#0d0887"
             ],
             [
              0.1111111111111111,
              "#46039f"
             ],
             [
              0.2222222222222222,
              "#7201a8"
             ],
             [
              0.3333333333333333,
              "#9c179e"
             ],
             [
              0.4444444444444444,
              "#bd3786"
             ],
             [
              0.5555555555555556,
              "#d8576b"
             ],
             [
              0.6666666666666666,
              "#ed7953"
             ],
             [
              0.7777777777777778,
              "#fb9f3a"
             ],
             [
              0.8888888888888888,
              "#fdca26"
             ],
             [
              1,
              "#f0f921"
             ]
            ],
            "type": "histogram2dcontour"
           }
          ],
          "mesh3d": [
           {
            "colorbar": {
             "outlinewidth": 0,
             "ticks": ""
            },
            "type": "mesh3d"
           }
          ],
          "parcoords": [
           {
            "line": {
             "colorbar": {
              "outlinewidth": 0,
              "ticks": ""
             }
            },
            "type": "parcoords"
           }
          ],
          "pie": [
           {
            "automargin": true,
            "type": "pie"
           }
          ],
          "scatter": [
           {
            "fillpattern": {
             "fillmode": "overlay",
             "size": 10,
             "solidity": 0.2
            },
            "type": "scatter"
           }
          ],
          "scatter3d": [
           {
            "line": {
             "colorbar": {
              "outlinewidth": 0,
              "ticks": ""
             }
            },
            "marker": {
             "colorbar": {
              "outlinewidth": 0,
              "ticks": ""
             }
            },
            "type": "scatter3d"
           }
          ],
          "scattercarpet": [
           {
            "marker": {
             "colorbar": {
              "outlinewidth": 0,
              "ticks": ""
             }
            },
            "type": "scattercarpet"
           }
          ],
          "scattergeo": [
           {
            "marker": {
             "colorbar": {
              "outlinewidth": 0,
              "ticks": ""
             }
            },
            "type": "scattergeo"
           }
          ],
          "scattergl": [
           {
            "marker": {
             "colorbar": {
              "outlinewidth": 0,
              "ticks": ""
             }
            },
            "type": "scattergl"
           }
          ],
          "scattermapbox": [
           {
            "marker": {
             "colorbar": {
              "outlinewidth": 0,
              "ticks": ""
             }
            },
            "type": "scattermapbox"
           }
          ],
          "scatterpolar": [
           {
            "marker": {
             "colorbar": {
              "outlinewidth": 0,
              "ticks": ""
             }
            },
            "type": "scatterpolar"
           }
          ],
          "scatterpolargl": [
           {
            "marker": {
             "colorbar": {
              "outlinewidth": 0,
              "ticks": ""
             }
            },
            "type": "scatterpolargl"
           }
          ],
          "scatterternary": [
           {
            "marker": {
             "colorbar": {
              "outlinewidth": 0,
              "ticks": ""
             }
            },
            "type": "scatterternary"
           }
          ],
          "surface": [
           {
            "colorbar": {
             "outlinewidth": 0,
             "ticks": ""
            },
            "colorscale": [
             [
              0,
              "#0d0887"
             ],
             [
              0.1111111111111111,
              "#46039f"
             ],
             [
              0.2222222222222222,
              "#7201a8"
             ],
             [
              0.3333333333333333,
              "#9c179e"
             ],
             [
              0.4444444444444444,
              "#bd3786"
             ],
             [
              0.5555555555555556,
              "#d8576b"
             ],
             [
              0.6666666666666666,
              "#ed7953"
             ],
             [
              0.7777777777777778,
              "#fb9f3a"
             ],
             [
              0.8888888888888888,
              "#fdca26"
             ],
             [
              1,
              "#f0f921"
             ]
            ],
            "type": "surface"
           }
          ],
          "table": [
           {
            "cells": {
             "fill": {
              "color": "#EBF0F8"
             },
             "line": {
              "color": "white"
             }
            },
            "header": {
             "fill": {
              "color": "#C8D4E3"
             },
             "line": {
              "color": "white"
             }
            },
            "type": "table"
           }
          ]
         },
         "layout": {
          "annotationdefaults": {
           "arrowcolor": "#2a3f5f",
           "arrowhead": 0,
           "arrowwidth": 1
          },
          "autotypenumbers": "strict",
          "coloraxis": {
           "colorbar": {
            "outlinewidth": 0,
            "ticks": ""
           }
          },
          "colorscale": {
           "diverging": [
            [
             0,
             "#8e0152"
            ],
            [
             0.1,
             "#c51b7d"
            ],
            [
             0.2,
             "#de77ae"
            ],
            [
             0.3,
             "#f1b6da"
            ],
            [
             0.4,
             "#fde0ef"
            ],
            [
             0.5,
             "#f7f7f7"
            ],
            [
             0.6,
             "#e6f5d0"
            ],
            [
             0.7,
             "#b8e186"
            ],
            [
             0.8,
             "#7fbc41"
            ],
            [
             0.9,
             "#4d9221"
            ],
            [
             1,
             "#276419"
            ]
           ],
           "sequential": [
            [
             0,
             "#0d0887"
            ],
            [
             0.1111111111111111,
             "#46039f"
            ],
            [
             0.2222222222222222,
             "#7201a8"
            ],
            [
             0.3333333333333333,
             "#9c179e"
            ],
            [
             0.4444444444444444,
             "#bd3786"
            ],
            [
             0.5555555555555556,
             "#d8576b"
            ],
            [
             0.6666666666666666,
             "#ed7953"
            ],
            [
             0.7777777777777778,
             "#fb9f3a"
            ],
            [
             0.8888888888888888,
             "#fdca26"
            ],
            [
             1,
             "#f0f921"
            ]
           ],
           "sequentialminus": [
            [
             0,
             "#0d0887"
            ],
            [
             0.1111111111111111,
             "#46039f"
            ],
            [
             0.2222222222222222,
             "#7201a8"
            ],
            [
             0.3333333333333333,
             "#9c179e"
            ],
            [
             0.4444444444444444,
             "#bd3786"
            ],
            [
             0.5555555555555556,
             "#d8576b"
            ],
            [
             0.6666666666666666,
             "#ed7953"
            ],
            [
             0.7777777777777778,
             "#fb9f3a"
            ],
            [
             0.8888888888888888,
             "#fdca26"
            ],
            [
             1,
             "#f0f921"
            ]
           ]
          },
          "colorway": [
           "#636efa",
           "#EF553B",
           "#00cc96",
           "#ab63fa",
           "#FFA15A",
           "#19d3f3",
           "#FF6692",
           "#B6E880",
           "#FF97FF",
           "#FECB52"
          ],
          "font": {
           "color": "#2a3f5f"
          },
          "geo": {
           "bgcolor": "white",
           "lakecolor": "white",
           "landcolor": "#E5ECF6",
           "showlakes": true,
           "showland": true,
           "subunitcolor": "white"
          },
          "hoverlabel": {
           "align": "left"
          },
          "hovermode": "closest",
          "mapbox": {
           "style": "light"
          },
          "paper_bgcolor": "white",
          "plot_bgcolor": "#E5ECF6",
          "polar": {
           "angularaxis": {
            "gridcolor": "white",
            "linecolor": "white",
            "ticks": ""
           },
           "bgcolor": "#E5ECF6",
           "radialaxis": {
            "gridcolor": "white",
            "linecolor": "white",
            "ticks": ""
           }
          },
          "scene": {
           "xaxis": {
            "backgroundcolor": "#E5ECF6",
            "gridcolor": "white",
            "gridwidth": 2,
            "linecolor": "white",
            "showbackground": true,
            "ticks": "",
            "zerolinecolor": "white"
           },
           "yaxis": {
            "backgroundcolor": "#E5ECF6",
            "gridcolor": "white",
            "gridwidth": 2,
            "linecolor": "white",
            "showbackground": true,
            "ticks": "",
            "zerolinecolor": "white"
           },
           "zaxis": {
            "backgroundcolor": "#E5ECF6",
            "gridcolor": "white",
            "gridwidth": 2,
            "linecolor": "white",
            "showbackground": true,
            "ticks": "",
            "zerolinecolor": "white"
           }
          },
          "shapedefaults": {
           "line": {
            "color": "#2a3f5f"
           }
          },
          "ternary": {
           "aaxis": {
            "gridcolor": "white",
            "linecolor": "white",
            "ticks": ""
           },
           "baxis": {
            "gridcolor": "white",
            "linecolor": "white",
            "ticks": ""
           },
           "bgcolor": "#E5ECF6",
           "caxis": {
            "gridcolor": "white",
            "linecolor": "white",
            "ticks": ""
           }
          },
          "title": {
           "x": 0.05
          },
          "xaxis": {
           "automargin": true,
           "gridcolor": "white",
           "linecolor": "white",
           "ticks": "",
           "title": {
            "standoff": 15
           },
           "zerolinecolor": "white",
           "zerolinewidth": 2
          },
          "yaxis": {
           "automargin": true,
           "gridcolor": "white",
           "linecolor": "white",
           "ticks": "",
           "title": {
            "standoff": 15
           },
           "zerolinecolor": "white",
           "zerolinewidth": 2
          }
         }
        },
        "title": {
         "text": "Total Spend by Age Group"
        },
        "xaxis": {
         "anchor": "y",
         "domain": [
          0,
          1
         ],
         "title": {
          "text": "Age"
         }
        },
        "yaxis": {
         "anchor": "x",
         "domain": [
          0,
          1
         ],
         "title": {
          "text": "Total Spend"
         }
        }
       }
      }
     },
     "metadata": {},
     "output_type": "display_data"
    }
   ],
   "source": [
    "import pandas as pd\n",
    "import plotly.express as px\n",
    "\n",
    "# Load the data\n",
    "df = pd.read_csv('E-commerce Customer Behavior - Sheet1.csv')\n",
    "\n",
    "# Demographic Insights\n",
    "\n",
    "# Interactive bar chart: Total spend across different age groups\n",
    "bar_chart = px.bar(df, x='Age', y='Total Spend', title='Total Spend by Age Group')\n",
    "bar_chart.show()"
   ]
  },
  {
   "cell_type": "code",
   "execution_count": 30,
   "metadata": {},
   "outputs": [
    {
     "data": {
      "text/html": [
       "<div>\n",
       "<style scoped>\n",
       "    .dataframe tbody tr th:only-of-type {\n",
       "        vertical-align: middle;\n",
       "    }\n",
       "\n",
       "    .dataframe tbody tr th {\n",
       "        vertical-align: top;\n",
       "    }\n",
       "\n",
       "    .dataframe thead th {\n",
       "        text-align: right;\n",
       "    }\n",
       "</style>\n",
       "<table border=\"1\" class=\"dataframe\">\n",
       "  <thead>\n",
       "    <tr style=\"text-align: right;\">\n",
       "      <th></th>\n",
       "      <th>Customer ID</th>\n",
       "      <th>Gender</th>\n",
       "      <th>Age</th>\n",
       "      <th>City</th>\n",
       "      <th>Membership Type</th>\n",
       "      <th>Total Spend</th>\n",
       "      <th>Items Purchased</th>\n",
       "      <th>Average Rating</th>\n",
       "      <th>Discount Applied</th>\n",
       "      <th>Days Since Last Purchase</th>\n",
       "      <th>Satisfaction Level</th>\n",
       "    </tr>\n",
       "  </thead>\n",
       "  <tbody>\n",
       "    <tr>\n",
       "      <th>0</th>\n",
       "      <td>101</td>\n",
       "      <td>Female</td>\n",
       "      <td>29</td>\n",
       "      <td>New York</td>\n",
       "      <td>Gold</td>\n",
       "      <td>1120.20</td>\n",
       "      <td>14</td>\n",
       "      <td>4.6</td>\n",
       "      <td>True</td>\n",
       "      <td>25</td>\n",
       "      <td>Satisfied</td>\n",
       "    </tr>\n",
       "    <tr>\n",
       "      <th>1</th>\n",
       "      <td>102</td>\n",
       "      <td>Male</td>\n",
       "      <td>34</td>\n",
       "      <td>Los Angeles</td>\n",
       "      <td>Silver</td>\n",
       "      <td>780.50</td>\n",
       "      <td>11</td>\n",
       "      <td>4.1</td>\n",
       "      <td>False</td>\n",
       "      <td>18</td>\n",
       "      <td>Neutral</td>\n",
       "    </tr>\n",
       "    <tr>\n",
       "      <th>2</th>\n",
       "      <td>103</td>\n",
       "      <td>Female</td>\n",
       "      <td>43</td>\n",
       "      <td>Chicago</td>\n",
       "      <td>Bronze</td>\n",
       "      <td>510.75</td>\n",
       "      <td>9</td>\n",
       "      <td>3.4</td>\n",
       "      <td>True</td>\n",
       "      <td>42</td>\n",
       "      <td>Unsatisfied</td>\n",
       "    </tr>\n",
       "    <tr>\n",
       "      <th>3</th>\n",
       "      <td>104</td>\n",
       "      <td>Male</td>\n",
       "      <td>30</td>\n",
       "      <td>San Francisco</td>\n",
       "      <td>Gold</td>\n",
       "      <td>1480.30</td>\n",
       "      <td>19</td>\n",
       "      <td>4.7</td>\n",
       "      <td>False</td>\n",
       "      <td>12</td>\n",
       "      <td>Satisfied</td>\n",
       "    </tr>\n",
       "    <tr>\n",
       "      <th>4</th>\n",
       "      <td>105</td>\n",
       "      <td>Male</td>\n",
       "      <td>27</td>\n",
       "      <td>Miami</td>\n",
       "      <td>Silver</td>\n",
       "      <td>720.40</td>\n",
       "      <td>13</td>\n",
       "      <td>4.0</td>\n",
       "      <td>True</td>\n",
       "      <td>55</td>\n",
       "      <td>Unsatisfied</td>\n",
       "    </tr>\n",
       "    <tr>\n",
       "      <th>...</th>\n",
       "      <td>...</td>\n",
       "      <td>...</td>\n",
       "      <td>...</td>\n",
       "      <td>...</td>\n",
       "      <td>...</td>\n",
       "      <td>...</td>\n",
       "      <td>...</td>\n",
       "      <td>...</td>\n",
       "      <td>...</td>\n",
       "      <td>...</td>\n",
       "      <td>...</td>\n",
       "    </tr>\n",
       "    <tr>\n",
       "      <th>345</th>\n",
       "      <td>446</td>\n",
       "      <td>Male</td>\n",
       "      <td>32</td>\n",
       "      <td>Miami</td>\n",
       "      <td>Silver</td>\n",
       "      <td>660.30</td>\n",
       "      <td>10</td>\n",
       "      <td>3.8</td>\n",
       "      <td>True</td>\n",
       "      <td>42</td>\n",
       "      <td>Unsatisfied</td>\n",
       "    </tr>\n",
       "    <tr>\n",
       "      <th>346</th>\n",
       "      <td>447</td>\n",
       "      <td>Female</td>\n",
       "      <td>36</td>\n",
       "      <td>Houston</td>\n",
       "      <td>Bronze</td>\n",
       "      <td>470.50</td>\n",
       "      <td>8</td>\n",
       "      <td>3.0</td>\n",
       "      <td>False</td>\n",
       "      <td>27</td>\n",
       "      <td>Neutral</td>\n",
       "    </tr>\n",
       "    <tr>\n",
       "      <th>347</th>\n",
       "      <td>448</td>\n",
       "      <td>Female</td>\n",
       "      <td>30</td>\n",
       "      <td>New York</td>\n",
       "      <td>Gold</td>\n",
       "      <td>1190.80</td>\n",
       "      <td>16</td>\n",
       "      <td>4.5</td>\n",
       "      <td>True</td>\n",
       "      <td>28</td>\n",
       "      <td>Satisfied</td>\n",
       "    </tr>\n",
       "    <tr>\n",
       "      <th>348</th>\n",
       "      <td>449</td>\n",
       "      <td>Male</td>\n",
       "      <td>34</td>\n",
       "      <td>Los Angeles</td>\n",
       "      <td>Silver</td>\n",
       "      <td>780.20</td>\n",
       "      <td>11</td>\n",
       "      <td>4.2</td>\n",
       "      <td>False</td>\n",
       "      <td>21</td>\n",
       "      <td>Neutral</td>\n",
       "    </tr>\n",
       "    <tr>\n",
       "      <th>349</th>\n",
       "      <td>450</td>\n",
       "      <td>Female</td>\n",
       "      <td>43</td>\n",
       "      <td>Chicago</td>\n",
       "      <td>Bronze</td>\n",
       "      <td>515.75</td>\n",
       "      <td>10</td>\n",
       "      <td>3.3</td>\n",
       "      <td>True</td>\n",
       "      <td>49</td>\n",
       "      <td>Unsatisfied</td>\n",
       "    </tr>\n",
       "  </tbody>\n",
       "</table>\n",
       "<p>350 rows × 11 columns</p>\n",
       "</div>"
      ],
      "text/plain": [
       "     Customer ID  Gender  Age           City Membership Type  Total Spend  \\\n",
       "0            101  Female   29       New York            Gold      1120.20   \n",
       "1            102    Male   34    Los Angeles          Silver       780.50   \n",
       "2            103  Female   43        Chicago          Bronze       510.75   \n",
       "3            104    Male   30  San Francisco            Gold      1480.30   \n",
       "4            105    Male   27          Miami          Silver       720.40   \n",
       "..           ...     ...  ...            ...             ...          ...   \n",
       "345          446    Male   32          Miami          Silver       660.30   \n",
       "346          447  Female   36        Houston          Bronze       470.50   \n",
       "347          448  Female   30       New York            Gold      1190.80   \n",
       "348          449    Male   34    Los Angeles          Silver       780.20   \n",
       "349          450  Female   43        Chicago          Bronze       515.75   \n",
       "\n",
       "     Items Purchased  Average Rating  Discount Applied  \\\n",
       "0                 14             4.6              True   \n",
       "1                 11             4.1             False   \n",
       "2                  9             3.4              True   \n",
       "3                 19             4.7             False   \n",
       "4                 13             4.0              True   \n",
       "..               ...             ...               ...   \n",
       "345               10             3.8              True   \n",
       "346                8             3.0             False   \n",
       "347               16             4.5              True   \n",
       "348               11             4.2             False   \n",
       "349               10             3.3              True   \n",
       "\n",
       "     Days Since Last Purchase Satisfaction Level  \n",
       "0                          25          Satisfied  \n",
       "1                          18            Neutral  \n",
       "2                          42        Unsatisfied  \n",
       "3                          12          Satisfied  \n",
       "4                          55        Unsatisfied  \n",
       "..                        ...                ...  \n",
       "345                        42        Unsatisfied  \n",
       "346                        27            Neutral  \n",
       "347                        28          Satisfied  \n",
       "348                        21            Neutral  \n",
       "349                        49        Unsatisfied  \n",
       "\n",
       "[350 rows x 11 columns]"
      ]
     },
     "execution_count": 30,
     "metadata": {},
     "output_type": "execute_result"
    }
   ],
   "source": [
    "df"
   ]
  },
  {
   "cell_type": "code",
   "execution_count": 31,
   "metadata": {},
   "outputs": [
    {
     "data": {
      "text/plain": [
       "Membership Type\n",
       "Gold      117\n",
       "Silver    117\n",
       "Bronze    116\n",
       "Name: count, dtype: int64"
      ]
     },
     "execution_count": 31,
     "metadata": {},
     "output_type": "execute_result"
    }
   ],
   "source": [
    "df['Membership Type'].value_counts()"
   ]
  },
  {
   "cell_type": "code",
   "execution_count": 32,
   "metadata": {},
   "outputs": [
    {
     "data": {
      "text/plain": [
       "City\n",
       "New York         59\n",
       "Los Angeles      59\n",
       "Chicago          58\n",
       "San Francisco    58\n",
       "Miami            58\n",
       "Houston          58\n",
       "Name: count, dtype: int64"
      ]
     },
     "execution_count": 32,
     "metadata": {},
     "output_type": "execute_result"
    }
   ],
   "source": [
    "df['City'].value_counts()"
   ]
  },
  {
   "cell_type": "code",
   "execution_count": 21,
   "metadata": {},
   "outputs": [
    {
     "data": {
      "text/plain": [
       "Membership Type\n",
       "Gold    59\n",
       "Name: count, dtype: int64"
      ]
     },
     "execution_count": 21,
     "metadata": {},
     "output_type": "execute_result"
    }
   ],
   "source": [
    "df[df['City'] == 'New York']['Membership Type'].value_counts()"
   ]
  },
  {
   "cell_type": "code",
   "execution_count": 38,
   "metadata": {},
   "outputs": [],
   "source": [
    "test = df.groupby(['City', 'Membership Type']).count()['Customer ID'].to_frame()\n",
    "test.reset_index(inplace=True)"
   ]
  },
  {
   "cell_type": "code",
   "execution_count": 36,
   "metadata": {},
   "outputs": [
    {
     "data": {
      "text/html": [
       "<div>\n",
       "<style scoped>\n",
       "    .dataframe tbody tr th:only-of-type {\n",
       "        vertical-align: middle;\n",
       "    }\n",
       "\n",
       "    .dataframe tbody tr th {\n",
       "        vertical-align: top;\n",
       "    }\n",
       "\n",
       "    .dataframe thead th {\n",
       "        text-align: right;\n",
       "    }\n",
       "</style>\n",
       "<table border=\"1\" class=\"dataframe\">\n",
       "  <thead>\n",
       "    <tr style=\"text-align: right;\">\n",
       "      <th></th>\n",
       "      <th>City</th>\n",
       "      <th>Membership Type</th>\n",
       "      <th>Age</th>\n",
       "    </tr>\n",
       "  </thead>\n",
       "  <tbody>\n",
       "    <tr>\n",
       "      <th>0</th>\n",
       "      <td>Chicago</td>\n",
       "      <td>Bronze</td>\n",
       "      <td>58</td>\n",
       "    </tr>\n",
       "    <tr>\n",
       "      <th>1</th>\n",
       "      <td>Houston</td>\n",
       "      <td>Bronze</td>\n",
       "      <td>58</td>\n",
       "    </tr>\n",
       "    <tr>\n",
       "      <th>2</th>\n",
       "      <td>Los Angeles</td>\n",
       "      <td>Silver</td>\n",
       "      <td>59</td>\n",
       "    </tr>\n",
       "    <tr>\n",
       "      <th>3</th>\n",
       "      <td>Miami</td>\n",
       "      <td>Silver</td>\n",
       "      <td>58</td>\n",
       "    </tr>\n",
       "    <tr>\n",
       "      <th>4</th>\n",
       "      <td>New York</td>\n",
       "      <td>Gold</td>\n",
       "      <td>59</td>\n",
       "    </tr>\n",
       "    <tr>\n",
       "      <th>5</th>\n",
       "      <td>San Francisco</td>\n",
       "      <td>Gold</td>\n",
       "      <td>58</td>\n",
       "    </tr>\n",
       "  </tbody>\n",
       "</table>\n",
       "</div>"
      ],
      "text/plain": [
       "            City Membership Type  Age\n",
       "0        Chicago          Bronze   58\n",
       "1        Houston          Bronze   58\n",
       "2    Los Angeles          Silver   59\n",
       "3          Miami          Silver   58\n",
       "4       New York            Gold   59\n",
       "5  San Francisco            Gold   58"
      ]
     },
     "execution_count": 36,
     "metadata": {},
     "output_type": "execute_result"
    }
   ],
   "source": [
    "test"
   ]
  },
  {
   "cell_type": "code",
   "execution_count": 47,
   "metadata": {},
   "outputs": [
    {
     "data": {
      "application/vnd.plotly.v1+json": {
       "config": {
        "plotlyServerURL": "https://plot.ly"
       },
       "data": [
        {
         "domain": {
          "x": [
           0,
           0.31999999999999995
          ],
          "y": [
           0,
           1
          ]
         },
         "hovertemplate": "Membership Type=Bronze<br>City=%{label}<br>Customer ID=%{value}<extra></extra>",
         "labels": [
          "Chicago",
          "Houston"
         ],
         "legendgroup": "",
         "name": "",
         "showlegend": true,
         "type": "pie",
         "values": [
          58,
          58
         ]
        },
        {
         "domain": {
          "x": [
           0.33999999999999997,
           0.6599999999999999
          ],
          "y": [
           0,
           1
          ]
         },
         "hovertemplate": "Membership Type=Silver<br>City=%{label}<br>Customer ID=%{value}<extra></extra>",
         "labels": [
          "Los Angeles",
          "Miami"
         ],
         "legendgroup": "",
         "name": "",
         "showlegend": true,
         "type": "pie",
         "values": [
          59,
          58
         ]
        },
        {
         "domain": {
          "x": [
           0.6799999999999999,
           0.9999999999999999
          ],
          "y": [
           0,
           1
          ]
         },
         "hovertemplate": "Membership Type=Gold<br>City=%{label}<br>Customer ID=%{value}<extra></extra>",
         "labels": [
          "New York",
          "San Francisco"
         ],
         "legendgroup": "",
         "name": "",
         "showlegend": true,
         "type": "pie",
         "values": [
          59,
          58
         ]
        }
       ],
       "layout": {
        "annotations": [
         {
          "font": {},
          "showarrow": false,
          "text": "Membership Type=Bronze",
          "x": 0.15999999999999998,
          "xanchor": "center",
          "xref": "paper",
          "y": 1,
          "yanchor": "bottom",
          "yref": "paper"
         },
         {
          "font": {},
          "showarrow": false,
          "text": "Membership Type=Silver",
          "x": 0.49999999999999994,
          "xanchor": "center",
          "xref": "paper",
          "y": 1,
          "yanchor": "bottom",
          "yref": "paper"
         },
         {
          "font": {},
          "showarrow": false,
          "text": "Membership Type=Gold",
          "x": 0.8399999999999999,
          "xanchor": "center",
          "xref": "paper",
          "y": 1,
          "yanchor": "bottom",
          "yref": "paper"
         }
        ],
        "legend": {
         "tracegroupgap": 0
        },
        "template": {
         "data": {
          "bar": [
           {
            "error_x": {
             "color": "#2a3f5f"
            },
            "error_y": {
             "color": "#2a3f5f"
            },
            "marker": {
             "line": {
              "color": "#E5ECF6",
              "width": 0.5
             },
             "pattern": {
              "fillmode": "overlay",
              "size": 10,
              "solidity": 0.2
             }
            },
            "type": "bar"
           }
          ],
          "barpolar": [
           {
            "marker": {
             "line": {
              "color": "#E5ECF6",
              "width": 0.5
             },
             "pattern": {
              "fillmode": "overlay",
              "size": 10,
              "solidity": 0.2
             }
            },
            "type": "barpolar"
           }
          ],
          "carpet": [
           {
            "aaxis": {
             "endlinecolor": "#2a3f5f",
             "gridcolor": "white",
             "linecolor": "white",
             "minorgridcolor": "white",
             "startlinecolor": "#2a3f5f"
            },
            "baxis": {
             "endlinecolor": "#2a3f5f",
             "gridcolor": "white",
             "linecolor": "white",
             "minorgridcolor": "white",
             "startlinecolor": "#2a3f5f"
            },
            "type": "carpet"
           }
          ],
          "choropleth": [
           {
            "colorbar": {
             "outlinewidth": 0,
             "ticks": ""
            },
            "type": "choropleth"
           }
          ],
          "contour": [
           {
            "colorbar": {
             "outlinewidth": 0,
             "ticks": ""
            },
            "colorscale": [
             [
              0,
              "#0d0887"
             ],
             [
              0.1111111111111111,
              "#46039f"
             ],
             [
              0.2222222222222222,
              "#7201a8"
             ],
             [
              0.3333333333333333,
              "#9c179e"
             ],
             [
              0.4444444444444444,
              "#bd3786"
             ],
             [
              0.5555555555555556,
              "#d8576b"
             ],
             [
              0.6666666666666666,
              "#ed7953"
             ],
             [
              0.7777777777777778,
              "#fb9f3a"
             ],
             [
              0.8888888888888888,
              "#fdca26"
             ],
             [
              1,
              "#f0f921"
             ]
            ],
            "type": "contour"
           }
          ],
          "contourcarpet": [
           {
            "colorbar": {
             "outlinewidth": 0,
             "ticks": ""
            },
            "type": "contourcarpet"
           }
          ],
          "heatmap": [
           {
            "colorbar": {
             "outlinewidth": 0,
             "ticks": ""
            },
            "colorscale": [
             [
              0,
              "#0d0887"
             ],
             [
              0.1111111111111111,
              "#46039f"
             ],
             [
              0.2222222222222222,
              "#7201a8"
             ],
             [
              0.3333333333333333,
              "#9c179e"
             ],
             [
              0.4444444444444444,
              "#bd3786"
             ],
             [
              0.5555555555555556,
              "#d8576b"
             ],
             [
              0.6666666666666666,
              "#ed7953"
             ],
             [
              0.7777777777777778,
              "#fb9f3a"
             ],
             [
              0.8888888888888888,
              "#fdca26"
             ],
             [
              1,
              "#f0f921"
             ]
            ],
            "type": "heatmap"
           }
          ],
          "heatmapgl": [
           {
            "colorbar": {
             "outlinewidth": 0,
             "ticks": ""
            },
            "colorscale": [
             [
              0,
              "#0d0887"
             ],
             [
              0.1111111111111111,
              "#46039f"
             ],
             [
              0.2222222222222222,
              "#7201a8"
             ],
             [
              0.3333333333333333,
              "#9c179e"
             ],
             [
              0.4444444444444444,
              "#bd3786"
             ],
             [
              0.5555555555555556,
              "#d8576b"
             ],
             [
              0.6666666666666666,
              "#ed7953"
             ],
             [
              0.7777777777777778,
              "#fb9f3a"
             ],
             [
              0.8888888888888888,
              "#fdca26"
             ],
             [
              1,
              "#f0f921"
             ]
            ],
            "type": "heatmapgl"
           }
          ],
          "histogram": [
           {
            "marker": {
             "pattern": {
              "fillmode": "overlay",
              "size": 10,
              "solidity": 0.2
             }
            },
            "type": "histogram"
           }
          ],
          "histogram2d": [
           {
            "colorbar": {
             "outlinewidth": 0,
             "ticks": ""
            },
            "colorscale": [
             [
              0,
              "#0d0887"
             ],
             [
              0.1111111111111111,
              "#46039f"
             ],
             [
              0.2222222222222222,
              "#7201a8"
             ],
             [
              0.3333333333333333,
              "#9c179e"
             ],
             [
              0.4444444444444444,
              "#bd3786"
             ],
             [
              0.5555555555555556,
              "#d8576b"
             ],
             [
              0.6666666666666666,
              "#ed7953"
             ],
             [
              0.7777777777777778,
              "#fb9f3a"
             ],
             [
              0.8888888888888888,
              "#fdca26"
             ],
             [
              1,
              "#f0f921"
             ]
            ],
            "type": "histogram2d"
           }
          ],
          "histogram2dcontour": [
           {
            "colorbar": {
             "outlinewidth": 0,
             "ticks": ""
            },
            "colorscale": [
             [
              0,
              "#0d0887"
             ],
             [
              0.1111111111111111,
              "#46039f"
             ],
             [
              0.2222222222222222,
              "#7201a8"
             ],
             [
              0.3333333333333333,
              "#9c179e"
             ],
             [
              0.4444444444444444,
              "#bd3786"
             ],
             [
              0.5555555555555556,
              "#d8576b"
             ],
             [
              0.6666666666666666,
              "#ed7953"
             ],
             [
              0.7777777777777778,
              "#fb9f3a"
             ],
             [
              0.8888888888888888,
              "#fdca26"
             ],
             [
              1,
              "#f0f921"
             ]
            ],
            "type": "histogram2dcontour"
           }
          ],
          "mesh3d": [
           {
            "colorbar": {
             "outlinewidth": 0,
             "ticks": ""
            },
            "type": "mesh3d"
           }
          ],
          "parcoords": [
           {
            "line": {
             "colorbar": {
              "outlinewidth": 0,
              "ticks": ""
             }
            },
            "type": "parcoords"
           }
          ],
          "pie": [
           {
            "automargin": true,
            "type": "pie"
           }
          ],
          "scatter": [
           {
            "fillpattern": {
             "fillmode": "overlay",
             "size": 10,
             "solidity": 0.2
            },
            "type": "scatter"
           }
          ],
          "scatter3d": [
           {
            "line": {
             "colorbar": {
              "outlinewidth": 0,
              "ticks": ""
             }
            },
            "marker": {
             "colorbar": {
              "outlinewidth": 0,
              "ticks": ""
             }
            },
            "type": "scatter3d"
           }
          ],
          "scattercarpet": [
           {
            "marker": {
             "colorbar": {
              "outlinewidth": 0,
              "ticks": ""
             }
            },
            "type": "scattercarpet"
           }
          ],
          "scattergeo": [
           {
            "marker": {
             "colorbar": {
              "outlinewidth": 0,
              "ticks": ""
             }
            },
            "type": "scattergeo"
           }
          ],
          "scattergl": [
           {
            "marker": {
             "colorbar": {
              "outlinewidth": 0,
              "ticks": ""
             }
            },
            "type": "scattergl"
           }
          ],
          "scattermapbox": [
           {
            "marker": {
             "colorbar": {
              "outlinewidth": 0,
              "ticks": ""
             }
            },
            "type": "scattermapbox"
           }
          ],
          "scatterpolar": [
           {
            "marker": {
             "colorbar": {
              "outlinewidth": 0,
              "ticks": ""
             }
            },
            "type": "scatterpolar"
           }
          ],
          "scatterpolargl": [
           {
            "marker": {
             "colorbar": {
              "outlinewidth": 0,
              "ticks": ""
             }
            },
            "type": "scatterpolargl"
           }
          ],
          "scatterternary": [
           {
            "marker": {
             "colorbar": {
              "outlinewidth": 0,
              "ticks": ""
             }
            },
            "type": "scatterternary"
           }
          ],
          "surface": [
           {
            "colorbar": {
             "outlinewidth": 0,
             "ticks": ""
            },
            "colorscale": [
             [
              0,
              "#0d0887"
             ],
             [
              0.1111111111111111,
              "#46039f"
             ],
             [
              0.2222222222222222,
              "#7201a8"
             ],
             [
              0.3333333333333333,
              "#9c179e"
             ],
             [
              0.4444444444444444,
              "#bd3786"
             ],
             [
              0.5555555555555556,
              "#d8576b"
             ],
             [
              0.6666666666666666,
              "#ed7953"
             ],
             [
              0.7777777777777778,
              "#fb9f3a"
             ],
             [
              0.8888888888888888,
              "#fdca26"
             ],
             [
              1,
              "#f0f921"
             ]
            ],
            "type": "surface"
           }
          ],
          "table": [
           {
            "cells": {
             "fill": {
              "color": "#EBF0F8"
             },
             "line": {
              "color": "white"
             }
            },
            "header": {
             "fill": {
              "color": "#C8D4E3"
             },
             "line": {
              "color": "white"
             }
            },
            "type": "table"
           }
          ]
         },
         "layout": {
          "annotationdefaults": {
           "arrowcolor": "#2a3f5f",
           "arrowhead": 0,
           "arrowwidth": 1
          },
          "autotypenumbers": "strict",
          "coloraxis": {
           "colorbar": {
            "outlinewidth": 0,
            "ticks": ""
           }
          },
          "colorscale": {
           "diverging": [
            [
             0,
             "#8e0152"
            ],
            [
             0.1,
             "#c51b7d"
            ],
            [
             0.2,
             "#de77ae"
            ],
            [
             0.3,
             "#f1b6da"
            ],
            [
             0.4,
             "#fde0ef"
            ],
            [
             0.5,
             "#f7f7f7"
            ],
            [
             0.6,
             "#e6f5d0"
            ],
            [
             0.7,
             "#b8e186"
            ],
            [
             0.8,
             "#7fbc41"
            ],
            [
             0.9,
             "#4d9221"
            ],
            [
             1,
             "#276419"
            ]
           ],
           "sequential": [
            [
             0,
             "#0d0887"
            ],
            [
             0.1111111111111111,
             "#46039f"
            ],
            [
             0.2222222222222222,
             "#7201a8"
            ],
            [
             0.3333333333333333,
             "#9c179e"
            ],
            [
             0.4444444444444444,
             "#bd3786"
            ],
            [
             0.5555555555555556,
             "#d8576b"
            ],
            [
             0.6666666666666666,
             "#ed7953"
            ],
            [
             0.7777777777777778,
             "#fb9f3a"
            ],
            [
             0.8888888888888888,
             "#fdca26"
            ],
            [
             1,
             "#f0f921"
            ]
           ],
           "sequentialminus": [
            [
             0,
             "#0d0887"
            ],
            [
             0.1111111111111111,
             "#46039f"
            ],
            [
             0.2222222222222222,
             "#7201a8"
            ],
            [
             0.3333333333333333,
             "#9c179e"
            ],
            [
             0.4444444444444444,
             "#bd3786"
            ],
            [
             0.5555555555555556,
             "#d8576b"
            ],
            [
             0.6666666666666666,
             "#ed7953"
            ],
            [
             0.7777777777777778,
             "#fb9f3a"
            ],
            [
             0.8888888888888888,
             "#fdca26"
            ],
            [
             1,
             "#f0f921"
            ]
           ]
          },
          "colorway": [
           "#636efa",
           "#EF553B",
           "#00cc96",
           "#ab63fa",
           "#FFA15A",
           "#19d3f3",
           "#FF6692",
           "#B6E880",
           "#FF97FF",
           "#FECB52"
          ],
          "font": {
           "color": "#2a3f5f"
          },
          "geo": {
           "bgcolor": "white",
           "lakecolor": "white",
           "landcolor": "#E5ECF6",
           "showlakes": true,
           "showland": true,
           "subunitcolor": "white"
          },
          "hoverlabel": {
           "align": "left"
          },
          "hovermode": "closest",
          "mapbox": {
           "style": "light"
          },
          "paper_bgcolor": "white",
          "plot_bgcolor": "#E5ECF6",
          "polar": {
           "angularaxis": {
            "gridcolor": "white",
            "linecolor": "white",
            "ticks": ""
           },
           "bgcolor": "#E5ECF6",
           "radialaxis": {
            "gridcolor": "white",
            "linecolor": "white",
            "ticks": ""
           }
          },
          "scene": {
           "xaxis": {
            "backgroundcolor": "#E5ECF6",
            "gridcolor": "white",
            "gridwidth": 2,
            "linecolor": "white",
            "showbackground": true,
            "ticks": "",
            "zerolinecolor": "white"
           },
           "yaxis": {
            "backgroundcolor": "#E5ECF6",
            "gridcolor": "white",
            "gridwidth": 2,
            "linecolor": "white",
            "showbackground": true,
            "ticks": "",
            "zerolinecolor": "white"
           },
           "zaxis": {
            "backgroundcolor": "#E5ECF6",
            "gridcolor": "white",
            "gridwidth": 2,
            "linecolor": "white",
            "showbackground": true,
            "ticks": "",
            "zerolinecolor": "white"
           }
          },
          "shapedefaults": {
           "line": {
            "color": "#2a3f5f"
           }
          },
          "ternary": {
           "aaxis": {
            "gridcolor": "white",
            "linecolor": "white",
            "ticks": ""
           },
           "baxis": {
            "gridcolor": "white",
            "linecolor": "white",
            "ticks": ""
           },
           "bgcolor": "#E5ECF6",
           "caxis": {
            "gridcolor": "white",
            "linecolor": "white",
            "ticks": ""
           }
          },
          "title": {
           "x": 0.05
          },
          "xaxis": {
           "automargin": true,
           "gridcolor": "white",
           "linecolor": "white",
           "ticks": "",
           "title": {
            "standoff": 15
           },
           "zerolinecolor": "white",
           "zerolinewidth": 2
          },
          "yaxis": {
           "automargin": true,
           "gridcolor": "white",
           "linecolor": "white",
           "ticks": "",
           "title": {
            "standoff": 15
           },
           "zerolinecolor": "white",
           "zerolinewidth": 2
          }
         }
        },
        "title": {
         "text": "Membership Type Distribution in Cities"
        }
       }
      }
     },
     "metadata": {},
     "output_type": "display_data"
    }
   ],
   "source": [
    "# Pie chart: Distribution of membership types in various cities\n",
    "pie_chart = px.pie(test, names='City', values='Customer ID', title='Membership Type Distribution in Cities', facet_col='Membership Type')\n",
    "pie_chart.show()"
   ]
  }
 ],
 "metadata": {
  "kernelspec": {
   "display_name": ".venv",
   "language": "python",
   "name": "python3"
  },
  "language_info": {
   "codemirror_mode": {
    "name": "ipython",
    "version": 3
   },
   "file_extension": ".py",
   "mimetype": "text/x-python",
   "name": "python",
   "nbconvert_exporter": "python",
   "pygments_lexer": "ipython3",
   "version": "3.11.6"
  }
 },
 "nbformat": 4,
 "nbformat_minor": 2
}
