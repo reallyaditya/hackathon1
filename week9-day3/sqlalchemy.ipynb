{
 "cells": [
  {
   "cell_type": "code",
   "execution_count": 1,
   "metadata": {},
   "outputs": [
    {
     "name": "stdout",
     "output_type": "stream",
     "text": [
      "Dataset URL: https://www.kaggle.com/datasets/groleo/european-football-database\n"
     ]
    }
   ],
   "source": [
    "import kaggle\n",
    "\n",
    "# Download the dataset\n",
    "kaggle.api.dataset_download_files(\"groleo/european-football-database\", path=\".\", unzip=True)"
   ]
  },
  {
   "cell_type": "code",
   "execution_count": 31,
   "metadata": {},
   "outputs": [],
   "source": [
    "import sqlalchemy as db\n",
    "engine = db.create_engine(\"sqlite:///european_database.sqlite\")\n",
    "\n",
    "conn = engine.connect()"
   ]
  },
  {
   "cell_type": "code",
   "execution_count": 32,
   "metadata": {},
   "outputs": [
    {
     "name": "stdout",
     "output_type": "stream",
     "text": [
      "Available tables: dict_keys(['divisions', 'matchs', 'teams'])\n"
     ]
    }
   ],
   "source": [
    "# Extracting the metadata\n",
    "metadata = db.MetaData()\n",
    "\n",
    "# Reflect the existing database to get the tables\n",
    "metadata.reflect(bind=engine)\n",
    "# Print all table names to verify the available tables\n",
    "print(\"Available tables:\", metadata.tables.keys())"
   ]
  },
  {
   "cell_type": "code",
   "execution_count": 6,
   "metadata": {},
   "outputs": [
    {
     "data": {
      "text/plain": [
       "dict_keys(['divisions', 'matchs'])"
      ]
     },
     "execution_count": 6,
     "metadata": {},
     "output_type": "execute_result"
    }
   ],
   "source": [
    "metadata.tables.keys()"
   ]
  },
  {
   "cell_type": "code",
   "execution_count": 7,
   "metadata": {},
   "outputs": [
    {
     "name": "stdout",
     "output_type": "stream",
     "text": [
      "Table('divisions', MetaData(), Column('division', TEXT(), table=<divisions>), Column('name', TEXT(), table=<divisions>), Column('country', TEXT(), table=<divisions>), schema=None)\n"
     ]
    }
   ],
   "source": [
    "# Check if 'divisions' table exists and create a Table object for it\n",
    "if 'divisions' in metadata.tables:\n",
    "    division= db.Table('divisions', metadata, autoload=True, autoload_with=engine)\n",
    "    # Print the metadata for the 'divisions' table\n",
    "    print(repr(division))\n",
    "else:\n",
    "    raise Exception(\"Table 'divisions' does not exist in the database.\")"
   ]
  },
  {
   "cell_type": "code",
   "execution_count": 8,
   "metadata": {},
   "outputs": [
    {
     "name": "stdout",
     "output_type": "stream",
     "text": [
      "Table('teams', MetaData(), Column('team_id', Integer(), table=<teams>, primary_key=True, nullable=False), Column('team_name', Text(), table=<teams>, nullable=False), Column('city', Text(), table=<teams>, nullable=False), schema=None)\n",
      "Available tables: dict_keys(['teams', 'divisions', 'matchs'])\n"
     ]
    }
   ],
   "source": [
    "# Extracting the metadata\n",
    "metadata = db.MetaData()\n",
    "\n",
    "# Define the table structure for 'teams'\n",
    "teams = db.Table(\n",
    "    'teams', metadata,\n",
    "    db.Column('team_id', db.Integer, primary_key=True),\n",
    "    db.Column('team_name', db.Text, nullable=False),\n",
    "    db.Column('city', db.Text, nullable=False)\n",
    ")\n",
    "\n",
    "# Create the table in the database (if it does not already exist)\n",
    "metadata.create_all(engine)\n",
    "\n",
    "# Reflect the existing database to get the tables\n",
    "metadata.reflect(bind=engine)\n",
    "\n",
    "# Verify that the 'teams' table exists and print its metadata\n",
    "if 'teams' in metadata.tables:\n",
    "    team = metadata.tables['teams']\n",
    "    print(repr(team))\n",
    "else:\n",
    "    raise Exception(\"Table 'teams' does not exist in the database.\")\n",
    "\n",
    "\n",
    "# Reflect the existing database to get the tables\n",
    "metadata.reflect(bind=engine)\n",
    "\n",
    "# Print all table names to verify the available tables\n",
    "print(\"Available tables:\", metadata.tables.keys())"
   ]
  },
  {
   "cell_type": "code",
   "execution_count": 9,
   "metadata": {},
   "outputs": [
    {
     "name": "stdout",
     "output_type": "stream",
     "text": [
      "Columns in 'divisions' table:\n",
      "division: TEXT\n",
      "name: TEXT\n",
      "country: TEXT\n",
      "\n",
      "Rows in 'divisions' table:\n",
      "('B1', 'Division 1A', 'Belgium')\n",
      "('D1', 'Bundesliga', 'Deutschland')\n",
      "('D2', '2. Bundesliga', 'Deutschland')\n",
      "('E0', 'Premier League', 'England')\n",
      "('E1', 'EFL Championship', 'England')\n",
      "('E2', 'EFL League One', 'England')\n",
      "('E3', 'EFL League Two', 'England')\n",
      "('EC', 'National League', 'England')\n",
      "('F1', 'Ligue 1', 'France')\n",
      "('F2', 'Ligue 2', 'France')\n",
      "('G1', 'Superleague', 'Greece')\n",
      "('I1', 'Seria A', 'Italy')\n",
      "('I2', 'Seria B', 'Italy')\n",
      "('N1', 'Eredivisie', 'Netherlands')\n",
      "('P1', 'Liga NOS', 'Portugal')\n",
      "('SC0', 'Scottish Premiership', 'Scotland')\n",
      "('SC1', 'Scottish Championship', 'Scotland')\n",
      "('SC2', 'Scottish League One', 'Scotland')\n",
      "('SP1', 'LaLiga', 'Spain')\n",
      "('SP2', 'LaLiga 2', 'Spain')\n",
      "('T1', 'Süper Lig', 'Turkey')\n"
     ]
    }
   ],
   "source": [
    "# Extracting the metadata\n",
    "metadata = db.MetaData()\n",
    "\n",
    "# Reflect the existing database to get the tables\n",
    "metadata.reflect(bind=engine)\n",
    "\n",
    "# Check if 'divisions' table exists and create a Table object for it\n",
    "if 'divisions' in metadata.tables:\n",
    "    division = metadata.tables['divisions']\n",
    "    # Print the column names and their types\n",
    "    print(\"Columns in 'divisions' table:\")\n",
    "    for column in division.columns:\n",
    "        print(f\"{column.name}: {column.type}\")\n",
    "     # Select all rows from the 'divisions' table\n",
    "\n",
    "    # Select all rows from the 'divisions' table\n",
    "    query = db.select(division)\n",
    "    result_proxy = conn.execute(query)\n",
    "\n",
    "    # Fetch all rows from the result proxy\n",
    "    rows = result_proxy.fetchall()\n",
    "\n",
    "    # Print the rows\n",
    "    print(\"\\nRows in 'divisions' table:\")\n",
    "    for row in rows:\n",
    "        print(row)\n",
    "else:\n",
    "    raise Exception(\"Table 'divisions' does not exist in the database.\")"
   ]
  },
  {
   "cell_type": "code",
   "execution_count": 10,
   "metadata": {},
   "outputs": [
    {
     "name": "stdout",
     "output_type": "stream",
     "text": [
      "SELECT divisions.division, divisions.name, divisions.country \n",
      "FROM divisions\n"
     ]
    }
   ],
   "source": [
    "query = division.select() #SELECT * FROM divisions\n",
    "print(query)"
   ]
  },
  {
   "cell_type": "code",
   "execution_count": 11,
   "metadata": {},
   "outputs": [
    {
     "name": "stdout",
     "output_type": "stream",
     "text": [
      "[('B1', 'Division 1A', 'Belgium'), ('D1', 'Bundesliga', 'Deutschland'), ('D2', '2. Bundesliga', 'Deutschland'), ('E0', 'Premier League', 'England'), ('E1', 'EFL Championship', 'England')]\n"
     ]
    }
   ],
   "source": [
    "exe = conn.execute(query) #executing the query\n",
    "result = exe.fetchmany(5) #extracting top 5 results\n",
    "print(result)"
   ]
  },
  {
   "cell_type": "markdown",
   "metadata": {},
   "source": [
    "## Create Tables"
   ]
  },
  {
   "cell_type": "code",
   "execution_count": 1,
   "metadata": {},
   "outputs": [],
   "source": [
    "import sqlalchemy as db"
   ]
  },
  {
   "cell_type": "code",
   "execution_count": 2,
   "metadata": {},
   "outputs": [],
   "source": [
    "engine = db.create_engine('sqlite:///datacamp.sqlite')\n",
    "conn = engine.connect()\n",
    "metadata = db.MetaData()\n",
    "\n",
    "Student = db.Table('Student', metadata,\n",
    "              db.Column('Id', db.Integer(),primary_key=True),\n",
    "              db.Column('Name', db.String(255), nullable=False),\n",
    "              db.Column('Major', db.String(255), default=\"Math\"),\n",
    "              db.Column('Pass', db.Boolean(), default=True)\n",
    "              )\n",
    "\n",
    "metadata.create_all(engine)"
   ]
  },
  {
   "cell_type": "code",
   "execution_count": 3,
   "metadata": {},
   "outputs": [
    {
     "name": "stdout",
     "output_type": "stream",
     "text": [
      "<sqlalchemy.engine.cursor.CursorResult object at 0x117742f90>\n"
     ]
    }
   ],
   "source": [
    "# Create the table in the database (if it does not already exist)\n",
    "metadata.create_all(engine)\n",
    "\n",
    "# Insert a new row into the 'Student' table\n",
    "query = db.insert(Student).values(Name='Matthew', Major='English', Pass=True)\n",
    "result = conn.execute(query)\n",
    "print(result)"
   ]
  },
  {
   "cell_type": "code",
   "execution_count": 4,
   "metadata": {},
   "outputs": [
    {
     "name": "stdout",
     "output_type": "stream",
     "text": [
      "\n",
      "Rows in 'Student' table:\n",
      "(1, 'Matthew', 'English', True)\n"
     ]
    }
   ],
   "source": [
    "# Fetch and print all rows from the 'Student' table to verify the insertion\n",
    "query = db.select(Student)\n",
    "result_proxy = conn.execute(query)\n",
    "rows = result_proxy.fetchall()\n",
    "print(\"\\nRows in 'Student' table:\")\n",
    "for row in rows:\n",
    "    print(row)"
   ]
  },
  {
   "cell_type": "code",
   "execution_count": 5,
   "metadata": {},
   "outputs": [],
   "source": [
    "query = db.insert(Student)\n",
    "values_list = [{'Id':'2', 'Name':'Nisha', 'Major':\"Science\", 'Pass':False},\n",
    "              {'Id':'3', 'Name':'Natasha', 'Major':\"Math\", 'Pass':True},\n",
    "              {'Id':'4', 'Name':'Ben', 'Major':\"English\", 'Pass':False}]\n",
    "Result = conn.execute(query,values_list)"
   ]
  },
  {
   "cell_type": "code",
   "execution_count": 6,
   "metadata": {},
   "outputs": [
    {
     "name": "stdout",
     "output_type": "stream",
     "text": [
      "[(1, 'Matthew', 'English', True), (2, 'Nisha', 'Science', False), (3, 'Natasha', 'Math', True), (4, 'Ben', 'English', False)]\n"
     ]
    }
   ],
   "source": [
    "output = conn.execute(db.select(Student)).fetchall()\n",
    "print(output)"
   ]
  },
  {
   "cell_type": "code",
   "execution_count": 7,
   "metadata": {},
   "outputs": [
    {
     "name": "stdout",
     "output_type": "stream",
     "text": [
      "[(1, 'Matthew', 'English', 1), (2, 'Nisha', 'Science', 0), (3, 'Natasha', 'Math', 1), (4, 'Ben', 'English', 0)]\n"
     ]
    }
   ],
   "source": [
    "query = db.text(\"SELECT * FROM Student\")\n",
    "output = conn.execute(query)\n",
    "print(output.fetchall())"
   ]
  },
  {
   "cell_type": "code",
   "execution_count": 8,
   "metadata": {},
   "outputs": [
    {
     "name": "stdout",
     "output_type": "stream",
     "text": [
      "[('Matthew', 'English'), ('Natasha', 'Math')]\n"
     ]
    }
   ],
   "source": [
    "query = db.text(\"SELECT Name, Major FROM Student WHERE Pass = True\")\n",
    "output = conn.execute(query)\n",
    "print(output.fetchall())"
   ]
  },
  {
   "cell_type": "code",
   "execution_count": 9,
   "metadata": {},
   "outputs": [
    {
     "name": "stdout",
     "output_type": "stream",
     "text": [
      "[(1, 'Matthew', 'English', True), (3, 'Natasha', 'Math', True)]\n"
     ]
    }
   ],
   "source": [
    "query = db.select(Student).where(Student.columns.Pass == True)\n",
    "output = conn.execute(query)\n",
    "print(output.fetchall())"
   ]
  },
  {
   "cell_type": "code",
   "execution_count": 10,
   "metadata": {},
   "outputs": [
    {
     "name": "stdout",
     "output_type": "stream",
     "text": [
      "[(4, 'Ben', 'English', False)]\n"
     ]
    }
   ],
   "source": [
    "query = Student.select().where(db.and_(Student.columns.Major == 'English', Student.columns.Pass != True))\n",
    "output = conn.execute(query)\n",
    "print(output.fetchall())"
   ]
  },
  {
   "cell_type": "code",
   "execution_count": 11,
   "metadata": {},
   "outputs": [
    {
     "name": "stdout",
     "output_type": "stream",
     "text": [
      "[(1, 'Matthew', 'English', True), (3, 'Natasha', 'Math', True), (4, 'Ben', 'English', False)]\n"
     ]
    }
   ],
   "source": [
    "query = Student.select().where(Student.columns.Major.in_(['English','Math']))\n",
    "output = conn.execute(query)\n",
    "print(output.fetchall())"
   ]
  },
  {
   "cell_type": "markdown",
   "metadata": {},
   "source": [
    "## To Pandas DF"
   ]
  },
  {
   "cell_type": "code",
   "execution_count": 17,
   "metadata": {},
   "outputs": [],
   "source": [
    "query = Student.select().where(Student.columns.Major.in_(['English','Math']))\n",
    "output = conn.execute(query)\n",
    "results = output.fetchall()"
   ]
  },
  {
   "cell_type": "code",
   "execution_count": 18,
   "metadata": {},
   "outputs": [
    {
     "data": {
      "text/plain": [
       "[(1, 'Matthew', 'English', True),\n",
       " (3, 'Natasha', 'Math', True),\n",
       " (4, 'Ben', 'English', False)]"
      ]
     },
     "execution_count": 18,
     "metadata": {},
     "output_type": "execute_result"
    }
   ],
   "source": [
    "results"
   ]
  },
  {
   "cell_type": "code",
   "execution_count": 19,
   "metadata": {},
   "outputs": [
    {
     "data": {
      "text/plain": [
       "RMKeyView(['Id', 'Name', 'Major', 'Pass'])"
      ]
     },
     "execution_count": 19,
     "metadata": {},
     "output_type": "execute_result"
    }
   ],
   "source": [
    "output.keys()"
   ]
  },
  {
   "cell_type": "code",
   "execution_count": 20,
   "metadata": {},
   "outputs": [
    {
     "data": {
      "text/html": [
       "<div>\n",
       "<style scoped>\n",
       "    .dataframe tbody tr th:only-of-type {\n",
       "        vertical-align: middle;\n",
       "    }\n",
       "\n",
       "    .dataframe tbody tr th {\n",
       "        vertical-align: top;\n",
       "    }\n",
       "\n",
       "    .dataframe thead th {\n",
       "        text-align: right;\n",
       "    }\n",
       "</style>\n",
       "<table border=\"1\" class=\"dataframe\">\n",
       "  <thead>\n",
       "    <tr style=\"text-align: right;\">\n",
       "      <th></th>\n",
       "      <th>Id</th>\n",
       "      <th>Name</th>\n",
       "      <th>Major</th>\n",
       "      <th>Pass</th>\n",
       "    </tr>\n",
       "  </thead>\n",
       "  <tbody>\n",
       "    <tr>\n",
       "      <th>0</th>\n",
       "      <td>1</td>\n",
       "      <td>Matthew</td>\n",
       "      <td>English</td>\n",
       "      <td>True</td>\n",
       "    </tr>\n",
       "    <tr>\n",
       "      <th>1</th>\n",
       "      <td>3</td>\n",
       "      <td>Natasha</td>\n",
       "      <td>Math</td>\n",
       "      <td>True</td>\n",
       "    </tr>\n",
       "    <tr>\n",
       "      <th>2</th>\n",
       "      <td>4</td>\n",
       "      <td>Ben</td>\n",
       "      <td>English</td>\n",
       "      <td>False</td>\n",
       "    </tr>\n",
       "  </tbody>\n",
       "</table>\n",
       "</div>"
      ],
      "text/plain": [
       "   Id     Name    Major   Pass\n",
       "0   1  Matthew  English   True\n",
       "1   3  Natasha     Math   True\n",
       "2   4      Ben  English  False"
      ]
     },
     "execution_count": 20,
     "metadata": {},
     "output_type": "execute_result"
    }
   ],
   "source": [
    "import pandas as pd\n",
    "data = pd.DataFrame(results)\n",
    "\n",
    "# Set the DataFrame columns using the keys from the first row\n",
    "data.columns = output.keys()\n",
    "(data)"
   ]
  },
  {
   "cell_type": "code",
   "execution_count": 21,
   "metadata": {},
   "outputs": [
    {
     "name": "stdout",
     "output_type": "stream",
     "text": [
      "Columns in 'divisions' table:\n",
      "division: TEXT\n",
      "name: TEXT\n",
      "country: TEXT\n",
      "\n",
      "Columns in 'matchs' table:\n",
      "Div: TEXT\n",
      "Date: DATE\n",
      "HomeTeam: TEXT\n",
      "AwayTeam: TEXT\n",
      "FTHG: REAL\n",
      "FTAG: REAL\n",
      "FTR: TEXT\n",
      "season: INTEGER\n"
     ]
    }
   ],
   "source": [
    "engine = db.create_engine(\"sqlite:///european_database.sqlite\")\n",
    "conn = engine.connect()\n",
    "metadata = db.MetaData()\n",
    "division = db.Table('divisions', metadata, autoload_with=engine)\n",
    "match = db.Table('matchs', metadata, autoload_with=engine)\n",
    "\n",
    "# Verify the tables by printing their columns\n",
    "print(\"Columns in 'divisions' table:\")\n",
    "for column in division.columns:\n",
    "    print(f\"{column.name}: {column.type}\")\n",
    "\n",
    "print(\"\\nColumns in 'matchs' table:\")\n",
    "for column in match.columns:\n",
    "    print(f\"{column.name}: {column.type}\")"
   ]
  },
  {
   "cell_type": "code",
   "execution_count": null,
   "metadata": {
    "vscode": {
     "languageId": "sql"
    }
   },
   "outputs": [],
   "source": [
    "select *\n",
    "from division\n",
    "join match on division.division = match.div\n",
    "where division.division = 'E1' and match.season = 2009\n",
    "order by match.hometeam;"
   ]
  },
  {
   "cell_type": "code",
   "execution_count": 23,
   "metadata": {},
   "outputs": [
    {
     "name": "stdout",
     "output_type": "stream",
     "text": [
      "SELECT divisions.division, divisions.name, divisions.country, matchs.\"Div\", matchs.\"Date\", matchs.\"HomeTeam\", matchs.\"AwayTeam\", matchs.\"FTHG\", matchs.\"FTAG\", matchs.\"FTR\", matchs.season \n",
      "FROM divisions JOIN matchs ON divisions.division = matchs.\"Div\" \n",
      "WHERE divisions.division = :division_1 AND matchs.season = :season_1 ORDER BY matchs.\"HomeTeam\"\n"
     ]
    }
   ],
   "source": [
    "print(query)"
   ]
  },
  {
   "cell_type": "code",
   "execution_count": 24,
   "metadata": {},
   "outputs": [
    {
     "data": {
      "text/html": [
       "<div>\n",
       "<style scoped>\n",
       "    .dataframe tbody tr th:only-of-type {\n",
       "        vertical-align: middle;\n",
       "    }\n",
       "\n",
       "    .dataframe tbody tr th {\n",
       "        vertical-align: top;\n",
       "    }\n",
       "\n",
       "    .dataframe thead th {\n",
       "        text-align: right;\n",
       "    }\n",
       "</style>\n",
       "<table border=\"1\" class=\"dataframe\">\n",
       "  <thead>\n",
       "    <tr style=\"text-align: right;\">\n",
       "      <th></th>\n",
       "      <th>division</th>\n",
       "      <th>name</th>\n",
       "      <th>country</th>\n",
       "      <th>Div</th>\n",
       "      <th>Date</th>\n",
       "      <th>HomeTeam</th>\n",
       "      <th>AwayTeam</th>\n",
       "      <th>FTHG</th>\n",
       "      <th>FTAG</th>\n",
       "      <th>FTR</th>\n",
       "      <th>season</th>\n",
       "    </tr>\n",
       "  </thead>\n",
       "  <tbody>\n",
       "    <tr>\n",
       "      <th>0</th>\n",
       "      <td>E1</td>\n",
       "      <td>EFL Championship</td>\n",
       "      <td>England</td>\n",
       "      <td>E1</td>\n",
       "      <td>2008-08-16</td>\n",
       "      <td>Barnsley</td>\n",
       "      <td>Coventry</td>\n",
       "      <td>1.0</td>\n",
       "      <td>2.0</td>\n",
       "      <td>A</td>\n",
       "      <td>2009</td>\n",
       "    </tr>\n",
       "    <tr>\n",
       "      <th>1</th>\n",
       "      <td>E1</td>\n",
       "      <td>EFL Championship</td>\n",
       "      <td>England</td>\n",
       "      <td>E1</td>\n",
       "      <td>2008-08-30</td>\n",
       "      <td>Barnsley</td>\n",
       "      <td>Derby</td>\n",
       "      <td>2.0</td>\n",
       "      <td>0.0</td>\n",
       "      <td>H</td>\n",
       "      <td>2009</td>\n",
       "    </tr>\n",
       "    <tr>\n",
       "      <th>2</th>\n",
       "      <td>E1</td>\n",
       "      <td>EFL Championship</td>\n",
       "      <td>England</td>\n",
       "      <td>E1</td>\n",
       "      <td>2008-09-16</td>\n",
       "      <td>Barnsley</td>\n",
       "      <td>Cardiff</td>\n",
       "      <td>0.0</td>\n",
       "      <td>1.0</td>\n",
       "      <td>A</td>\n",
       "      <td>2009</td>\n",
       "    </tr>\n",
       "    <tr>\n",
       "      <th>3</th>\n",
       "      <td>E1</td>\n",
       "      <td>EFL Championship</td>\n",
       "      <td>England</td>\n",
       "      <td>E1</td>\n",
       "      <td>2008-09-27</td>\n",
       "      <td>Barnsley</td>\n",
       "      <td>Norwich</td>\n",
       "      <td>0.0</td>\n",
       "      <td>0.0</td>\n",
       "      <td>D</td>\n",
       "      <td>2009</td>\n",
       "    </tr>\n",
       "    <tr>\n",
       "      <th>4</th>\n",
       "      <td>E1</td>\n",
       "      <td>EFL Championship</td>\n",
       "      <td>England</td>\n",
       "      <td>E1</td>\n",
       "      <td>2008-10-04</td>\n",
       "      <td>Barnsley</td>\n",
       "      <td>Doncaster</td>\n",
       "      <td>4.0</td>\n",
       "      <td>1.0</td>\n",
       "      <td>H</td>\n",
       "      <td>2009</td>\n",
       "    </tr>\n",
       "    <tr>\n",
       "      <th>...</th>\n",
       "      <td>...</td>\n",
       "      <td>...</td>\n",
       "      <td>...</td>\n",
       "      <td>...</td>\n",
       "      <td>...</td>\n",
       "      <td>...</td>\n",
       "      <td>...</td>\n",
       "      <td>...</td>\n",
       "      <td>...</td>\n",
       "      <td>...</td>\n",
       "      <td>...</td>\n",
       "    </tr>\n",
       "    <tr>\n",
       "      <th>547</th>\n",
       "      <td>E1</td>\n",
       "      <td>EFL Championship</td>\n",
       "      <td>England</td>\n",
       "      <td>E1</td>\n",
       "      <td>2009-03-10</td>\n",
       "      <td>Wolves</td>\n",
       "      <td>Ipswich</td>\n",
       "      <td>0.0</td>\n",
       "      <td>0.0</td>\n",
       "      <td>D</td>\n",
       "      <td>2009</td>\n",
       "    </tr>\n",
       "    <tr>\n",
       "      <th>548</th>\n",
       "      <td>E1</td>\n",
       "      <td>EFL Championship</td>\n",
       "      <td>England</td>\n",
       "      <td>E1</td>\n",
       "      <td>2009-03-14</td>\n",
       "      <td>Wolves</td>\n",
       "      <td>Charlton</td>\n",
       "      <td>2.0</td>\n",
       "      <td>1.0</td>\n",
       "      <td>H</td>\n",
       "      <td>2009</td>\n",
       "    </tr>\n",
       "    <tr>\n",
       "      <th>549</th>\n",
       "      <td>E1</td>\n",
       "      <td>EFL Championship</td>\n",
       "      <td>England</td>\n",
       "      <td>E1</td>\n",
       "      <td>2009-04-10</td>\n",
       "      <td>Wolves</td>\n",
       "      <td>Southampton</td>\n",
       "      <td>3.0</td>\n",
       "      <td>0.0</td>\n",
       "      <td>H</td>\n",
       "      <td>2009</td>\n",
       "    </tr>\n",
       "    <tr>\n",
       "      <th>550</th>\n",
       "      <td>E1</td>\n",
       "      <td>EFL Championship</td>\n",
       "      <td>England</td>\n",
       "      <td>E1</td>\n",
       "      <td>2009-04-18</td>\n",
       "      <td>Wolves</td>\n",
       "      <td>QPR</td>\n",
       "      <td>1.0</td>\n",
       "      <td>0.0</td>\n",
       "      <td>H</td>\n",
       "      <td>2009</td>\n",
       "    </tr>\n",
       "    <tr>\n",
       "      <th>551</th>\n",
       "      <td>E1</td>\n",
       "      <td>EFL Championship</td>\n",
       "      <td>England</td>\n",
       "      <td>E1</td>\n",
       "      <td>2009-05-03</td>\n",
       "      <td>Wolves</td>\n",
       "      <td>Doncaster</td>\n",
       "      <td>1.0</td>\n",
       "      <td>0.0</td>\n",
       "      <td>H</td>\n",
       "      <td>2009</td>\n",
       "    </tr>\n",
       "  </tbody>\n",
       "</table>\n",
       "<p>552 rows × 11 columns</p>\n",
       "</div>"
      ],
      "text/plain": [
       "    division              name  country Div        Date  HomeTeam  \\\n",
       "0         E1  EFL Championship  England  E1  2008-08-16  Barnsley   \n",
       "1         E1  EFL Championship  England  E1  2008-08-30  Barnsley   \n",
       "2         E1  EFL Championship  England  E1  2008-09-16  Barnsley   \n",
       "3         E1  EFL Championship  England  E1  2008-09-27  Barnsley   \n",
       "4         E1  EFL Championship  England  E1  2008-10-04  Barnsley   \n",
       "..       ...               ...      ...  ..         ...       ...   \n",
       "547       E1  EFL Championship  England  E1  2009-03-10    Wolves   \n",
       "548       E1  EFL Championship  England  E1  2009-03-14    Wolves   \n",
       "549       E1  EFL Championship  England  E1  2009-04-10    Wolves   \n",
       "550       E1  EFL Championship  England  E1  2009-04-18    Wolves   \n",
       "551       E1  EFL Championship  England  E1  2009-05-03    Wolves   \n",
       "\n",
       "        AwayTeam  FTHG  FTAG FTR  season  \n",
       "0       Coventry   1.0   2.0   A    2009  \n",
       "1          Derby   2.0   0.0   H    2009  \n",
       "2        Cardiff   0.0   1.0   A    2009  \n",
       "3        Norwich   0.0   0.0   D    2009  \n",
       "4      Doncaster   4.0   1.0   H    2009  \n",
       "..           ...   ...   ...  ..     ...  \n",
       "547      Ipswich   0.0   0.0   D    2009  \n",
       "548     Charlton   2.0   1.0   H    2009  \n",
       "549  Southampton   3.0   0.0   H    2009  \n",
       "550          QPR   1.0   0.0   H    2009  \n",
       "551    Doncaster   1.0   0.0   H    2009  \n",
       "\n",
       "[552 rows x 11 columns]"
      ]
     },
     "execution_count": 24,
     "metadata": {},
     "output_type": "execute_result"
    }
   ],
   "source": [
    "#  Create a query to join the tables and filter the results\n",
    "query = db.select(\n",
    "    division, match\n",
    ").select_from(\n",
    "    division.join(match, division.c.division == match.c.Div)\n",
    ").where(\n",
    "    db.and_(division.c.division == \"E1\", match.c.season == 2009)\n",
    ").order_by(\n",
    "    match.c.HomeTeam\n",
    ")\n",
    "\n",
    "# Execute the query\n",
    "output = conn.execute(query)\n",
    "results = output.fetchall()\n",
    "\n",
    "# Convert the results to a DataFrame\n",
    "data = pd.DataFrame(results)\n",
    "data.columns = output.keys()\n",
    "(data)"
   ]
  },
  {
   "cell_type": "code",
   "execution_count": 30,
   "metadata": {},
   "outputs": [
    {
     "data": {
      "text/html": [
       "<div>\n",
       "<style scoped>\n",
       "    .dataframe tbody tr th:only-of-type {\n",
       "        vertical-align: middle;\n",
       "    }\n",
       "\n",
       "    .dataframe tbody tr th {\n",
       "        vertical-align: top;\n",
       "    }\n",
       "\n",
       "    .dataframe thead th {\n",
       "        text-align: right;\n",
       "    }\n",
       "</style>\n",
       "<table border=\"1\" class=\"dataframe\">\n",
       "  <thead>\n",
       "    <tr style=\"text-align: right;\">\n",
       "      <th></th>\n",
       "      <th>Div</th>\n",
       "      <th>Date</th>\n",
       "      <th>HomeTeam</th>\n",
       "      <th>AwayTeam</th>\n",
       "      <th>FTHG</th>\n",
       "      <th>FTAG</th>\n",
       "      <th>FTR</th>\n",
       "      <th>season</th>\n",
       "    </tr>\n",
       "  </thead>\n",
       "  <tbody>\n",
       "    <tr>\n",
       "      <th>0</th>\n",
       "      <td>B1</td>\n",
       "      <td>2020-08-08</td>\n",
       "      <td>Club Brugge</td>\n",
       "      <td>Charleroi</td>\n",
       "      <td>0.0</td>\n",
       "      <td>1.0</td>\n",
       "      <td>A</td>\n",
       "      <td>2021</td>\n",
       "    </tr>\n",
       "    <tr>\n",
       "      <th>1</th>\n",
       "      <td>B1</td>\n",
       "      <td>2020-08-08</td>\n",
       "      <td>Antwerp</td>\n",
       "      <td>Mouscron</td>\n",
       "      <td>1.0</td>\n",
       "      <td>1.0</td>\n",
       "      <td>D</td>\n",
       "      <td>2021</td>\n",
       "    </tr>\n",
       "    <tr>\n",
       "      <th>2</th>\n",
       "      <td>B1</td>\n",
       "      <td>2020-08-08</td>\n",
       "      <td>Standard</td>\n",
       "      <td>Cercle Brugge</td>\n",
       "      <td>1.0</td>\n",
       "      <td>0.0</td>\n",
       "      <td>H</td>\n",
       "      <td>2021</td>\n",
       "    </tr>\n",
       "    <tr>\n",
       "      <th>3</th>\n",
       "      <td>B1</td>\n",
       "      <td>2020-08-09</td>\n",
       "      <td>St Truiden</td>\n",
       "      <td>Gent</td>\n",
       "      <td>2.0</td>\n",
       "      <td>1.0</td>\n",
       "      <td>H</td>\n",
       "      <td>2021</td>\n",
       "    </tr>\n",
       "    <tr>\n",
       "      <th>4</th>\n",
       "      <td>B1</td>\n",
       "      <td>2020-08-09</td>\n",
       "      <td>Waregem</td>\n",
       "      <td>Genk</td>\n",
       "      <td>1.0</td>\n",
       "      <td>2.0</td>\n",
       "      <td>A</td>\n",
       "      <td>2021</td>\n",
       "    </tr>\n",
       "    <tr>\n",
       "      <th>...</th>\n",
       "      <td>...</td>\n",
       "      <td>...</td>\n",
       "      <td>...</td>\n",
       "      <td>...</td>\n",
       "      <td>...</td>\n",
       "      <td>...</td>\n",
       "      <td>...</td>\n",
       "      <td>...</td>\n",
       "    </tr>\n",
       "    <tr>\n",
       "      <th>123399</th>\n",
       "      <td>T1</td>\n",
       "      <td>2006-05-14</td>\n",
       "      <td>Galatasaray</td>\n",
       "      <td>Kayserispor</td>\n",
       "      <td>3.0</td>\n",
       "      <td>0.0</td>\n",
       "      <td>H</td>\n",
       "      <td>2006</td>\n",
       "    </tr>\n",
       "    <tr>\n",
       "      <th>123400</th>\n",
       "      <td>T1</td>\n",
       "      <td>2006-05-14</td>\n",
       "      <td>Gaziantepspor</td>\n",
       "      <td>Malatyaspor</td>\n",
       "      <td>1.0</td>\n",
       "      <td>0.0</td>\n",
       "      <td>H</td>\n",
       "      <td>2006</td>\n",
       "    </tr>\n",
       "    <tr>\n",
       "      <th>123401</th>\n",
       "      <td>T1</td>\n",
       "      <td>2006-05-14</td>\n",
       "      <td>Genclerbirligi</td>\n",
       "      <td>Rizespor</td>\n",
       "      <td>1.0</td>\n",
       "      <td>3.0</td>\n",
       "      <td>A</td>\n",
       "      <td>2006</td>\n",
       "    </tr>\n",
       "    <tr>\n",
       "      <th>123402</th>\n",
       "      <td>T1</td>\n",
       "      <td>2006-05-14</td>\n",
       "      <td>Samsunspor</td>\n",
       "      <td>Diyarbakirspor</td>\n",
       "      <td>1.0</td>\n",
       "      <td>0.0</td>\n",
       "      <td>H</td>\n",
       "      <td>2006</td>\n",
       "    </tr>\n",
       "    <tr>\n",
       "      <th>123403</th>\n",
       "      <td>T1</td>\n",
       "      <td>2006-05-14</td>\n",
       "      <td>Trabzonspor</td>\n",
       "      <td>Besiktas</td>\n",
       "      <td>1.0</td>\n",
       "      <td>2.0</td>\n",
       "      <td>A</td>\n",
       "      <td>2006</td>\n",
       "    </tr>\n",
       "  </tbody>\n",
       "</table>\n",
       "<p>123404 rows × 8 columns</p>\n",
       "</div>"
      ],
      "text/plain": [
       "       Div        Date        HomeTeam        AwayTeam  FTHG  FTAG FTR  season\n",
       "0       B1  2020-08-08     Club Brugge       Charleroi   0.0   1.0   A    2021\n",
       "1       B1  2020-08-08         Antwerp        Mouscron   1.0   1.0   D    2021\n",
       "2       B1  2020-08-08        Standard   Cercle Brugge   1.0   0.0   H    2021\n",
       "3       B1  2020-08-09      St Truiden            Gent   2.0   1.0   H    2021\n",
       "4       B1  2020-08-09         Waregem            Genk   1.0   2.0   A    2021\n",
       "...     ..         ...             ...             ...   ...   ...  ..     ...\n",
       "123399  T1  2006-05-14     Galatasaray     Kayserispor   3.0   0.0   H    2006\n",
       "123400  T1  2006-05-14   Gaziantepspor     Malatyaspor   1.0   0.0   H    2006\n",
       "123401  T1  2006-05-14  Genclerbirligi        Rizespor   1.0   3.0   A    2006\n",
       "123402  T1  2006-05-14      Samsunspor  Diyarbakirspor   1.0   0.0   H    2006\n",
       "123403  T1  2006-05-14     Trabzonspor        Besiktas   1.0   2.0   A    2006\n",
       "\n",
       "[123404 rows x 8 columns]"
      ]
     },
     "execution_count": 30,
     "metadata": {},
     "output_type": "execute_result"
    }
   ],
   "source": [
    "import sqlalchemy as db\n",
    "from sqlalchemy.sql import text\n",
    "import pandas as pd\n",
    "\n",
    "# Create the engine\n",
    "engine = db.create_engine(\"sqlite:///european_database.sqlite\")\n",
    "\n",
    "# Connect to the engine\n",
    "conn = engine.connect()\n",
    "\n",
    "# Execute a raw SQL query to select all columns from 'matchs' table where HomeTeam is 'Norwich'\n",
    "query = text(\"SELECT * FROM matchs\")\n",
    "output = conn.execute(query)\n",
    "results = output.fetchall()\n",
    "\n",
    "# Convert the results to a DataFrame\n",
    "data = pd.DataFrame(results)\n",
    "data.columns = output.keys()\n",
    "\n",
    "# Save the DataFrame to a CSV file\n",
    "data.to_csv('results.csv', index=False)\n",
    "\n",
    "# Print the DataFrame to verify\n",
    "(data)"
   ]
  },
  {
   "cell_type": "code",
   "execution_count": 28,
   "metadata": {},
   "outputs": [
    {
     "data": {
      "text/html": [
       "<div>\n",
       "<style scoped>\n",
       "    .dataframe tbody tr th:only-of-type {\n",
       "        vertical-align: middle;\n",
       "    }\n",
       "\n",
       "    .dataframe tbody tr th {\n",
       "        vertical-align: top;\n",
       "    }\n",
       "\n",
       "    .dataframe thead th {\n",
       "        text-align: right;\n",
       "    }\n",
       "</style>\n",
       "<table border=\"1\" class=\"dataframe\">\n",
       "  <thead>\n",
       "    <tr style=\"text-align: right;\">\n",
       "      <th></th>\n",
       "      <th>Div</th>\n",
       "      <th>Date</th>\n",
       "      <th>HomeTeam</th>\n",
       "      <th>AwayTeam</th>\n",
       "      <th>FTHG</th>\n",
       "      <th>FTAG</th>\n",
       "      <th>FTR</th>\n",
       "      <th>season</th>\n",
       "    </tr>\n",
       "  </thead>\n",
       "  <tbody>\n",
       "    <tr>\n",
       "      <th>0</th>\n",
       "      <td>E1</td>\n",
       "      <td>2020-09-19</td>\n",
       "      <td>Norwich</td>\n",
       "      <td>Preston</td>\n",
       "      <td>2.0</td>\n",
       "      <td>2.0</td>\n",
       "      <td>D</td>\n",
       "      <td>2021</td>\n",
       "    </tr>\n",
       "    <tr>\n",
       "      <th>1</th>\n",
       "      <td>E1</td>\n",
       "      <td>2020-10-03</td>\n",
       "      <td>Norwich</td>\n",
       "      <td>Derby</td>\n",
       "      <td>0.0</td>\n",
       "      <td>1.0</td>\n",
       "      <td>A</td>\n",
       "      <td>2021</td>\n",
       "    </tr>\n",
       "    <tr>\n",
       "      <th>2</th>\n",
       "      <td>E1</td>\n",
       "      <td>2020-10-20</td>\n",
       "      <td>Norwich</td>\n",
       "      <td>Birmingham</td>\n",
       "      <td>1.0</td>\n",
       "      <td>0.0</td>\n",
       "      <td>H</td>\n",
       "      <td>2021</td>\n",
       "    </tr>\n",
       "    <tr>\n",
       "      <th>3</th>\n",
       "      <td>E1</td>\n",
       "      <td>2020-10-24</td>\n",
       "      <td>Norwich</td>\n",
       "      <td>Wycombe</td>\n",
       "      <td>2.0</td>\n",
       "      <td>1.0</td>\n",
       "      <td>H</td>\n",
       "      <td>2021</td>\n",
       "    </tr>\n",
       "    <tr>\n",
       "      <th>4</th>\n",
       "      <td>E1</td>\n",
       "      <td>2020-11-03</td>\n",
       "      <td>Norwich</td>\n",
       "      <td>Millwall</td>\n",
       "      <td>0.0</td>\n",
       "      <td>0.0</td>\n",
       "      <td>D</td>\n",
       "      <td>2021</td>\n",
       "    </tr>\n",
       "    <tr>\n",
       "      <th>...</th>\n",
       "      <td>...</td>\n",
       "      <td>...</td>\n",
       "      <td>...</td>\n",
       "      <td>...</td>\n",
       "      <td>...</td>\n",
       "      <td>...</td>\n",
       "      <td>...</td>\n",
       "      <td>...</td>\n",
       "    </tr>\n",
       "    <tr>\n",
       "      <th>343</th>\n",
       "      <td>E1</td>\n",
       "      <td>2006-03-04</td>\n",
       "      <td>Norwich</td>\n",
       "      <td>Stoke</td>\n",
       "      <td>2.0</td>\n",
       "      <td>1.0</td>\n",
       "      <td>H</td>\n",
       "      <td>2006</td>\n",
       "    </tr>\n",
       "    <tr>\n",
       "      <th>344</th>\n",
       "      <td>E1</td>\n",
       "      <td>2006-03-18</td>\n",
       "      <td>Norwich</td>\n",
       "      <td>Sheffield United</td>\n",
       "      <td>2.0</td>\n",
       "      <td>1.0</td>\n",
       "      <td>H</td>\n",
       "      <td>2006</td>\n",
       "    </tr>\n",
       "    <tr>\n",
       "      <th>345</th>\n",
       "      <td>E1</td>\n",
       "      <td>2006-04-01</td>\n",
       "      <td>Norwich</td>\n",
       "      <td>Leicester</td>\n",
       "      <td>2.0</td>\n",
       "      <td>1.0</td>\n",
       "      <td>H</td>\n",
       "      <td>2006</td>\n",
       "    </tr>\n",
       "    <tr>\n",
       "      <th>346</th>\n",
       "      <td>E1</td>\n",
       "      <td>2006-04-17</td>\n",
       "      <td>Norwich</td>\n",
       "      <td>QPR</td>\n",
       "      <td>3.0</td>\n",
       "      <td>2.0</td>\n",
       "      <td>H</td>\n",
       "      <td>2006</td>\n",
       "    </tr>\n",
       "    <tr>\n",
       "      <th>347</th>\n",
       "      <td>E1</td>\n",
       "      <td>2006-04-30</td>\n",
       "      <td>Norwich</td>\n",
       "      <td>Wolves</td>\n",
       "      <td>1.0</td>\n",
       "      <td>2.0</td>\n",
       "      <td>A</td>\n",
       "      <td>2006</td>\n",
       "    </tr>\n",
       "  </tbody>\n",
       "</table>\n",
       "<p>348 rows × 8 columns</p>\n",
       "</div>"
      ],
      "text/plain": [
       "    Div        Date HomeTeam          AwayTeam  FTHG  FTAG FTR  season\n",
       "0    E1  2020-09-19  Norwich           Preston   2.0   2.0   D    2021\n",
       "1    E1  2020-10-03  Norwich             Derby   0.0   1.0   A    2021\n",
       "2    E1  2020-10-20  Norwich        Birmingham   1.0   0.0   H    2021\n",
       "3    E1  2020-10-24  Norwich           Wycombe   2.0   1.0   H    2021\n",
       "4    E1  2020-11-03  Norwich          Millwall   0.0   0.0   D    2021\n",
       "..   ..         ...      ...               ...   ...   ...  ..     ...\n",
       "343  E1  2006-03-04  Norwich             Stoke   2.0   1.0   H    2006\n",
       "344  E1  2006-03-18  Norwich  Sheffield United   2.0   1.0   H    2006\n",
       "345  E1  2006-04-01  Norwich         Leicester   2.0   1.0   H    2006\n",
       "346  E1  2006-04-17  Norwich               QPR   3.0   2.0   H    2006\n",
       "347  E1  2006-04-30  Norwich            Wolves   1.0   2.0   A    2006\n",
       "\n",
       "[348 rows x 8 columns]"
      ]
     },
     "execution_count": 28,
     "metadata": {},
     "output_type": "execute_result"
    }
   ],
   "source": [
    "data = pd.read_sql(\"SELECT * FROM matchs WHERE HomeTeam LIKE 'Norwich'\", conn)\n",
    "data"
   ]
  },
  {
   "cell_type": "code",
   "execution_count": 29,
   "metadata": {},
   "outputs": [
    {
     "data": {
      "text/html": [
       "<div>\n",
       "<style scoped>\n",
       "    .dataframe tbody tr th:only-of-type {\n",
       "        vertical-align: middle;\n",
       "    }\n",
       "\n",
       "    .dataframe tbody tr th {\n",
       "        vertical-align: top;\n",
       "    }\n",
       "\n",
       "    .dataframe thead th {\n",
       "        text-align: right;\n",
       "    }\n",
       "</style>\n",
       "<table border=\"1\" class=\"dataframe\">\n",
       "  <thead>\n",
       "    <tr style=\"text-align: right;\">\n",
       "      <th></th>\n",
       "      <th>Div</th>\n",
       "      <th>Date</th>\n",
       "      <th>HomeTeam</th>\n",
       "      <th>AwayTeam</th>\n",
       "      <th>FTHG</th>\n",
       "      <th>FTAG</th>\n",
       "      <th>FTR</th>\n",
       "      <th>season</th>\n",
       "    </tr>\n",
       "  </thead>\n",
       "  <tbody>\n",
       "    <tr>\n",
       "      <th>0</th>\n",
       "      <td>B1</td>\n",
       "      <td>2020-08-08</td>\n",
       "      <td>Club Brugge</td>\n",
       "      <td>Charleroi</td>\n",
       "      <td>0.0</td>\n",
       "      <td>1.0</td>\n",
       "      <td>A</td>\n",
       "      <td>2021</td>\n",
       "    </tr>\n",
       "    <tr>\n",
       "      <th>1</th>\n",
       "      <td>B1</td>\n",
       "      <td>2020-08-08</td>\n",
       "      <td>Antwerp</td>\n",
       "      <td>Mouscron</td>\n",
       "      <td>1.0</td>\n",
       "      <td>1.0</td>\n",
       "      <td>D</td>\n",
       "      <td>2021</td>\n",
       "    </tr>\n",
       "    <tr>\n",
       "      <th>2</th>\n",
       "      <td>B1</td>\n",
       "      <td>2020-08-08</td>\n",
       "      <td>Standard</td>\n",
       "      <td>Cercle Brugge</td>\n",
       "      <td>1.0</td>\n",
       "      <td>0.0</td>\n",
       "      <td>H</td>\n",
       "      <td>2021</td>\n",
       "    </tr>\n",
       "    <tr>\n",
       "      <th>3</th>\n",
       "      <td>B1</td>\n",
       "      <td>2020-08-09</td>\n",
       "      <td>St Truiden</td>\n",
       "      <td>Gent</td>\n",
       "      <td>2.0</td>\n",
       "      <td>1.0</td>\n",
       "      <td>H</td>\n",
       "      <td>2021</td>\n",
       "    </tr>\n",
       "    <tr>\n",
       "      <th>4</th>\n",
       "      <td>B1</td>\n",
       "      <td>2020-08-09</td>\n",
       "      <td>Waregem</td>\n",
       "      <td>Genk</td>\n",
       "      <td>1.0</td>\n",
       "      <td>2.0</td>\n",
       "      <td>A</td>\n",
       "      <td>2021</td>\n",
       "    </tr>\n",
       "    <tr>\n",
       "      <th>...</th>\n",
       "      <td>...</td>\n",
       "      <td>...</td>\n",
       "      <td>...</td>\n",
       "      <td>...</td>\n",
       "      <td>...</td>\n",
       "      <td>...</td>\n",
       "      <td>...</td>\n",
       "      <td>...</td>\n",
       "    </tr>\n",
       "    <tr>\n",
       "      <th>123399</th>\n",
       "      <td>T1</td>\n",
       "      <td>2006-05-14</td>\n",
       "      <td>Galatasaray</td>\n",
       "      <td>Kayserispor</td>\n",
       "      <td>3.0</td>\n",
       "      <td>0.0</td>\n",
       "      <td>H</td>\n",
       "      <td>2006</td>\n",
       "    </tr>\n",
       "    <tr>\n",
       "      <th>123400</th>\n",
       "      <td>T1</td>\n",
       "      <td>2006-05-14</td>\n",
       "      <td>Gaziantepspor</td>\n",
       "      <td>Malatyaspor</td>\n",
       "      <td>1.0</td>\n",
       "      <td>0.0</td>\n",
       "      <td>H</td>\n",
       "      <td>2006</td>\n",
       "    </tr>\n",
       "    <tr>\n",
       "      <th>123401</th>\n",
       "      <td>T1</td>\n",
       "      <td>2006-05-14</td>\n",
       "      <td>Genclerbirligi</td>\n",
       "      <td>Rizespor</td>\n",
       "      <td>1.0</td>\n",
       "      <td>3.0</td>\n",
       "      <td>A</td>\n",
       "      <td>2006</td>\n",
       "    </tr>\n",
       "    <tr>\n",
       "      <th>123402</th>\n",
       "      <td>T1</td>\n",
       "      <td>2006-05-14</td>\n",
       "      <td>Samsunspor</td>\n",
       "      <td>Diyarbakirspor</td>\n",
       "      <td>1.0</td>\n",
       "      <td>0.0</td>\n",
       "      <td>H</td>\n",
       "      <td>2006</td>\n",
       "    </tr>\n",
       "    <tr>\n",
       "      <th>123403</th>\n",
       "      <td>T1</td>\n",
       "      <td>2006-05-14</td>\n",
       "      <td>Trabzonspor</td>\n",
       "      <td>Besiktas</td>\n",
       "      <td>1.0</td>\n",
       "      <td>2.0</td>\n",
       "      <td>A</td>\n",
       "      <td>2006</td>\n",
       "    </tr>\n",
       "  </tbody>\n",
       "</table>\n",
       "<p>123404 rows × 8 columns</p>\n",
       "</div>"
      ],
      "text/plain": [
       "       Div       Date        HomeTeam        AwayTeam  FTHG  FTAG FTR  season\n",
       "0       B1 2020-08-08     Club Brugge       Charleroi   0.0   1.0   A    2021\n",
       "1       B1 2020-08-08         Antwerp        Mouscron   1.0   1.0   D    2021\n",
       "2       B1 2020-08-08        Standard   Cercle Brugge   1.0   0.0   H    2021\n",
       "3       B1 2020-08-09      St Truiden            Gent   2.0   1.0   H    2021\n",
       "4       B1 2020-08-09         Waregem            Genk   1.0   2.0   A    2021\n",
       "...     ..        ...             ...             ...   ...   ...  ..     ...\n",
       "123399  T1 2006-05-14     Galatasaray     Kayserispor   3.0   0.0   H    2006\n",
       "123400  T1 2006-05-14   Gaziantepspor     Malatyaspor   1.0   0.0   H    2006\n",
       "123401  T1 2006-05-14  Genclerbirligi        Rizespor   1.0   3.0   A    2006\n",
       "123402  T1 2006-05-14      Samsunspor  Diyarbakirspor   1.0   0.0   H    2006\n",
       "123403  T1 2006-05-14     Trabzonspor        Besiktas   1.0   2.0   A    2006\n",
       "\n",
       "[123404 rows x 8 columns]"
      ]
     },
     "execution_count": 29,
     "metadata": {},
     "output_type": "execute_result"
    }
   ],
   "source": [
    "data = pd.read_sql_table(\"matchs\", conn)\n",
    "data"
   ]
  },
  {
   "cell_type": "code",
   "execution_count": 24,
   "metadata": {},
   "outputs": [],
   "source": [
    "data.to_csv(\"SQl_result.csv\",index=False)"
   ]
  },
  {
   "cell_type": "code",
   "execution_count": null,
   "metadata": {},
   "outputs": [],
   "source": []
  }
 ],
 "metadata": {
  "kernelspec": {
   "display_name": ".venv",
   "language": "python",
   "name": "python3"
  },
  "language_info": {
   "codemirror_mode": {
    "name": "ipython",
    "version": 3
   },
   "file_extension": ".py",
   "mimetype": "text/x-python",
   "name": "python",
   "nbconvert_exporter": "python",
   "pygments_lexer": "ipython3",
   "version": "3.11.6"
  }
 },
 "nbformat": 4,
 "nbformat_minor": 2
}
